{
 "cells": [
  {
   "cell_type": "code",
   "execution_count": 153,
   "id": "fefc81f3",
   "metadata": {},
   "outputs": [],
   "source": [
    "import pandas as pd\n",
    "import matplotlib.pyplot as plt\n",
    "import yfinance as yf\n",
    "import seaborn as sns\n",
    "import numpy as np\n",
    "\n",
    "sns.set_style()"
   ]
  },
  {
   "cell_type": "code",
   "execution_count": 6,
   "id": "29465b1d",
   "metadata": {},
   "outputs": [],
   "source": [
    "spy_ticker = yf.Ticker('SPY') # SP500\n",
    "ibb_ticker = yf.Ticker('IBB') # iShares NASDAQ Biotechnology ETF\n",
    "gbio_ticker = yf.Ticker('GBIO')"
   ]
  },
  {
   "cell_type": "code",
   "execution_count": 161,
   "id": "f578a7b0",
   "metadata": {},
   "outputs": [],
   "source": [
    "spy = spy_ticker.history(period = '6mo')\n",
    "ibb = ibb_ticker.history(period = '6mo')\n",
    "gbio = gbio_ticker.history(period = '6mo')"
   ]
  },
  {
   "cell_type": "code",
   "execution_count": 9,
   "id": "1240e6a8",
   "metadata": {},
   "outputs": [
    {
     "data": {
      "text/plain": [
       "Index(['Open', 'High', 'Low', 'Close', 'Volume', 'Dividends', 'Stock Splits'], dtype='object')"
      ]
     },
     "execution_count": 9,
     "metadata": {},
     "output_type": "execute_result"
    }
   ],
   "source": [
    "spy.columns"
   ]
  },
  {
   "cell_type": "code",
   "execution_count": 132,
   "id": "6fc90982",
   "metadata": {},
   "outputs": [
    {
     "data": {
      "text/html": [
       "<div>\n",
       "<style scoped>\n",
       "    .dataframe tbody tr th:only-of-type {\n",
       "        vertical-align: middle;\n",
       "    }\n",
       "\n",
       "    .dataframe tbody tr th {\n",
       "        vertical-align: top;\n",
       "    }\n",
       "\n",
       "    .dataframe thead th {\n",
       "        text-align: right;\n",
       "    }\n",
       "</style>\n",
       "<table border=\"1\" class=\"dataframe\">\n",
       "  <thead>\n",
       "    <tr style=\"text-align: right;\">\n",
       "      <th></th>\n",
       "      <th>Open</th>\n",
       "      <th>High</th>\n",
       "      <th>Low</th>\n",
       "      <th>Close</th>\n",
       "      <th>Volume</th>\n",
       "      <th>Dividends</th>\n",
       "      <th>Stock Splits</th>\n",
       "    </tr>\n",
       "    <tr>\n",
       "      <th>Date</th>\n",
       "      <th></th>\n",
       "      <th></th>\n",
       "      <th></th>\n",
       "      <th></th>\n",
       "      <th></th>\n",
       "      <th></th>\n",
       "      <th></th>\n",
       "    </tr>\n",
       "  </thead>\n",
       "  <tbody>\n",
       "    <tr>\n",
       "      <th>2022-07-05</th>\n",
       "      <td>375.880005</td>\n",
       "      <td>381.980011</td>\n",
       "      <td>372.899994</td>\n",
       "      <td>381.959991</td>\n",
       "      <td>81438000</td>\n",
       "      <td>0</td>\n",
       "      <td>0</td>\n",
       "    </tr>\n",
       "    <tr>\n",
       "      <th>2022-07-06</th>\n",
       "      <td>382.109985</td>\n",
       "      <td>385.869995</td>\n",
       "      <td>379.600006</td>\n",
       "      <td>383.250000</td>\n",
       "      <td>70426200</td>\n",
       "      <td>0</td>\n",
       "      <td>0</td>\n",
       "    </tr>\n",
       "    <tr>\n",
       "      <th>2022-07-07</th>\n",
       "      <td>385.119995</td>\n",
       "      <td>389.829987</td>\n",
       "      <td>383.269989</td>\n",
       "      <td>388.989990</td>\n",
       "      <td>64525900</td>\n",
       "      <td>0</td>\n",
       "      <td>0</td>\n",
       "    </tr>\n",
       "    <tr>\n",
       "      <th>2022-07-08</th>\n",
       "      <td>387.269989</td>\n",
       "      <td>390.640015</td>\n",
       "      <td>385.660004</td>\n",
       "      <td>388.670013</td>\n",
       "      <td>72397800</td>\n",
       "      <td>0</td>\n",
       "      <td>0</td>\n",
       "    </tr>\n",
       "    <tr>\n",
       "      <th>2022-07-11</th>\n",
       "      <td>385.850006</td>\n",
       "      <td>386.869995</td>\n",
       "      <td>383.500000</td>\n",
       "      <td>384.230011</td>\n",
       "      <td>58366900</td>\n",
       "      <td>0</td>\n",
       "      <td>0</td>\n",
       "    </tr>\n",
       "  </tbody>\n",
       "</table>\n",
       "</div>"
      ],
      "text/plain": [
       "                  Open        High         Low       Close    Volume  \\\n",
       "Date                                                                   \n",
       "2022-07-05  375.880005  381.980011  372.899994  381.959991  81438000   \n",
       "2022-07-06  382.109985  385.869995  379.600006  383.250000  70426200   \n",
       "2022-07-07  385.119995  389.829987  383.269989  388.989990  64525900   \n",
       "2022-07-08  387.269989  390.640015  385.660004  388.670013  72397800   \n",
       "2022-07-11  385.850006  386.869995  383.500000  384.230011  58366900   \n",
       "\n",
       "            Dividends  Stock Splits  \n",
       "Date                                 \n",
       "2022-07-05          0             0  \n",
       "2022-07-06          0             0  \n",
       "2022-07-07          0             0  \n",
       "2022-07-08          0             0  \n",
       "2022-07-11          0             0  "
      ]
     },
     "execution_count": 132,
     "metadata": {},
     "output_type": "execute_result"
    }
   ],
   "source": [
    "spy.head()"
   ]
  },
  {
   "cell_type": "markdown",
   "id": "06de2e6a",
   "metadata": {},
   "source": [
    "# Practice displaying line/ candle chart for securities of interest"
   ]
  },
  {
   "cell_type": "code",
   "execution_count": 55,
   "id": "f8fbce81",
   "metadata": {},
   "outputs": [
    {
     "data": {
      "text/plain": [
       "Text(0.5, 1.0, 'Generation Bio')"
      ]
     },
     "execution_count": 55,
     "metadata": {},
     "output_type": "execute_result"
    },
    {
     "data": {
      "image/png": "[encoded data removed]",
      "text/plain": [
       "<Figure size 864x576 with 3 Axes>"
      ]
     },
     "metadata": {
      "needs_background": "light"
     },
     "output_type": "display_data"
    }
   ],
   "source": [
    "fig, axs = plt.subplots(3, 1, figsize=(12,8), constrained_layout=True)\n",
    "# fig.tight_layout()\n",
    "axs[0].plot(spy['Close'])\n",
    "axs[0].set_title('S&P500 (SPY)')\n",
    "# axs[0].plot([spy.iloc[0]['Close'], spy.iloc[-1]['Close']])\n",
    "axs[1].plot(ibb['Close'])\n",
    "axs[1].set_title('iShares NASDAQ Biotechnology ETF')\n",
    "axs[2].plot(gbio['Close'])\n",
    "axs[2].set_title('Generation Bio')"
   ]
  },
  {
   "cell_type": "code",
   "execution_count": 56,
   "id": "7e4afa87",
   "metadata": {},
   "outputs": [],
   "source": [
    "import plotly.graph_objects as go\n",
    "from plotly.subplots import make_subplots"
   ]
  },
  {
   "cell_type": "code",
   "execution_count": 119,
   "id": "80b0eb41",
   "metadata": {},
   "outputs": [
    {
     "data": {
      "application/vnd.plotly.v1+json": {
       "config": {
        "plotlyServerURL": "https://plot.ly"
       },
       "data": [
        {
         "close": [
          5.880000114440918,
          5.820000171661377,
          5.769999980926514,
          5.650000095367432,
          5.909999847412109,
          5.230000019073486,
          4.909999847412109,
          4.699999809265137,
          4.940000057220459,
          4.789999961853027,
          4.590000152587891,
          4.739999771118164,
          4.46999979019165,
          4.179999828338623,
          4.559999942779541,
          5.059999942779541,
          5.119999885559082,
          4.900000095367432,
          4.78000020980835,
          4.5,
          4.159999847412109,
          4.190000057220459,
          4.329999923706055,
          4.889999866485596,
          4.78000020980835,
          4.460000038146973,
          4.5,
          4.550000190734863,
          5.039999961853027,
          5.590000152587891,
          5.730000019073486,
          5.989999771118164,
          6.510000228881836,
          6.630000114440918,
          6.579999923706055,
          6.699999809265137,
          6.590000152587891,
          7.300000190734863,
          7.190000057220459,
          7.340000152587891,
          8.180000305175781,
          8.75,
          8.869999885559082,
          9.039999961853027,
          8.770000457763672,
          8.760000228881836,
          8.65999984741211,
          8.850000381469727,
          9.260000228881836,
          9.40999984741211,
          7.889999866485596,
          7.269999980926514,
          7.119999885559082,
          6.900000095367432,
          6.679999828338623,
          6.880000114440918,
          6.28000020980835,
          6.190000057220459,
          6.349999904632568,
          6.329999923706055,
          7.019999980926514,
          7,
          7.090000152587891,
          6.440000057220459,
          5.690000057220459,
          5.440000057220459,
          6.039999961853027,
          5.610000133514404,
          5.75,
          6,
          5.710000038146973,
          5.760000228881836,
          5.429999828338623,
          5.139999866485596,
          5.409999847412109,
          5.28000020980835,
          4.869999885559082,
          4.920000076293945,
          4.949999809265137,
          5.420000076293945,
          5.619999885559082,
          5.190000057220459,
          5.369999885559082,
          5.679999828338623,
          5.570000171661377,
          6.329999923706055,
          6.21999979019165,
          6.190000057220459,
          5.690000057220459,
          5.400000095367432,
          5.480000019073486,
          5.840000152587891,
          5.460000038146973,
          6.090000152587891,
          6.699999809265137,
          6.829999923706055,
          7.019999980926514,
          7,
          6.610000133514404,
          6.400000095367432,
          6.619999885559082,
          6.559999942779541,
          6.699999809265137,
          7.070000171661377,
          6.929999828338623,
          7.190000057220459,
          7.380000114440918,
          6.75,
          7,
          7.269999980926514,
          7.079999923706055,
          7.179999828338623,
          6.75,
          6.710000038146973,
          6.949999809265137,
          7.099999904632568,
          6.800000190734863,
          6.699999809265137,
          6.869999885559082,
          6.849999904632568,
          6.579999923706055,
          6.380000114440918,
          6.269999980926514,
          6.380000114440918
         ],
         "high": [
          6.204999923706055,
          6.010000228881836,
          6.059999942779541,
          5.739999771118164,
          5.96999979019165,
          5.949999809265137,
          5.284999847412109,
          5,
          4.96999979019165,
          4.909999847412109,
          4.869999885559082,
          4.929999828338623,
          4.739999771118164,
          4.53000020980835,
          4.590000152587891,
          5.079999923706055,
          5.239999771118164,
          5.199999809265137,
          4.96999979019165,
          4.860000133514404,
          4.53000020980835,
          4.440000057220459,
          4.579999923706055,
          4.929999828338623,
          4.809999942779541,
          4.849999904632568,
          4.769999980926514,
          4.619999885559082,
          5.059999942779541,
          5.599999904632568,
          6,
          6,
          6.519999980926514,
          6.949999809265137,
          6.78000020980835,
          6.75,
          6.800000190734863,
          7.420000076293945,
          7.480000019073486,
          7.400000095367432,
          8.239999771118164,
          8.805000305175781,
          9,
          9.220000267028809,
          9.192000389099121,
          9.1899995803833,
          8.829999923706055,
          9.128999710083008,
          9.59000015258789,
          9.569999694824219,
          9.550000190734863,
          7.96999979019165,
          7.429999828338623,
          7.289999961853027,
          7.150000095367432,
          6.940000057220459,
          7.190000057220459,
          6.380000114440918,
          6.460000038146973,
          6.829999923706055,
          7.050000190734863,
          7.249000072479248,
          7.150000095367432,
          7.53000020980835,
          6.360000133514404,
          5.710000038146973,
          6.360000133514404,
          6.130000114440918,
          5.980000019073486,
          6.130000114440918,
          6.199999809265137,
          6.090000152587891,
          5.650000095367432,
          5.650000095367432,
          5.440000057220459,
          5.730000019073486,
          5.150000095367432,
          4.989999771118164,
          5.130000114440918,
          5.519999980926514,
          5.860000133514404,
          5.840000152587891,
          5.460000038146973,
          5.940000057220459,
          5.849999904632568,
          6.400000095367432,
          6.639999866485596,
          6.329999923706055,
          5.980000019073486,
          5.650000095367432,
          5.510000228881836,
          6.014999866485596,
          5.650000095367432,
          6.315000057220459,
          7.130000114440918,
          7.099999904632568,
          7.460000038146973,
          7.21999979019165,
          8,
          6.710000038146973,
          6.730000019073486,
          6.71999979019165,
          6.840000152587891,
          7.110000133514404,
          7.235000133514404,
          7.21999979019165,
          7.570000171661377,
          7.449999809265137,
          7.099999904632568,
          7.369999885559082,
          7.25,
          7.329999923706055,
          7.519999980926514,
          7.059999942779541,
          7.230000019073486,
          7.139999866485596,
          7.360000133514404,
          6.952000141143799,
          7.010000228881836,
          7.099999904632568,
          6.849999904632568,
          6.590000152587891,
          6.46999979019165,
          6.539999961853027
         ],
         "low": [
          5.800000190734863,
          5.659999847412109,
          5.71999979019165,
          5.510000228881836,
          5.71999979019165,
          5.150000095367432,
          4.78000020980835,
          4.650000095367432,
          4.730000019073486,
          4.71999979019165,
          4.550000190734863,
          4.539999961853027,
          4.429999828338623,
          4.170000076293945,
          3.9600000381469727,
          4.559999942779541,
          4.880000114440918,
          4.840000152587891,
          4.650000095367432,
          4.400000095367432,
          4.110000133514404,
          4.139999866485596,
          3.9800000190734863,
          4.369999885559082,
          4.610000133514404,
          4.449999809265137,
          4.409999847412109,
          4.269999980926514,
          4.380000114440918,
          4.889999866485596,
          5.320000171661377,
          5.394999980926514,
          5.855000019073486,
          6.270999908447266,
          6.340000152587891,
          6.460000038146973,
          6.375,
          6.710000038146973,
          7.050000190734863,
          7.190000057220459,
          7.25,
          8.0600004196167,
          8.604999542236328,
          8.118000030517578,
          8.701000213623047,
          7.880000114440918,
          8.329999923706055,
          8.468000411987305,
          8.760000228881836,
          9.119999885559082,
          7.875,
          6.96999979019165,
          7.010000228881836,
          6.760000228881836,
          6.650000095367432,
          6.590000152587891,
          6.164999961853027,
          6.059999942779541,
          5.989999771118164,
          6.239999771118164,
          6.309999942779541,
          6.71999979019165,
          6.295000076293945,
          6.394999980926514,
          5.519999980926514,
          5.364999771118164,
          5.659999847412109,
          5.579999923706055,
          5.429999828338623,
          5.860000133514404,
          5.619999885559082,
          5.670000076293945,
          5.320000171661377,
          5.110000133514404,
          4.989999771118164,
          5.210000038146973,
          4.679999828338623,
          4.710000038146973,
          4.849999904632568,
          4.710000038146973,
          5.300000190734863,
          5.099999904632568,
          5.039999961853027,
          5.349999904632568,
          5.380000114440918,
          5.460000038146973,
          6.099999904632568,
          5.920000076293945,
          5.599999904632568,
          5.110000133514404,
          5.295000076293945,
          5.389999866485596,
          5.349999904632568,
          5.539999961853027,
          6.230000019073486,
          6.590000152587891,
          6.739999771118164,
          6.269999980926514,
          6.300000190734863,
          6.184000015258789,
          6.179999828338623,
          6.320000171661377,
          6.369999885559082,
          6.440000057220459,
          6.579999923706055,
          6.980000019073486,
          7.039999961853027,
          6.739999771118164,
          6.289999961853027,
          6.849999904632568,
          6.900000095367432,
          6.909999847412109,
          6.639999866485596,
          6.659999847412109,
          6.5,
          6.809999942779541,
          6.659999847412109,
          6.5,
          6.710000038146973,
          6.639999866485596,
          6.400000095367432,
          6.150000095367432,
          6.130000114440918,
          6.210000038146973
         ],
         "open": [
          6.03000020980835,
          5.900000095367432,
          5.949999809265137,
          5.739999771118164,
          5.789999961853027,
          5.699999809265137,
          5.260000228881836,
          4.949999809265137,
          4.820000171661377,
          4.849999904632568,
          4.75,
          4.539999961853027,
          4.659999847412109,
          4.519999980926514,
          4.010000228881836,
          4.630000114440918,
          4.96999979019165,
          5.039999961853027,
          4.96999979019165,
          4.860000133514404,
          4.429999828338623,
          4.25,
          4.239999771118164,
          4.460000038146973,
          4.710000038146973,
          4.800000190734863,
          4.599999904632568,
          4.510000228881836,
          4.599999904632568,
          4.949999809265137,
          5.429999828338623,
          5.659999847412109,
          5.909999847412109,
          6.449999809265137,
          6.78000020980835,
          6.630000114440918,
          6.579999923706055,
          6.710000038146973,
          7.309999942779541,
          7.190000057220459,
          7.25,
          8.09000015258789,
          8.800000190734863,
          8.770000457763672,
          9,
          8.569999694824219,
          8.649999618530273,
          8.75,
          8.859999656677246,
          9.1899995803833,
          9.289999961853027,
          7.920000076293945,
          7.179999828338623,
          7.199999809265137,
          6.820000171661377,
          6.590000152587891,
          6.760000228881836,
          6.340000152587891,
          6.320000171661377,
          6.239999771118164,
          6.340000152587891,
          7.059999942779541,
          7.110000133514404,
          7.53000020980835,
          6.260000228881836,
          5.539999961853027,
          5.659999847412109,
          5.980000019073486,
          5.429999828338623,
          6.110000133514404,
          6.010000228881836,
          5.920000076293945,
          5.519999980926514,
          5.389999866485596,
          5.190000057220459,
          5.510000228881836,
          5.150000095367432,
          4.849999904632568,
          4.940000057220459,
          4.929999828338623,
          5.440000057220459,
          5.710000038146973,
          5.199999809265137,
          5.360000133514404,
          5.769999980926514,
          5.489999771118164,
          6.25,
          6.170000076293945,
          5.980000019073486,
          5.409999847412109,
          5.429999828338623,
          5.579999923706055,
          5.650000095367432,
          5.539999961853027,
          6.230000019073486,
          6.670000076293945,
          6.739999771118164,
          7.110000133514404,
          7.849999904632568,
          6.710000038146973,
          6.380000114440918,
          6.440000057220459,
          6.480000019073486,
          6.539999961853027,
          7.130000114440918,
          6.980000019073486,
          7.130000114440918,
          7.409999847412109,
          6.760000228881836,
          6.849999904632568,
          7.190000057220459,
          7.260000228881836,
          6.920000076293945,
          6.840000152587891,
          6.71999979019165,
          6.960000038146973,
          7.099999904632568,
          6.78000020980835,
          6.71999979019165,
          6.940000057220459,
          6.849999904632568,
          6.570000171661377,
          6.289999961853027,
          6.210000038146973
         ],
         "type": "candlestick",
         "x": [
          "02-03-2022",
          "02-04-2022",
          "02-07-2022",
          "02-08-2022",
          "02-09-2022",
          "02-10-2022",
          "02-11-2022",
          "02-14-2022",
          "02-15-2022",
          "02-16-2022",
          "02-17-2022",
          "02-18-2022",
          "02-22-2022",
          "02-23-2022",
          "02-24-2022",
          "02-25-2022",
          "02-28-2022",
          "03-01-2022",
          "03-02-2022",
          "03-03-2022",
          "03-04-2022",
          "03-07-2022",
          "03-08-2022",
          "03-09-2022",
          "03-10-2022",
          "03-11-2022",
          "03-14-2022",
          "03-15-2022",
          "03-16-2022",
          "03-17-2022",
          "03-18-2022",
          "03-21-2022",
          "03-22-2022",
          "03-23-2022",
          "03-24-2022",
          "03-25-2022",
          "03-28-2022",
          "03-29-2022",
          "03-30-2022",
          "03-31-2022",
          "04-01-2022",
          "04-04-2022",
          "04-05-2022",
          "04-06-2022",
          "04-07-2022",
          "04-08-2022",
          "04-11-2022",
          "04-12-2022",
          "04-13-2022",
          "04-14-2022",
          "04-18-2022",
          "04-19-2022",
          "04-20-2022",
          "04-21-2022",
          "04-22-2022",
          "04-25-2022",
          "04-26-2022",
          "04-27-2022",
          "04-28-2022",
          "04-29-2022",
          "05-02-2022",
          "05-03-2022",
          "05-04-2022",
          "05-05-2022",
          "05-06-2022",
          "05-09-2022",
          "05-10-2022",
          "05-11-2022",
          "05-12-2022",
          "05-13-2022",
          "05-16-2022",
          "05-17-2022",
          "05-18-2022",
          "05-19-2022",
          "05-20-2022",
          "05-23-2022",
          "05-24-2022",
          "05-25-2022",
          "05-26-2022",
          "05-27-2022",
          "05-31-2022",
          "06-01-2022",
          "06-02-2022",
          "06-03-2022",
          "06-06-2022",
          "06-07-2022",
          "06-08-2022",
          "06-09-2022",
          "06-10-2022",
          "06-13-2022",
          "06-14-2022",
          "06-15-2022",
          "06-16-2022",
          "06-17-2022",
          "06-21-2022",
          "06-22-2022",
          "06-23-2022",
          "06-24-2022",
          "06-27-2022",
          "06-28-2022",
          "06-29-2022",
          "06-30-2022",
          "07-01-2022",
          "07-05-2022",
          "07-06-2022",
          "07-07-2022",
          "07-08-2022",
          "07-11-2022",
          "07-12-2022",
          "07-13-2022",
          "07-14-2022",
          "07-15-2022",
          "07-18-2022",
          "07-19-2022",
          "07-20-2022",
          "07-21-2022",
          "07-22-2022",
          "07-25-2022",
          "07-26-2022",
          "07-27-2022",
          "07-28-2022",
          "07-29-2022",
          "08-01-2022",
          "08-02-2022"
         ]
        }
       ],
       "layout": {
        "height": 350,
        "template": {
         "data": {
          "bar": [
           {
            "error_x": {
             "color": "#2a3f5f"
            },
            "error_y": {
             "color": "#2a3f5f"
            },
            "marker": {
             "line": {
              "color": "#E5ECF6",
              "width": 0.5
             },
             "pattern": {
              "fillmode": "overlay",
              "size": 10,
              "solidity": 0.2
             }
            },
            "type": "bar"
           }
          ],
          "barpolar": [
           {
            "marker": {
             "line": {
              "color": "#E5ECF6",
              "width": 0.5
             },
             "pattern": {
              "fillmode": "overlay",
              "size": 10,
              "solidity": 0.2
             }
            },
            "type": "barpolar"
           }
          ],
          "carpet": [
           {
            "aaxis": {
             "endlinecolor": "#2a3f5f",
             "gridcolor": "white",
             "linecolor": "white",
             "minorgridcolor": "white",
             "startlinecolor": "#2a3f5f"
            },
            "baxis": {
             "endlinecolor": "#2a3f5f",
             "gridcolor": "white",
             "linecolor": "white",
             "minorgridcolor": "white",
             "startlinecolor": "#2a3f5f"
            },
            "type": "carpet"
           }
          ],
          "choropleth": [
           {
            "colorbar": {
             "outlinewidth": 0,
             "ticks": ""
            },
            "type": "choropleth"
           }
          ],
          "contour": [
           {
            "colorbar": {
             "outlinewidth": 0,
             "ticks": ""
            },
            "colorscale": [
             [
              0,
              "#0d0887"
             ],
             [
              0.1111111111111111,
              "#46039f"
             ],
             [
              0.2222222222222222,
              "#7201a8"
             ],
             [
              0.3333333333333333,
              "#9c179e"
             ],
             [
              0.4444444444444444,
              "#bd3786"
             ],
             [
              0.5555555555555556,
              "#d8576b"
             ],
             [
              0.6666666666666666,
              "#ed7953"
             ],
             [
              0.7777777777777778,
              "#fb9f3a"
             ],
             [
              0.8888888888888888,
              "#fdca26"
             ],
             [
              1,
              "#f0f921"
             ]
            ],
            "type": "contour"
           }
          ],
          "contourcarpet": [
           {
            "colorbar": {
             "outlinewidth": 0,
             "ticks": ""
            },
            "type": "contourcarpet"
           }
          ],
          "heatmap": [
           {
            "colorbar": {
             "outlinewidth": 0,
             "ticks": ""
            },
            "colorscale": [
             [
              0,
              "#0d0887"
             ],
             [
              0.1111111111111111,
              "#46039f"
             ],
             [
              0.2222222222222222,
              "#7201a8"
             ],
             [
              0.3333333333333333,
              "#9c179e"
             ],
             [
              0.4444444444444444,
              "#bd3786"
             ],
             [
              0.5555555555555556,
              "#d8576b"
             ],
             [
              0.6666666666666666,
              "#ed7953"
             ],
             [
              0.7777777777777778,
              "#fb9f3a"
             ],
             [
              0.8888888888888888,
              "#fdca26"
             ],
             [
              1,
              "#f0f921"
             ]
            ],
            "type": "heatmap"
           }
          ],
          "heatmapgl": [
           {
            "colorbar": {
             "outlinewidth": 0,
             "ticks": ""
            },
            "colorscale": [
             [
              0,
              "#0d0887"
             ],
             [
              0.1111111111111111,
              "#46039f"
             ],
             [
              0.2222222222222222,
              "#7201a8"
             ],
             [
              0.3333333333333333,
              "#9c179e"
             ],
             [
              0.4444444444444444,
              "#bd3786"
             ],
             [
              0.5555555555555556,
              "#d8576b"
             ],
             [
              0.6666666666666666,
              "#ed7953"
             ],
             [
              0.7777777777777778,
              "#fb9f3a"
             ],
             [
              0.8888888888888888,
              "#fdca26"
             ],
             [
              1,
              "#f0f921"
             ]
            ],
            "type": "heatmapgl"
           }
          ],
          "histogram": [
           {
            "marker": {
             "pattern": {
              "fillmode": "overlay",
              "size": 10,
              "solidity": 0.2
             }
            },
            "type": "histogram"
           }
          ],
          "histogram2d": [
           {
            "colorbar": {
             "outlinewidth": 0,
             "ticks": ""
            },
            "colorscale": [
             [
              0,
              "#0d0887"
             ],
             [
              0.1111111111111111,
              "#46039f"
             ],
             [
              0.2222222222222222,
              "#7201a8"
             ],
             [
              0.3333333333333333,
              "#9c179e"
             ],
             [
              0.4444444444444444,
              "#bd3786"
             ],
             [
              0.5555555555555556,
              "#d8576b"
             ],
             [
              0.6666666666666666,
              "#ed7953"
             ],
             [
              0.7777777777777778,
              "#fb9f3a"
             ],
             [
              0.8888888888888888,
              "#fdca26"
             ],
             [
              1,
              "#f0f921"
             ]
            ],
            "type": "histogram2d"
           }
          ],
          "histogram2dcontour": [
           {
            "colorbar": {
             "outlinewidth": 0,
             "ticks": ""
            },
            "colorscale": [
             [
              0,
              "#0d0887"
             ],
             [
              0.1111111111111111,
              "#46039f"
             ],
             [
              0.2222222222222222,
              "#7201a8"
             ],
             [
              0.3333333333333333,
              "#9c179e"
             ],
             [
              0.4444444444444444,
              "#bd3786"
             ],
             [
              0.5555555555555556,
              "#d8576b"
             ],
             [
              0.6666666666666666,
              "#ed7953"
             ],
             [
              0.7777777777777778,
              "#fb9f3a"
             ],
             [
              0.8888888888888888,
              "#fdca26"
             ],
             [
              1,
              "#f0f921"
             ]
            ],
            "type": "histogram2dcontour"
           }
          ],
          "mesh3d": [
           {
            "colorbar": {
             "outlinewidth": 0,
             "ticks": ""
            },
            "type": "mesh3d"
           }
          ],
          "parcoords": [
           {
            "line": {
             "colorbar": {
              "outlinewidth": 0,
              "ticks": ""
             }
            },
            "type": "parcoords"
           }
          ],
          "pie": [
           {
            "automargin": true,
            "type": "pie"
           }
          ],
          "scatter": [
           {
            "marker": {
             "colorbar": {
              "outlinewidth": 0,
              "ticks": ""
             }
            },
            "type": "scatter"
           }
          ],
          "scatter3d": [
           {
            "line": {
             "colorbar": {
              "outlinewidth": 0,
              "ticks": ""
             }
            },
            "marker": {
             "colorbar": {
              "outlinewidth": 0,
              "ticks": ""
             }
            },
            "type": "scatter3d"
           }
          ],
          "scattercarpet": [
           {
            "marker": {
             "colorbar": {
              "outlinewidth": 0,
              "ticks": ""
             }
            },
            "type": "scattercarpet"
           }
          ],
          "scattergeo": [
           {
            "marker": {
             "colorbar": {
              "outlinewidth": 0,
              "ticks": ""
             }
            },
            "type": "scattergeo"
           }
          ],
          "scattergl": [
           {
            "marker": {
             "colorbar": {
              "outlinewidth": 0,
              "ticks": ""
             }
            },
            "type": "scattergl"
           }
          ],
          "scattermapbox": [
           {
            "marker": {
             "colorbar": {
              "outlinewidth": 0,
              "ticks": ""
             }
            },
            "type": "scattermapbox"
           }
          ],
          "scatterpolar": [
           {
            "marker": {
             "colorbar": {
              "outlinewidth": 0,
              "ticks": ""
             }
            },
            "type": "scatterpolar"
           }
          ],
          "scatterpolargl": [
           {
            "marker": {
             "colorbar": {
              "outlinewidth": 0,
              "ticks": ""
             }
            },
            "type": "scatterpolargl"
           }
          ],
          "scatterternary": [
           {
            "marker": {
             "colorbar": {
              "outlinewidth": 0,
              "ticks": ""
             }
            },
            "type": "scatterternary"
           }
          ],
          "surface": [
           {
            "colorbar": {
             "outlinewidth": 0,
             "ticks": ""
            },
            "colorscale": [
             [
              0,
              "#0d0887"
             ],
             [
              0.1111111111111111,
              "#46039f"
             ],
             [
              0.2222222222222222,
              "#7201a8"
             ],
             [
              0.3333333333333333,
              "#9c179e"
             ],
             [
              0.4444444444444444,
              "#bd3786"
             ],
             [
              0.5555555555555556,
              "#d8576b"
             ],
             [
              0.6666666666666666,
              "#ed7953"
             ],
             [
              0.7777777777777778,
              "#fb9f3a"
             ],
             [
              0.8888888888888888,
              "#fdca26"
             ],
             [
              1,
              "#f0f921"
             ]
            ],
            "type": "surface"
           }
          ],
          "table": [
           {
            "cells": {
             "fill": {
              "color": "#EBF0F8"
             },
             "line": {
              "color": "white"
             }
            },
            "header": {
             "fill": {
              "color": "#C8D4E3"
             },
             "line": {
              "color": "white"
             }
            },
            "type": "table"
           }
          ]
         },
         "layout": {
          "annotationdefaults": {
           "arrowcolor": "#2a3f5f",
           "arrowhead": 0,
           "arrowwidth": 1
          },
          "autotypenumbers": "strict",
          "coloraxis": {
           "colorbar": {
            "outlinewidth": 0,
            "ticks": ""
           }
          },
          "colorscale": {
           "diverging": [
            [
             0,
             "#8e0152"
            ],
            [
             0.1,
             "#c51b7d"
            ],
            [
             0.2,
             "#de77ae"
            ],
            [
             0.3,
             "#f1b6da"
            ],
            [
             0.4,
             "#fde0ef"
            ],
            [
             0.5,
             "#f7f7f7"
            ],
            [
             0.6,
             "#e6f5d0"
            ],
            [
             0.7,
             "#b8e186"
            ],
            [
             0.8,
             "#7fbc41"
            ],
            [
             0.9,
             "#4d9221"
            ],
            [
             1,
             "#276419"
            ]
           ],
           "sequential": [
            [
             0,
             "#0d0887"
            ],
            [
             0.1111111111111111,
             "#46039f"
            ],
            [
             0.2222222222222222,
             "#7201a8"
            ],
            [
             0.3333333333333333,
             "#9c179e"
            ],
            [
             0.4444444444444444,
             "#bd3786"
            ],
            [
             0.5555555555555556,
             "#d8576b"
            ],
            [
             0.6666666666666666,
             "#ed7953"
            ],
            [
             0.7777777777777778,
             "#fb9f3a"
            ],
            [
             0.8888888888888888,
             "#fdca26"
            ],
            [
             1,
             "#f0f921"
            ]
           ],
           "sequentialminus": [
            [
             0,
             "#0d0887"
            ],
            [
             0.1111111111111111,
             "#46039f"
            ],
            [
             0.2222222222222222,
             "#7201a8"
            ],
            [
             0.3333333333333333,
             "#9c179e"
            ],
            [
             0.4444444444444444,
             "#bd3786"
            ],
            [
             0.5555555555555556,
             "#d8576b"
            ],
            [
             0.6666666666666666,
             "#ed7953"
            ],
            [
             0.7777777777777778,
             "#fb9f3a"
            ],
            [
             0.8888888888888888,
             "#fdca26"
            ],
            [
             1,
             "#f0f921"
            ]
           ]
          },
          "colorway": [
           "#636efa",
           "#EF553B",
           "#00cc96",
           "#ab63fa",
           "#FFA15A",
           "#19d3f3",
           "#FF6692",
           "#B6E880",
           "#FF97FF",
           "#FECB52"
          ],
          "font": {
           "color": "#2a3f5f"
          },
          "geo": {
           "bgcolor": "white",
           "lakecolor": "white",
           "landcolor": "#E5ECF6",
           "showlakes": true,
           "showland": true,
           "subunitcolor": "white"
          },
          "hoverlabel": {
           "align": "left"
          },
          "hovermode": "closest",
          "mapbox": {
           "style": "light"
          },
          "paper_bgcolor": "white",
          "plot_bgcolor": "#E5ECF6",
          "polar": {
           "angularaxis": {
            "gridcolor": "white",
            "linecolor": "white",
            "ticks": ""
           },
           "bgcolor": "#E5ECF6",
           "radialaxis": {
            "gridcolor": "white",
            "linecolor": "white",
            "ticks": ""
           }
          },
          "scene": {
           "xaxis": {
            "backgroundcolor": "#E5ECF6",
            "gridcolor": "white",
            "gridwidth": 2,
            "linecolor": "white",
            "showbackground": true,
            "ticks": "",
            "zerolinecolor": "white"
           },
           "yaxis": {
            "backgroundcolor": "#E5ECF6",
            "gridcolor": "white",
            "gridwidth": 2,
            "linecolor": "white",
            "showbackground": true,
            "ticks": "",
            "zerolinecolor": "white"
           },
           "zaxis": {
            "backgroundcolor": "#E5ECF6",
            "gridcolor": "white",
            "gridwidth": 2,
            "linecolor": "white",
            "showbackground": true,
            "ticks": "",
            "zerolinecolor": "white"
           }
          },
          "shapedefaults": {
           "line": {
            "color": "#2a3f5f"
           }
          },
          "ternary": {
           "aaxis": {
            "gridcolor": "white",
            "linecolor": "white",
            "ticks": ""
           },
           "baxis": {
            "gridcolor": "white",
            "linecolor": "white",
            "ticks": ""
           },
           "bgcolor": "#E5ECF6",
           "caxis": {
            "gridcolor": "white",
            "linecolor": "white",
            "ticks": ""
           }
          },
          "title": {
           "x": 0.05
          },
          "xaxis": {
           "automargin": true,
           "gridcolor": "white",
           "linecolor": "white",
           "ticks": "",
           "title": {
            "standoff": 15
           },
           "zerolinecolor": "white",
           "zerolinewidth": 2
          },
          "yaxis": {
           "automargin": true,
           "gridcolor": "white",
           "linecolor": "white",
           "ticks": "",
           "title": {
            "standoff": 15
           },
           "zerolinecolor": "white",
           "zerolinewidth": 2
          }
         }
        },
        "title": {
         "text": "Generation Bio (GBIO)",
         "x": 0.5,
         "xanchor": "center",
         "y": 0.9,
         "yanchor": "top"
        },
        "width": 700,
        "xaxis": {
         "rangeslider": {
          "visible": false
         }
        }
       }
      },
      "text/html": [
       "<div>                            <div id=\"71c18769-440d-4364-a709-dc2d4823f8ca\" class=\"plotly-graph-div\" style=\"height:350px; width:700px;\"></div>            <script type=\"text/javascript\">                require([\"plotly\"], function(Plotly) {                    window.PLOTLYENV=window.PLOTLYENV || {};                                    if (document.getElementById(\"71c18769-440d-4364-a709-dc2d4823f8ca\")) {                    Plotly.newPlot(                        \"71c18769-440d-4364-a709-dc2d4823f8ca\",                        [{\"close\":[5.880000114440918,5.820000171661377,5.769999980926514,5.650000095367432,5.909999847412109,5.230000019073486,4.909999847412109,4.699999809265137,4.940000057220459,4.789999961853027,4.590000152587891,4.739999771118164,4.46999979019165,4.179999828338623,4.559999942779541,5.059999942779541,5.119999885559082,4.900000095367432,4.78000020980835,4.5,4.159999847412109,4.190000057220459,4.329999923706055,4.889999866485596,4.78000020980835,4.460000038146973,4.5,4.550000190734863,5.039999961853027,5.590000152587891,5.730000019073486,5.989999771118164,6.510000228881836,6.630000114440918,6.579999923706055,6.699999809265137,6.590000152587891,7.300000190734863,7.190000057220459,7.340000152587891,8.180000305175781,8.75,8.869999885559082,9.039999961853027,8.770000457763672,8.760000228881836,8.65999984741211,8.850000381469727,9.260000228881836,9.40999984741211,7.889999866485596,7.269999980926514,7.119999885559082,6.900000095367432,6.679999828338623,6.880000114440918,6.28000020980835,6.190000057220459,6.349999904632568,6.329999923706055,7.019999980926514,7.0,7.090000152587891,6.440000057220459,5.690000057220459,5.440000057220459,6.039999961853027,5.610000133514404,5.75,6.0,5.710000038146973,5.760000228881836,5.429999828338623,5.139999866485596,5.409999847412109,5.28000020980835,4.869999885559082,4.920000076293945,4.949999809265137,5.420000076293945,5.619999885559082,5.190000057220459,5.369999885559082,5.679999828338623,5.570000171661377,6.329999923706055,6.21999979019165,6.190000057220459,5.690000057220459,5.400000095367432,5.480000019073486,5.840000152587891,5.460000038146973,6.090000152587891,6.699999809265137,6.829999923706055,7.019999980926514,7.0,6.610000133514404,6.400000095367432,6.619999885559082,6.559999942779541,6.699999809265137,7.070000171661377,6.929999828338623,7.190000057220459,7.380000114440918,6.75,7.0,7.269999980926514,7.079999923706055,7.179999828338623,6.75,6.710000038146973,6.949999809265137,7.099999904632568,6.800000190734863,6.699999809265137,6.869999885559082,6.849999904632568,6.579999923706055,6.380000114440918,6.269999980926514,6.380000114440918],\"high\":[6.204999923706055,6.010000228881836,6.059999942779541,5.739999771118164,5.96999979019165,5.949999809265137,5.284999847412109,5.0,4.96999979019165,4.909999847412109,4.869999885559082,4.929999828338623,4.739999771118164,4.53000020980835,4.590000152587891,5.079999923706055,5.239999771118164,5.199999809265137,4.96999979019165,4.860000133514404,4.53000020980835,4.440000057220459,4.579999923706055,4.929999828338623,4.809999942779541,4.849999904632568,4.769999980926514,4.619999885559082,5.059999942779541,5.599999904632568,6.0,6.0,6.519999980926514,6.949999809265137,6.78000020980835,6.75,6.800000190734863,7.420000076293945,7.480000019073486,7.400000095367432,8.239999771118164,8.805000305175781,9.0,9.220000267028809,9.192000389099121,9.1899995803833,8.829999923706055,9.128999710083008,9.59000015258789,9.569999694824219,9.550000190734863,7.96999979019165,7.429999828338623,7.289999961853027,7.150000095367432,6.940000057220459,7.190000057220459,6.380000114440918,6.460000038146973,6.829999923706055,7.050000190734863,7.249000072479248,7.150000095367432,7.53000020980835,6.360000133514404,5.710000038146973,6.360000133514404,6.130000114440918,5.980000019073486,6.130000114440918,6.199999809265137,6.090000152587891,5.650000095367432,5.650000095367432,5.440000057220459,5.730000019073486,5.150000095367432,4.989999771118164,5.130000114440918,5.519999980926514,5.860000133514404,5.840000152587891,5.460000038146973,5.940000057220459,5.849999904632568,6.400000095367432,6.639999866485596,6.329999923706055,5.980000019073486,5.650000095367432,5.510000228881836,6.014999866485596,5.650000095367432,6.315000057220459,7.130000114440918,7.099999904632568,7.460000038146973,7.21999979019165,8.0,6.710000038146973,6.730000019073486,6.71999979019165,6.840000152587891,7.110000133514404,7.235000133514404,7.21999979019165,7.570000171661377,7.449999809265137,7.099999904632568,7.369999885559082,7.25,7.329999923706055,7.519999980926514,7.059999942779541,7.230000019073486,7.139999866485596,7.360000133514404,6.952000141143799,7.010000228881836,7.099999904632568,6.849999904632568,6.590000152587891,6.46999979019165,6.539999961853027],\"low\":[5.800000190734863,5.659999847412109,5.71999979019165,5.510000228881836,5.71999979019165,5.150000095367432,4.78000020980835,4.650000095367432,4.730000019073486,4.71999979019165,4.550000190734863,4.539999961853027,4.429999828338623,4.170000076293945,3.9600000381469727,4.559999942779541,4.880000114440918,4.840000152587891,4.650000095367432,4.400000095367432,4.110000133514404,4.139999866485596,3.9800000190734863,4.369999885559082,4.610000133514404,4.449999809265137,4.409999847412109,4.269999980926514,4.380000114440918,4.889999866485596,5.320000171661377,5.394999980926514,5.855000019073486,6.270999908447266,6.340000152587891,6.460000038146973,6.375,6.710000038146973,7.050000190734863,7.190000057220459,7.25,8.0600004196167,8.604999542236328,8.118000030517578,8.701000213623047,7.880000114440918,8.329999923706055,8.468000411987305,8.760000228881836,9.119999885559082,7.875,6.96999979019165,7.010000228881836,6.760000228881836,6.650000095367432,6.590000152587891,6.164999961853027,6.059999942779541,5.989999771118164,6.239999771118164,6.309999942779541,6.71999979019165,6.295000076293945,6.394999980926514,5.519999980926514,5.364999771118164,5.659999847412109,5.579999923706055,5.429999828338623,5.860000133514404,5.619999885559082,5.670000076293945,5.320000171661377,5.110000133514404,4.989999771118164,5.210000038146973,4.679999828338623,4.710000038146973,4.849999904632568,4.710000038146973,5.300000190734863,5.099999904632568,5.039999961853027,5.349999904632568,5.380000114440918,5.460000038146973,6.099999904632568,5.920000076293945,5.599999904632568,5.110000133514404,5.295000076293945,5.389999866485596,5.349999904632568,5.539999961853027,6.230000019073486,6.590000152587891,6.739999771118164,6.269999980926514,6.300000190734863,6.184000015258789,6.179999828338623,6.320000171661377,6.369999885559082,6.440000057220459,6.579999923706055,6.980000019073486,7.039999961853027,6.739999771118164,6.289999961853027,6.849999904632568,6.900000095367432,6.909999847412109,6.639999866485596,6.659999847412109,6.5,6.809999942779541,6.659999847412109,6.5,6.710000038146973,6.639999866485596,6.400000095367432,6.150000095367432,6.130000114440918,6.210000038146973],\"open\":[6.03000020980835,5.900000095367432,5.949999809265137,5.739999771118164,5.789999961853027,5.699999809265137,5.260000228881836,4.949999809265137,4.820000171661377,4.849999904632568,4.75,4.539999961853027,4.659999847412109,4.519999980926514,4.010000228881836,4.630000114440918,4.96999979019165,5.039999961853027,4.96999979019165,4.860000133514404,4.429999828338623,4.25,4.239999771118164,4.460000038146973,4.710000038146973,4.800000190734863,4.599999904632568,4.510000228881836,4.599999904632568,4.949999809265137,5.429999828338623,5.659999847412109,5.909999847412109,6.449999809265137,6.78000020980835,6.630000114440918,6.579999923706055,6.710000038146973,7.309999942779541,7.190000057220459,7.25,8.09000015258789,8.800000190734863,8.770000457763672,9.0,8.569999694824219,8.649999618530273,8.75,8.859999656677246,9.1899995803833,9.289999961853027,7.920000076293945,7.179999828338623,7.199999809265137,6.820000171661377,6.590000152587891,6.760000228881836,6.340000152587891,6.320000171661377,6.239999771118164,6.340000152587891,7.059999942779541,7.110000133514404,7.53000020980835,6.260000228881836,5.539999961853027,5.659999847412109,5.980000019073486,5.429999828338623,6.110000133514404,6.010000228881836,5.920000076293945,5.519999980926514,5.389999866485596,5.190000057220459,5.510000228881836,5.150000095367432,4.849999904632568,4.940000057220459,4.929999828338623,5.440000057220459,5.710000038146973,5.199999809265137,5.360000133514404,5.769999980926514,5.489999771118164,6.25,6.170000076293945,5.980000019073486,5.409999847412109,5.429999828338623,5.579999923706055,5.650000095367432,5.539999961853027,6.230000019073486,6.670000076293945,6.739999771118164,7.110000133514404,7.849999904632568,6.710000038146973,6.380000114440918,6.440000057220459,6.480000019073486,6.539999961853027,7.130000114440918,6.980000019073486,7.130000114440918,7.409999847412109,6.760000228881836,6.849999904632568,7.190000057220459,7.260000228881836,6.920000076293945,6.840000152587891,6.71999979019165,6.960000038146973,7.099999904632568,6.78000020980835,6.71999979019165,6.940000057220459,6.849999904632568,6.570000171661377,6.289999961853027,6.210000038146973],\"x\":[\"02-03-2022\",\"02-04-2022\",\"02-07-2022\",\"02-08-2022\",\"02-09-2022\",\"02-10-2022\",\"02-11-2022\",\"02-14-2022\",\"02-15-2022\",\"02-16-2022\",\"02-17-2022\",\"02-18-2022\",\"02-22-2022\",\"02-23-2022\",\"02-24-2022\",\"02-25-2022\",\"02-28-2022\",\"03-01-2022\",\"03-02-2022\",\"03-03-2022\",\"03-04-2022\",\"03-07-2022\",\"03-08-2022\",\"03-09-2022\",\"03-10-2022\",\"03-11-2022\",\"03-14-2022\",\"03-15-2022\",\"03-16-2022\",\"03-17-2022\",\"03-18-2022\",\"03-21-2022\",\"03-22-2022\",\"03-23-2022\",\"03-24-2022\",\"03-25-2022\",\"03-28-2022\",\"03-29-2022\",\"03-30-2022\",\"03-31-2022\",\"04-01-2022\",\"04-04-2022\",\"04-05-2022\",\"04-06-2022\",\"04-07-2022\",\"04-08-2022\",\"04-11-2022\",\"04-12-2022\",\"04-13-2022\",\"04-14-2022\",\"04-18-2022\",\"04-19-2022\",\"04-20-2022\",\"04-21-2022\",\"04-22-2022\",\"04-25-2022\",\"04-26-2022\",\"04-27-2022\",\"04-28-2022\",\"04-29-2022\",\"05-02-2022\",\"05-03-2022\",\"05-04-2022\",\"05-05-2022\",\"05-06-2022\",\"05-09-2022\",\"05-10-2022\",\"05-11-2022\",\"05-12-2022\",\"05-13-2022\",\"05-16-2022\",\"05-17-2022\",\"05-18-2022\",\"05-19-2022\",\"05-20-2022\",\"05-23-2022\",\"05-24-2022\",\"05-25-2022\",\"05-26-2022\",\"05-27-2022\",\"05-31-2022\",\"06-01-2022\",\"06-02-2022\",\"06-03-2022\",\"06-06-2022\",\"06-07-2022\",\"06-08-2022\",\"06-09-2022\",\"06-10-2022\",\"06-13-2022\",\"06-14-2022\",\"06-15-2022\",\"06-16-2022\",\"06-17-2022\",\"06-21-2022\",\"06-22-2022\",\"06-23-2022\",\"06-24-2022\",\"06-27-2022\",\"06-28-2022\",\"06-29-2022\",\"06-30-2022\",\"07-01-2022\",\"07-05-2022\",\"07-06-2022\",\"07-07-2022\",\"07-08-2022\",\"07-11-2022\",\"07-12-2022\",\"07-13-2022\",\"07-14-2022\",\"07-15-2022\",\"07-18-2022\",\"07-19-2022\",\"07-20-2022\",\"07-21-2022\",\"07-22-2022\",\"07-25-2022\",\"07-26-2022\",\"07-27-2022\",\"07-28-2022\",\"07-29-2022\",\"08-01-2022\",\"08-02-2022\"],\"type\":\"candlestick\"}],                        {\"template\":{\"data\":{\"bar\":[{\"error_x\":{\"color\":\"#2a3f5f\"},\"error_y\":{\"color\":\"#2a3f5f\"},\"marker\":{\"line\":{\"color\":\"#E5ECF6\",\"width\":0.5},\"pattern\":{\"fillmode\":\"overlay\",\"size\":10,\"solidity\":0.2}},\"type\":\"bar\"}],\"barpolar\":[{\"marker\":{\"line\":{\"color\":\"#E5ECF6\",\"width\":0.5},\"pattern\":{\"fillmode\":\"overlay\",\"size\":10,\"solidity\":0.2}},\"type\":\"barpolar\"}],\"carpet\":[{\"aaxis\":{\"endlinecolor\":\"#2a3f5f\",\"gridcolor\":\"white\",\"linecolor\":\"white\",\"minorgridcolor\":\"white\",\"startlinecolor\":\"#2a3f5f\"},\"baxis\":{\"endlinecolor\":\"#2a3f5f\",\"gridcolor\":\"white\",\"linecolor\":\"white\",\"minorgridcolor\":\"white\",\"startlinecolor\":\"#2a3f5f\"},\"type\":\"carpet\"}],\"choropleth\":[{\"colorbar\":{\"outlinewidth\":0,\"ticks\":\"\"},\"type\":\"choropleth\"}],\"contour\":[{\"colorbar\":{\"outlinewidth\":0,\"ticks\":\"\"},\"colorscale\":[[0.0,\"#0d0887\"],[0.1111111111111111,\"#46039f\"],[0.2222222222222222,\"#7201a8\"],[0.3333333333333333,\"#9c179e\"],[0.4444444444444444,\"#bd3786\"],[0.5555555555555556,\"#d8576b\"],[0.6666666666666666,\"#ed7953\"],[0.7777777777777778,\"#fb9f3a\"],[0.8888888888888888,\"#fdca26\"],[1.0,\"#f0f921\"]],\"type\":\"contour\"}],\"contourcarpet\":[{\"colorbar\":{\"outlinewidth\":0,\"ticks\":\"\"},\"type\":\"contourcarpet\"}],\"heatmap\":[{\"colorbar\":{\"outlinewidth\":0,\"ticks\":\"\"},\"colorscale\":[[0.0,\"#0d0887\"],[0.1111111111111111,\"#46039f\"],[0.2222222222222222,\"#7201a8\"],[0.3333333333333333,\"#9c179e\"],[0.4444444444444444,\"#bd3786\"],[0.5555555555555556,\"#d8576b\"],[0.6666666666666666,\"#ed7953\"],[0.7777777777777778,\"#fb9f3a\"],[0.8888888888888888,\"#fdca26\"],[1.0,\"#f0f921\"]],\"type\":\"heatmap\"}],\"heatmapgl\":[{\"colorbar\":{\"outlinewidth\":0,\"ticks\":\"\"},\"colorscale\":[[0.0,\"#0d0887\"],[0.1111111111111111,\"#46039f\"],[0.2222222222222222,\"#7201a8\"],[0.3333333333333333,\"#9c179e\"],[0.4444444444444444,\"#bd3786\"],[0.5555555555555556,\"#d8576b\"],[0.6666666666666666,\"#ed7953\"],[0.7777777777777778,\"#fb9f3a\"],[0.8888888888888888,\"#fdca26\"],[1.0,\"#f0f921\"]],\"type\":\"heatmapgl\"}],\"histogram\":[{\"marker\":{\"pattern\":{\"fillmode\":\"overlay\",\"size\":10,\"solidity\":0.2}},\"type\":\"histogram\"}],\"histogram2d\":[{\"colorbar\":{\"outlinewidth\":0,\"ticks\":\"\"},\"colorscale\":[[0.0,\"#0d0887\"],[0.1111111111111111,\"#46039f\"],[0.2222222222222222,\"#7201a8\"],[0.3333333333333333,\"#9c179e\"],[0.4444444444444444,\"#bd3786\"],[0.5555555555555556,\"#d8576b\"],[0.6666666666666666,\"#ed7953\"],[0.7777777777777778,\"#fb9f3a\"],[0.8888888888888888,\"#fdca26\"],[1.0,\"#f0f921\"]],\"type\":\"histogram2d\"}],\"histogram2dcontour\":[{\"colorbar\":{\"outlinewidth\":0,\"ticks\":\"\"},\"colorscale\":[[0.0,\"#0d0887\"],[0.1111111111111111,\"#46039f\"],[0.2222222222222222,\"#7201a8\"],[0.3333333333333333,\"#9c179e\"],[0.4444444444444444,\"#bd3786\"],[0.5555555555555556,\"#d8576b\"],[0.6666666666666666,\"#ed7953\"],[0.7777777777777778,\"#fb9f3a\"],[0.8888888888888888,\"#fdca26\"],[1.0,\"#f0f921\"]],\"type\":\"histogram2dcontour\"}],\"mesh3d\":[{\"colorbar\":{\"outlinewidth\":0,\"ticks\":\"\"},\"type\":\"mesh3d\"}],\"parcoords\":[{\"line\":{\"colorbar\":{\"outlinewidth\":0,\"ticks\":\"\"}},\"type\":\"parcoords\"}],\"pie\":[{\"automargin\":true,\"type\":\"pie\"}],\"scatter\":[{\"marker\":{\"colorbar\":{\"outlinewidth\":0,\"ticks\":\"\"}},\"type\":\"scatter\"}],\"scatter3d\":[{\"line\":{\"colorbar\":{\"outlinewidth\":0,\"ticks\":\"\"}},\"marker\":{\"colorbar\":{\"outlinewidth\":0,\"ticks\":\"\"}},\"type\":\"scatter3d\"}],\"scattercarpet\":[{\"marker\":{\"colorbar\":{\"outlinewidth\":0,\"ticks\":\"\"}},\"type\":\"scattercarpet\"}],\"scattergeo\":[{\"marker\":{\"colorbar\":{\"outlinewidth\":0,\"ticks\":\"\"}},\"type\":\"scattergeo\"}],\"scattergl\":[{\"marker\":{\"colorbar\":{\"outlinewidth\":0,\"ticks\":\"\"}},\"type\":\"scattergl\"}],\"scattermapbox\":[{\"marker\":{\"colorbar\":{\"outlinewidth\":0,\"ticks\":\"\"}},\"type\":\"scattermapbox\"}],\"scatterpolar\":[{\"marker\":{\"colorbar\":{\"outlinewidth\":0,\"ticks\":\"\"}},\"type\":\"scatterpolar\"}],\"scatterpolargl\":[{\"marker\":{\"colorbar\":{\"outlinewidth\":0,\"ticks\":\"\"}},\"type\":\"scatterpolargl\"}],\"scatterternary\":[{\"marker\":{\"colorbar\":{\"outlinewidth\":0,\"ticks\":\"\"}},\"type\":\"scatterternary\"}],\"surface\":[{\"colorbar\":{\"outlinewidth\":0,\"ticks\":\"\"},\"colorscale\":[[0.0,\"#0d0887\"],[0.1111111111111111,\"#46039f\"],[0.2222222222222222,\"#7201a8\"],[0.3333333333333333,\"#9c179e\"],[0.4444444444444444,\"#bd3786\"],[0.5555555555555556,\"#d8576b\"],[0.6666666666666666,\"#ed7953\"],[0.7777777777777778,\"#fb9f3a\"],[0.8888888888888888,\"#fdca26\"],[1.0,\"#f0f921\"]],\"type\":\"surface\"}],\"table\":[{\"cells\":{\"fill\":{\"color\":\"#EBF0F8\"},\"line\":{\"color\":\"white\"}},\"header\":{\"fill\":{\"color\":\"#C8D4E3\"},\"line\":{\"color\":\"white\"}},\"type\":\"table\"}]},\"layout\":{\"annotationdefaults\":{\"arrowcolor\":\"#2a3f5f\",\"arrowhead\":0,\"arrowwidth\":1},\"autotypenumbers\":\"strict\",\"coloraxis\":{\"colorbar\":{\"outlinewidth\":0,\"ticks\":\"\"}},\"colorscale\":{\"diverging\":[[0,\"#8e0152\"],[0.1,\"#c51b7d\"],[0.2,\"#de77ae\"],[0.3,\"#f1b6da\"],[0.4,\"#fde0ef\"],[0.5,\"#f7f7f7\"],[0.6,\"#e6f5d0\"],[0.7,\"#b8e186\"],[0.8,\"#7fbc41\"],[0.9,\"#4d9221\"],[1,\"#276419\"]],\"sequential\":[[0.0,\"#0d0887\"],[0.1111111111111111,\"#46039f\"],[0.2222222222222222,\"#7201a8\"],[0.3333333333333333,\"#9c179e\"],[0.4444444444444444,\"#bd3786\"],[0.5555555555555556,\"#d8576b\"],[0.6666666666666666,\"#ed7953\"],[0.7777777777777778,\"#fb9f3a\"],[0.8888888888888888,\"#fdca26\"],[1.0,\"#f0f921\"]],\"sequentialminus\":[[0.0,\"#0d0887\"],[0.1111111111111111,\"#46039f\"],[0.2222222222222222,\"#7201a8\"],[0.3333333333333333,\"#9c179e\"],[0.4444444444444444,\"#bd3786\"],[0.5555555555555556,\"#d8576b\"],[0.6666666666666666,\"#ed7953\"],[0.7777777777777778,\"#fb9f3a\"],[0.8888888888888888,\"#fdca26\"],[1.0,\"#f0f921\"]]},\"colorway\":[\"#636efa\",\"#EF553B\",\"#00cc96\",\"#ab63fa\",\"#FFA15A\",\"#19d3f3\",\"#FF6692\",\"#B6E880\",\"#FF97FF\",\"#FECB52\"],\"font\":{\"color\":\"#2a3f5f\"},\"geo\":{\"bgcolor\":\"white\",\"lakecolor\":\"white\",\"landcolor\":\"#E5ECF6\",\"showlakes\":true,\"showland\":true,\"subunitcolor\":\"white\"},\"hoverlabel\":{\"align\":\"left\"},\"hovermode\":\"closest\",\"mapbox\":{\"style\":\"light\"},\"paper_bgcolor\":\"white\",\"plot_bgcolor\":\"#E5ECF6\",\"polar\":{\"angularaxis\":{\"gridcolor\":\"white\",\"linecolor\":\"white\",\"ticks\":\"\"},\"bgcolor\":\"#E5ECF6\",\"radialaxis\":{\"gridcolor\":\"white\",\"linecolor\":\"white\",\"ticks\":\"\"}},\"scene\":{\"xaxis\":{\"backgroundcolor\":\"#E5ECF6\",\"gridcolor\":\"white\",\"gridwidth\":2,\"linecolor\":\"white\",\"showbackground\":true,\"ticks\":\"\",\"zerolinecolor\":\"white\"},\"yaxis\":{\"backgroundcolor\":\"#E5ECF6\",\"gridcolor\":\"white\",\"gridwidth\":2,\"linecolor\":\"white\",\"showbackground\":true,\"ticks\":\"\",\"zerolinecolor\":\"white\"},\"zaxis\":{\"backgroundcolor\":\"#E5ECF6\",\"gridcolor\":\"white\",\"gridwidth\":2,\"linecolor\":\"white\",\"showbackground\":true,\"ticks\":\"\",\"zerolinecolor\":\"white\"}},\"shapedefaults\":{\"line\":{\"color\":\"#2a3f5f\"}},\"ternary\":{\"aaxis\":{\"gridcolor\":\"white\",\"linecolor\":\"white\",\"ticks\":\"\"},\"baxis\":{\"gridcolor\":\"white\",\"linecolor\":\"white\",\"ticks\":\"\"},\"bgcolor\":\"#E5ECF6\",\"caxis\":{\"gridcolor\":\"white\",\"linecolor\":\"white\",\"ticks\":\"\"}},\"title\":{\"x\":0.05},\"xaxis\":{\"automargin\":true,\"gridcolor\":\"white\",\"linecolor\":\"white\",\"ticks\":\"\",\"title\":{\"standoff\":15},\"zerolinecolor\":\"white\",\"zerolinewidth\":2},\"yaxis\":{\"automargin\":true,\"gridcolor\":\"white\",\"linecolor\":\"white\",\"ticks\":\"\",\"title\":{\"standoff\":15},\"zerolinecolor\":\"white\",\"zerolinewidth\":2}}},\"title\":{\"text\":\"Generation Bio (GBIO)\",\"y\":0.9,\"x\":0.5,\"xanchor\":\"center\",\"yanchor\":\"top\"},\"width\":700,\"height\":350,\"xaxis\":{\"rangeslider\":{\"visible\":false}}},                        {\"responsive\": true}                    ).then(function(){\n",
       "                            \n",
       "var gd = document.getElementById('71c18769-440d-4364-a709-dc2d4823f8ca');\n",
       "var x = new MutationObserver(function (mutations, observer) {{\n",
       "        var display = window.getComputedStyle(gd).display;\n",
       "        if (!display || display === 'none') {{\n",
       "            console.log([gd, 'removed!']);\n",
       "            Plotly.purge(gd);\n",
       "            observer.disconnect();\n",
       "        }}\n",
       "}});\n",
       "\n",
       "// Listen for the removal of the full notebook cells\n",
       "var notebookContainer = gd.closest('#notebook-container');\n",
       "if (notebookContainer) {{\n",
       "    x.observe(notebookContainer, {childList: true});\n",
       "}}\n",
       "\n",
       "// Listen for the clearing of the current output cell\n",
       "var outputEl = gd.closest('.output');\n",
       "if (outputEl) {{\n",
       "    x.observe(outputEl, {childList: true});\n",
       "}}\n",
       "\n",
       "                        })                };                });            </script>        </div>"
      ]
     },
     "metadata": {},
     "output_type": "display_data"
    }
   ],
   "source": [
    "dateStr = gbio.index.strftime(\"%m-%d-%Y\")\n",
    "\n",
    "fig = go.Figure(data=[go.Candlestick(x=dateStr,\n",
    "                   open=gbio['Open'],\n",
    "                   high=gbio['High'],\n",
    "                   low=gbio['Low'],\n",
    "                   close=gbio['Close'])])\n",
    "\n",
    "fig.update_layout(\n",
    "    title={\n",
    "        'text': \"Generation Bio (GBIO)\",\n",
    "        'y':.9,\n",
    "        'x':0.5,\n",
    "        'xanchor': 'center',\n",
    "        'yanchor': 'top'},\n",
    "    width=700, height=350)\n",
    "fig.update_layout(xaxis_rangeslider_visible=False)\n",
    "\n",
    "fig.show()"
   ]
  },
  {
   "cell_type": "markdown",
   "id": "7a1587c5",
   "metadata": {},
   "source": [
    "# Pie chart of portfolio composition"
   ]
  },
  {
   "cell_type": "code",
   "execution_count": 84,
   "id": "e0d72839",
   "metadata": {},
   "outputs": [],
   "source": [
    "portfolio = {'TXG':9, 'ALLO':36, 'GBIO':78, 'IBB':5, 'NKTR':61, 'XBI':3, 'SPY':4}\n"
   ]
  },
  {
   "cell_type": "code",
   "execution_count": 146,
   "id": "62ddad1d",
   "metadata": {},
   "outputs": [
    {
     "name": "stdout",
     "output_type": "stream",
     "text": [
      "['TXG', 'ALLO', 'GBIO', 'IBB', 'NKTR', 'XBI', 'SPY']\n",
      "[9, 36, 78, 5, 61, 3, 4]\n"
     ]
    }
   ],
   "source": [
    "securities = list(portfolio.keys())\n",
    "print(securities)\n",
    "\n",
    "shares = list(portfolio.values())\n",
    "print(shares)"
   ]
  },
  {
   "cell_type": "code",
   "execution_count": 120,
   "id": "b4fb6f51",
   "metadata": {},
   "outputs": [],
   "source": [
    "current_share_prices = list()\n",
    "\n",
    "for ticker in portfolio.keys():\n",
    "    tickerData = yf.Ticker(ticker)\n",
    "    todayData = tickerData.history(period='1d')\n",
    "    current_share_prices.append(round(todayData['Close'][0], 2))"
   ]
  },
  {
   "cell_type": "code",
   "execution_count": 121,
   "id": "413bc524",
   "metadata": {},
   "outputs": [
    {
     "data": {
      "text/plain": [
       "[42.4, 13.62, 7.5, 127.33, 4.47, 84.08, 414.27]"
      ]
     },
     "execution_count": 121,
     "metadata": {},
     "output_type": "execute_result"
    }
   ],
   "source": [
    "current_share_prices"
   ]
  },
  {
   "cell_type": "code",
   "execution_count": 126,
   "id": "fe0a0693",
   "metadata": {},
   "outputs": [
    {
     "data": {
      "text/plain": [
       "[381.59999999999997,\n",
       " 490.32,\n",
       " 585.0,\n",
       " 636.65,\n",
       " 272.66999999999996,\n",
       " 252.24,\n",
       " 1657.08]"
      ]
     },
     "execution_count": 126,
     "metadata": {},
     "output_type": "execute_result"
    }
   ],
   "source": [
    "market_values = [shares[i] * current_share_prices[i] for i in range(len(current_share_prices))]\n",
    "market_values"
   ]
  },
  {
   "cell_type": "code",
   "execution_count": 129,
   "id": "ead6b969",
   "metadata": {},
   "outputs": [
    {
     "data": {
      "application/vnd.plotly.v1+json": {
       "config": {
        "plotlyServerURL": "https://plot.ly"
       },
       "data": [
        {
         "hoverinfo": "label+percent",
         "labels": [
          "TXG",
          "ALLO",
          "GBIO",
          "IBB",
          "NKTR",
          "XBI",
          "SPY"
         ],
         "marker": {
          "colors": [
           "gold",
           "mediumturquoise",
           "darkorange",
           "lightgreen",
           "cornflower blue"
          ],
          "line": {
           "color": "#000000",
           "width": 2
          }
         },
         "textfont": {
          "size": 15
         },
         "textinfo": "value+label",
         "type": "pie",
         "values": [
          381.59999999999997,
          490.32,
          585,
          636.65,
          272.66999999999996,
          252.24,
          1657.08
         ]
        }
       ],
       "layout": {
        "template": {
         "data": {
          "bar": [
           {
            "error_x": {
             "color": "#2a3f5f"
            },
            "error_y": {
             "color": "#2a3f5f"
            },
            "marker": {
             "line": {
              "color": "#E5ECF6",
              "width": 0.5
             },
             "pattern": {
              "fillmode": "overlay",
              "size": 10,
              "solidity": 0.2
             }
            },
            "type": "bar"
           }
          ],
          "barpolar": [
           {
            "marker": {
             "line": {
              "color": "#E5ECF6",
              "width": 0.5
             },
             "pattern": {
              "fillmode": "overlay",
              "size": 10,
              "solidity": 0.2
             }
            },
            "type": "barpolar"
           }
          ],
          "carpet": [
           {
            "aaxis": {
             "endlinecolor": "#2a3f5f",
             "gridcolor": "white",
             "linecolor": "white",
             "minorgridcolor": "white",
             "startlinecolor": "#2a3f5f"
            },
            "baxis": {
             "endlinecolor": "#2a3f5f",
             "gridcolor": "white",
             "linecolor": "white",
             "minorgridcolor": "white",
             "startlinecolor": "#2a3f5f"
            },
            "type": "carpet"
           }
          ],
          "choropleth": [
           {
            "colorbar": {
             "outlinewidth": 0,
             "ticks": ""
            },
            "type": "choropleth"
           }
          ],
          "contour": [
           {
            "colorbar": {
             "outlinewidth": 0,
             "ticks": ""
            },
            "colorscale": [
             [
              0,
              "#0d0887"
             ],
             [
              0.1111111111111111,
              "#46039f"
             ],
             [
              0.2222222222222222,
              "#7201a8"
             ],
             [
              0.3333333333333333,
              "#9c179e"
             ],
             [
              0.4444444444444444,
              "#bd3786"
             ],
             [
              0.5555555555555556,
              "#d8576b"
             ],
             [
              0.6666666666666666,
              "#ed7953"
             ],
             [
              0.7777777777777778,
              "#fb9f3a"
             ],
             [
              0.8888888888888888,
              "#fdca26"
             ],
             [
              1,
              "#f0f921"
             ]
            ],
            "type": "contour"
           }
          ],
          "contourcarpet": [
           {
            "colorbar": {
             "outlinewidth": 0,
             "ticks": ""
            },
            "type": "contourcarpet"
           }
          ],
          "heatmap": [
           {
            "colorbar": {
             "outlinewidth": 0,
             "ticks": ""
            },
            "colorscale": [
             [
              0,
              "#0d0887"
             ],
             [
              0.1111111111111111,
              "#46039f"
             ],
             [
              0.2222222222222222,
              "#7201a8"
             ],
             [
              0.3333333333333333,
              "#9c179e"
             ],
             [
              0.4444444444444444,
              "#bd3786"
             ],
             [
              0.5555555555555556,
              "#d8576b"
             ],
             [
              0.6666666666666666,
              "#ed7953"
             ],
             [
              0.7777777777777778,
              "#fb9f3a"
             ],
             [
              0.8888888888888888,
              "#fdca26"
             ],
             [
              1,
              "#f0f921"
             ]
            ],
            "type": "heatmap"
           }
          ],
          "heatmapgl": [
           {
            "colorbar": {
             "outlinewidth": 0,
             "ticks": ""
            },
            "colorscale": [
             [
              0,
              "#0d0887"
             ],
             [
              0.1111111111111111,
              "#46039f"
             ],
             [
              0.2222222222222222,
              "#7201a8"
             ],
             [
              0.3333333333333333,
              "#9c179e"
             ],
             [
              0.4444444444444444,
              "#bd3786"
             ],
             [
              0.5555555555555556,
              "#d8576b"
             ],
             [
              0.6666666666666666,
              "#ed7953"
             ],
             [
              0.7777777777777778,
              "#fb9f3a"
             ],
             [
              0.8888888888888888,
              "#fdca26"
             ],
             [
              1,
              "#f0f921"
             ]
            ],
            "type": "heatmapgl"
           }
          ],
          "histogram": [
           {
            "marker": {
             "pattern": {
              "fillmode": "overlay",
              "size": 10,
              "solidity": 0.2
             }
            },
            "type": "histogram"
           }
          ],
          "histogram2d": [
           {
            "colorbar": {
             "outlinewidth": 0,
             "ticks": ""
            },
            "colorscale": [
             [
              0,
              "#0d0887"
             ],
             [
              0.1111111111111111,
              "#46039f"
             ],
             [
              0.2222222222222222,
              "#7201a8"
             ],
             [
              0.3333333333333333,
              "#9c179e"
             ],
             [
              0.4444444444444444,
              "#bd3786"
             ],
             [
              0.5555555555555556,
              "#d8576b"
             ],
             [
              0.6666666666666666,
              "#ed7953"
             ],
             [
              0.7777777777777778,
              "#fb9f3a"
             ],
             [
              0.8888888888888888,
              "#fdca26"
             ],
             [
              1,
              "#f0f921"
             ]
            ],
            "type": "histogram2d"
           }
          ],
          "histogram2dcontour": [
           {
            "colorbar": {
             "outlinewidth": 0,
             "ticks": ""
            },
            "colorscale": [
             [
              0,
              "#0d0887"
             ],
             [
              0.1111111111111111,
              "#46039f"
             ],
             [
              0.2222222222222222,
              "#7201a8"
             ],
             [
              0.3333333333333333,
              "#9c179e"
             ],
             [
              0.4444444444444444,
              "#bd3786"
             ],
             [
              0.5555555555555556,
              "#d8576b"
             ],
             [
              0.6666666666666666,
              "#ed7953"
             ],
             [
              0.7777777777777778,
              "#fb9f3a"
             ],
             [
              0.8888888888888888,
              "#fdca26"
             ],
             [
              1,
              "#f0f921"
             ]
            ],
            "type": "histogram2dcontour"
           }
          ],
          "mesh3d": [
           {
            "colorbar": {
             "outlinewidth": 0,
             "ticks": ""
            },
            "type": "mesh3d"
           }
          ],
          "parcoords": [
           {
            "line": {
             "colorbar": {
              "outlinewidth": 0,
              "ticks": ""
             }
            },
            "type": "parcoords"
           }
          ],
          "pie": [
           {
            "automargin": true,
            "type": "pie"
           }
          ],
          "scatter": [
           {
            "marker": {
             "colorbar": {
              "outlinewidth": 0,
              "ticks": ""
             }
            },
            "type": "scatter"
           }
          ],
          "scatter3d": [
           {
            "line": {
             "colorbar": {
              "outlinewidth": 0,
              "ticks": ""
             }
            },
            "marker": {
             "colorbar": {
              "outlinewidth": 0,
              "ticks": ""
             }
            },
            "type": "scatter3d"
           }
          ],
          "scattercarpet": [
           {
            "marker": {
             "colorbar": {
              "outlinewidth": 0,
              "ticks": ""
             }
            },
            "type": "scattercarpet"
           }
          ],
          "scattergeo": [
           {
            "marker": {
             "colorbar": {
              "outlinewidth": 0,
              "ticks": ""
             }
            },
            "type": "scattergeo"
           }
          ],
          "scattergl": [
           {
            "marker": {
             "colorbar": {
              "outlinewidth": 0,
              "ticks": ""
             }
            },
            "type": "scattergl"
           }
          ],
          "scattermapbox": [
           {
            "marker": {
             "colorbar": {
              "outlinewidth": 0,
              "ticks": ""
             }
            },
            "type": "scattermapbox"
           }
          ],
          "scatterpolar": [
           {
            "marker": {
             "colorbar": {
              "outlinewidth": 0,
              "ticks": ""
             }
            },
            "type": "scatterpolar"
           }
          ],
          "scatterpolargl": [
           {
            "marker": {
             "colorbar": {
              "outlinewidth": 0,
              "ticks": ""
             }
            },
            "type": "scatterpolargl"
           }
          ],
          "scatterternary": [
           {
            "marker": {
             "colorbar": {
              "outlinewidth": 0,
              "ticks": ""
             }
            },
            "type": "scatterternary"
           }
          ],
          "surface": [
           {
            "colorbar": {
             "outlinewidth": 0,
             "ticks": ""
            },
            "colorscale": [
             [
              0,
              "#0d0887"
             ],
             [
              0.1111111111111111,
              "#46039f"
             ],
             [
              0.2222222222222222,
              "#7201a8"
             ],
             [
              0.3333333333333333,
              "#9c179e"
             ],
             [
              0.4444444444444444,
              "#bd3786"
             ],
             [
              0.5555555555555556,
              "#d8576b"
             ],
             [
              0.6666666666666666,
              "#ed7953"
             ],
             [
              0.7777777777777778,
              "#fb9f3a"
             ],
             [
              0.8888888888888888,
              "#fdca26"
             ],
             [
              1,
              "#f0f921"
             ]
            ],
            "type": "surface"
           }
          ],
          "table": [
           {
            "cells": {
             "fill": {
              "color": "#EBF0F8"
             },
             "line": {
              "color": "white"
             }
            },
            "header": {
             "fill": {
              "color": "#C8D4E3"
             },
             "line": {
              "color": "white"
             }
            },
            "type": "table"
           }
          ]
         },
         "layout": {
          "annotationdefaults": {
           "arrowcolor": "#2a3f5f",
           "arrowhead": 0,
           "arrowwidth": 1
          },
          "autotypenumbers": "strict",
          "coloraxis": {
           "colorbar": {
            "outlinewidth": 0,
            "ticks": ""
           }
          },
          "colorscale": {
           "diverging": [
            [
             0,
             "#8e0152"
            ],
            [
             0.1,
             "#c51b7d"
            ],
            [
             0.2,
             "#de77ae"
            ],
            [
             0.3,
             "#f1b6da"
            ],
            [
             0.4,
             "#fde0ef"
            ],
            [
             0.5,
             "#f7f7f7"
            ],
            [
             0.6,
             "#e6f5d0"
            ],
            [
             0.7,
             "#b8e186"
            ],
            [
             0.8,
             "#7fbc41"
            ],
            [
             0.9,
             "#4d9221"
            ],
            [
             1,
             "#276419"
            ]
           ],
           "sequential": [
            [
             0,
             "#0d0887"
            ],
            [
             0.1111111111111111,
             "#46039f"
            ],
            [
             0.2222222222222222,
             "#7201a8"
            ],
            [
             0.3333333333333333,
             "#9c179e"
            ],
            [
             0.4444444444444444,
             "#bd3786"
            ],
            [
             0.5555555555555556,
             "#d8576b"
            ],
            [
             0.6666666666666666,
             "#ed7953"
            ],
            [
             0.7777777777777778,
             "#fb9f3a"
            ],
            [
             0.8888888888888888,
             "#fdca26"
            ],
            [
             1,
             "#f0f921"
            ]
           ],
           "sequentialminus": [
            [
             0,
             "#0d0887"
            ],
            [
             0.1111111111111111,
             "#46039f"
            ],
            [
             0.2222222222222222,
             "#7201a8"
            ],
            [
             0.3333333333333333,
             "#9c179e"
            ],
            [
             0.4444444444444444,
             "#bd3786"
            ],
            [
             0.5555555555555556,
             "#d8576b"
            ],
            [
             0.6666666666666666,
             "#ed7953"
            ],
            [
             0.7777777777777778,
             "#fb9f3a"
            ],
            [
             0.8888888888888888,
             "#fdca26"
            ],
            [
             1,
             "#f0f921"
            ]
           ]
          },
          "colorway": [
           "#636efa",
           "#EF553B",
           "#00cc96",
           "#ab63fa",
           "#FFA15A",
           "#19d3f3",
           "#FF6692",
           "#B6E880",
           "#FF97FF",
           "#FECB52"
          ],
          "font": {
           "color": "#2a3f5f"
          },
          "geo": {
           "bgcolor": "white",
           "lakecolor": "white",
           "landcolor": "#E5ECF6",
           "showlakes": true,
           "showland": true,
           "subunitcolor": "white"
          },
          "hoverlabel": {
           "align": "left"
          },
          "hovermode": "closest",
          "mapbox": {
           "style": "light"
          },
          "paper_bgcolor": "white",
          "plot_bgcolor": "#E5ECF6",
          "polar": {
           "angularaxis": {
            "gridcolor": "white",
            "linecolor": "white",
            "ticks": ""
           },
           "bgcolor": "#E5ECF6",
           "radialaxis": {
            "gridcolor": "white",
            "linecolor": "white",
            "ticks": ""
           }
          },
          "scene": {
           "xaxis": {
            "backgroundcolor": "#E5ECF6",
            "gridcolor": "white",
            "gridwidth": 2,
            "linecolor": "white",
            "showbackground": true,
            "ticks": "",
            "zerolinecolor": "white"
           },
           "yaxis": {
            "backgroundcolor": "#E5ECF6",
            "gridcolor": "white",
            "gridwidth": 2,
            "linecolor": "white",
            "showbackground": true,
            "ticks": "",
            "zerolinecolor": "white"
           },
           "zaxis": {
            "backgroundcolor": "#E5ECF6",
            "gridcolor": "white",
            "gridwidth": 2,
            "linecolor": "white",
            "showbackground": true,
            "ticks": "",
            "zerolinecolor": "white"
           }
          },
          "shapedefaults": {
           "line": {
            "color": "#2a3f5f"
           }
          },
          "ternary": {
           "aaxis": {
            "gridcolor": "white",
            "linecolor": "white",
            "ticks": ""
           },
           "baxis": {
            "gridcolor": "white",
            "linecolor": "white",
            "ticks": ""
           },
           "bgcolor": "#E5ECF6",
           "caxis": {
            "gridcolor": "white",
            "linecolor": "white",
            "ticks": ""
           }
          },
          "title": {
           "x": 0.05
          },
          "xaxis": {
           "automargin": true,
           "gridcolor": "white",
           "linecolor": "white",
           "ticks": "",
           "title": {
            "standoff": 15
           },
           "zerolinecolor": "white",
           "zerolinewidth": 2
          },
          "yaxis": {
           "automargin": true,
           "gridcolor": "white",
           "linecolor": "white",
           "ticks": "",
           "title": {
            "standoff": 15
           },
           "zerolinecolor": "white",
           "zerolinewidth": 2
          }
         }
        }
       }
      },
      "text/html": [
       "<div>                            <div id=\"d6225aa1-b8c8-43a1-849f-5fcee12d44d1\" class=\"plotly-graph-div\" style=\"height:525px; width:100%;\"></div>            <script type=\"text/javascript\">                require([\"plotly\"], function(Plotly) {                    window.PLOTLYENV=window.PLOTLYENV || {};                                    if (document.getElementById(\"d6225aa1-b8c8-43a1-849f-5fcee12d44d1\")) {                    Plotly.newPlot(                        \"d6225aa1-b8c8-43a1-849f-5fcee12d44d1\",                        [{\"labels\":[\"TXG\",\"ALLO\",\"GBIO\",\"IBB\",\"NKTR\",\"XBI\",\"SPY\"],\"values\":[381.59999999999997,490.32,585.0,636.65,272.66999999999996,252.24,1657.08],\"type\":\"pie\",\"textfont\":{\"size\":15},\"marker\":{\"line\":{\"color\":\"#000000\",\"width\":2},\"colors\":[\"gold\",\"mediumturquoise\",\"darkorange\",\"lightgreen\",\"cornflower blue\"]},\"hoverinfo\":\"label+percent\",\"textinfo\":\"value+label\"}],                        {\"template\":{\"data\":{\"bar\":[{\"error_x\":{\"color\":\"#2a3f5f\"},\"error_y\":{\"color\":\"#2a3f5f\"},\"marker\":{\"line\":{\"color\":\"#E5ECF6\",\"width\":0.5},\"pattern\":{\"fillmode\":\"overlay\",\"size\":10,\"solidity\":0.2}},\"type\":\"bar\"}],\"barpolar\":[{\"marker\":{\"line\":{\"color\":\"#E5ECF6\",\"width\":0.5},\"pattern\":{\"fillmode\":\"overlay\",\"size\":10,\"solidity\":0.2}},\"type\":\"barpolar\"}],\"carpet\":[{\"aaxis\":{\"endlinecolor\":\"#2a3f5f\",\"gridcolor\":\"white\",\"linecolor\":\"white\",\"minorgridcolor\":\"white\",\"startlinecolor\":\"#2a3f5f\"},\"baxis\":{\"endlinecolor\":\"#2a3f5f\",\"gridcolor\":\"white\",\"linecolor\":\"white\",\"minorgridcolor\":\"white\",\"startlinecolor\":\"#2a3f5f\"},\"type\":\"carpet\"}],\"choropleth\":[{\"colorbar\":{\"outlinewidth\":0,\"ticks\":\"\"},\"type\":\"choropleth\"}],\"contour\":[{\"colorbar\":{\"outlinewidth\":0,\"ticks\":\"\"},\"colorscale\":[[0.0,\"#0d0887\"],[0.1111111111111111,\"#46039f\"],[0.2222222222222222,\"#7201a8\"],[0.3333333333333333,\"#9c179e\"],[0.4444444444444444,\"#bd3786\"],[0.5555555555555556,\"#d8576b\"],[0.6666666666666666,\"#ed7953\"],[0.7777777777777778,\"#fb9f3a\"],[0.8888888888888888,\"#fdca26\"],[1.0,\"#f0f921\"]],\"type\":\"contour\"}],\"contourcarpet\":[{\"colorbar\":{\"outlinewidth\":0,\"ticks\":\"\"},\"type\":\"contourcarpet\"}],\"heatmap\":[{\"colorbar\":{\"outlinewidth\":0,\"ticks\":\"\"},\"colorscale\":[[0.0,\"#0d0887\"],[0.1111111111111111,\"#46039f\"],[0.2222222222222222,\"#7201a8\"],[0.3333333333333333,\"#9c179e\"],[0.4444444444444444,\"#bd3786\"],[0.5555555555555556,\"#d8576b\"],[0.6666666666666666,\"#ed7953\"],[0.7777777777777778,\"#fb9f3a\"],[0.8888888888888888,\"#fdca26\"],[1.0,\"#f0f921\"]],\"type\":\"heatmap\"}],\"heatmapgl\":[{\"colorbar\":{\"outlinewidth\":0,\"ticks\":\"\"},\"colorscale\":[[0.0,\"#0d0887\"],[0.1111111111111111,\"#46039f\"],[0.2222222222222222,\"#7201a8\"],[0.3333333333333333,\"#9c179e\"],[0.4444444444444444,\"#bd3786\"],[0.5555555555555556,\"#d8576b\"],[0.6666666666666666,\"#ed7953\"],[0.7777777777777778,\"#fb9f3a\"],[0.8888888888888888,\"#fdca26\"],[1.0,\"#f0f921\"]],\"type\":\"heatmapgl\"}],\"histogram\":[{\"marker\":{\"pattern\":{\"fillmode\":\"overlay\",\"size\":10,\"solidity\":0.2}},\"type\":\"histogram\"}],\"histogram2d\":[{\"colorbar\":{\"outlinewidth\":0,\"ticks\":\"\"},\"colorscale\":[[0.0,\"#0d0887\"],[0.1111111111111111,\"#46039f\"],[0.2222222222222222,\"#7201a8\"],[0.3333333333333333,\"#9c179e\"],[0.4444444444444444,\"#bd3786\"],[0.5555555555555556,\"#d8576b\"],[0.6666666666666666,\"#ed7953\"],[0.7777777777777778,\"#fb9f3a\"],[0.8888888888888888,\"#fdca26\"],[1.0,\"#f0f921\"]],\"type\":\"histogram2d\"}],\"histogram2dcontour\":[{\"colorbar\":{\"outlinewidth\":0,\"ticks\":\"\"},\"colorscale\":[[0.0,\"#0d0887\"],[0.1111111111111111,\"#46039f\"],[0.2222222222222222,\"#7201a8\"],[0.3333333333333333,\"#9c179e\"],[0.4444444444444444,\"#bd3786\"],[0.5555555555555556,\"#d8576b\"],[0.6666666666666666,\"#ed7953\"],[0.7777777777777778,\"#fb9f3a\"],[0.8888888888888888,\"#fdca26\"],[1.0,\"#f0f921\"]],\"type\":\"histogram2dcontour\"}],\"mesh3d\":[{\"colorbar\":{\"outlinewidth\":0,\"ticks\":\"\"},\"type\":\"mesh3d\"}],\"parcoords\":[{\"line\":{\"colorbar\":{\"outlinewidth\":0,\"ticks\":\"\"}},\"type\":\"parcoords\"}],\"pie\":[{\"automargin\":true,\"type\":\"pie\"}],\"scatter\":[{\"marker\":{\"colorbar\":{\"outlinewidth\":0,\"ticks\":\"\"}},\"type\":\"scatter\"}],\"scatter3d\":[{\"line\":{\"colorbar\":{\"outlinewidth\":0,\"ticks\":\"\"}},\"marker\":{\"colorbar\":{\"outlinewidth\":0,\"ticks\":\"\"}},\"type\":\"scatter3d\"}],\"scattercarpet\":[{\"marker\":{\"colorbar\":{\"outlinewidth\":0,\"ticks\":\"\"}},\"type\":\"scattercarpet\"}],\"scattergeo\":[{\"marker\":{\"colorbar\":{\"outlinewidth\":0,\"ticks\":\"\"}},\"type\":\"scattergeo\"}],\"scattergl\":[{\"marker\":{\"colorbar\":{\"outlinewidth\":0,\"ticks\":\"\"}},\"type\":\"scattergl\"}],\"scattermapbox\":[{\"marker\":{\"colorbar\":{\"outlinewidth\":0,\"ticks\":\"\"}},\"type\":\"scattermapbox\"}],\"scatterpolar\":[{\"marker\":{\"colorbar\":{\"outlinewidth\":0,\"ticks\":\"\"}},\"type\":\"scatterpolar\"}],\"scatterpolargl\":[{\"marker\":{\"colorbar\":{\"outlinewidth\":0,\"ticks\":\"\"}},\"type\":\"scatterpolargl\"}],\"scatterternary\":[{\"marker\":{\"colorbar\":{\"outlinewidth\":0,\"ticks\":\"\"}},\"type\":\"scatterternary\"}],\"surface\":[{\"colorbar\":{\"outlinewidth\":0,\"ticks\":\"\"},\"colorscale\":[[0.0,\"#0d0887\"],[0.1111111111111111,\"#46039f\"],[0.2222222222222222,\"#7201a8\"],[0.3333333333333333,\"#9c179e\"],[0.4444444444444444,\"#bd3786\"],[0.5555555555555556,\"#d8576b\"],[0.6666666666666666,\"#ed7953\"],[0.7777777777777778,\"#fb9f3a\"],[0.8888888888888888,\"#fdca26\"],[1.0,\"#f0f921\"]],\"type\":\"surface\"}],\"table\":[{\"cells\":{\"fill\":{\"color\":\"#EBF0F8\"},\"line\":{\"color\":\"white\"}},\"header\":{\"fill\":{\"color\":\"#C8D4E3\"},\"line\":{\"color\":\"white\"}},\"type\":\"table\"}]},\"layout\":{\"annotationdefaults\":{\"arrowcolor\":\"#2a3f5f\",\"arrowhead\":0,\"arrowwidth\":1},\"autotypenumbers\":\"strict\",\"coloraxis\":{\"colorbar\":{\"outlinewidth\":0,\"ticks\":\"\"}},\"colorscale\":{\"diverging\":[[0,\"#8e0152\"],[0.1,\"#c51b7d\"],[0.2,\"#de77ae\"],[0.3,\"#f1b6da\"],[0.4,\"#fde0ef\"],[0.5,\"#f7f7f7\"],[0.6,\"#e6f5d0\"],[0.7,\"#b8e186\"],[0.8,\"#7fbc41\"],[0.9,\"#4d9221\"],[1,\"#276419\"]],\"sequential\":[[0.0,\"#0d0887\"],[0.1111111111111111,\"#46039f\"],[0.2222222222222222,\"#7201a8\"],[0.3333333333333333,\"#9c179e\"],[0.4444444444444444,\"#bd3786\"],[0.5555555555555556,\"#d8576b\"],[0.6666666666666666,\"#ed7953\"],[0.7777777777777778,\"#fb9f3a\"],[0.8888888888888888,\"#fdca26\"],[1.0,\"#f0f921\"]],\"sequentialminus\":[[0.0,\"#0d0887\"],[0.1111111111111111,\"#46039f\"],[0.2222222222222222,\"#7201a8\"],[0.3333333333333333,\"#9c179e\"],[0.4444444444444444,\"#bd3786\"],[0.5555555555555556,\"#d8576b\"],[0.6666666666666666,\"#ed7953\"],[0.7777777777777778,\"#fb9f3a\"],[0.8888888888888888,\"#fdca26\"],[1.0,\"#f0f921\"]]},\"colorway\":[\"#636efa\",\"#EF553B\",\"#00cc96\",\"#ab63fa\",\"#FFA15A\",\"#19d3f3\",\"#FF6692\",\"#B6E880\",\"#FF97FF\",\"#FECB52\"],\"font\":{\"color\":\"#2a3f5f\"},\"geo\":{\"bgcolor\":\"white\",\"lakecolor\":\"white\",\"landcolor\":\"#E5ECF6\",\"showlakes\":true,\"showland\":true,\"subunitcolor\":\"white\"},\"hoverlabel\":{\"align\":\"left\"},\"hovermode\":\"closest\",\"mapbox\":{\"style\":\"light\"},\"paper_bgcolor\":\"white\",\"plot_bgcolor\":\"#E5ECF6\",\"polar\":{\"angularaxis\":{\"gridcolor\":\"white\",\"linecolor\":\"white\",\"ticks\":\"\"},\"bgcolor\":\"#E5ECF6\",\"radialaxis\":{\"gridcolor\":\"white\",\"linecolor\":\"white\",\"ticks\":\"\"}},\"scene\":{\"xaxis\":{\"backgroundcolor\":\"#E5ECF6\",\"gridcolor\":\"white\",\"gridwidth\":2,\"linecolor\":\"white\",\"showbackground\":true,\"ticks\":\"\",\"zerolinecolor\":\"white\"},\"yaxis\":{\"backgroundcolor\":\"#E5ECF6\",\"gridcolor\":\"white\",\"gridwidth\":2,\"linecolor\":\"white\",\"showbackground\":true,\"ticks\":\"\",\"zerolinecolor\":\"white\"},\"zaxis\":{\"backgroundcolor\":\"#E5ECF6\",\"gridcolor\":\"white\",\"gridwidth\":2,\"linecolor\":\"white\",\"showbackground\":true,\"ticks\":\"\",\"zerolinecolor\":\"white\"}},\"shapedefaults\":{\"line\":{\"color\":\"#2a3f5f\"}},\"ternary\":{\"aaxis\":{\"gridcolor\":\"white\",\"linecolor\":\"white\",\"ticks\":\"\"},\"baxis\":{\"gridcolor\":\"white\",\"linecolor\":\"white\",\"ticks\":\"\"},\"bgcolor\":\"#E5ECF6\",\"caxis\":{\"gridcolor\":\"white\",\"linecolor\":\"white\",\"ticks\":\"\"}},\"title\":{\"x\":0.05},\"xaxis\":{\"automargin\":true,\"gridcolor\":\"white\",\"linecolor\":\"white\",\"ticks\":\"\",\"title\":{\"standoff\":15},\"zerolinecolor\":\"white\",\"zerolinewidth\":2},\"yaxis\":{\"automargin\":true,\"gridcolor\":\"white\",\"linecolor\":\"white\",\"ticks\":\"\",\"title\":{\"standoff\":15},\"zerolinecolor\":\"white\",\"zerolinewidth\":2}}}},                        {\"responsive\": true}                    ).then(function(){\n",
       "                            \n",
       "var gd = document.getElementById('d6225aa1-b8c8-43a1-849f-5fcee12d44d1');\n",
       "var x = new MutationObserver(function (mutations, observer) {{\n",
       "        var display = window.getComputedStyle(gd).display;\n",
       "        if (!display || display === 'none') {{\n",
       "            console.log([gd, 'removed!']);\n",
       "            Plotly.purge(gd);\n",
       "            observer.disconnect();\n",
       "        }}\n",
       "}});\n",
       "\n",
       "// Listen for the removal of the full notebook cells\n",
       "var notebookContainer = gd.closest('#notebook-container');\n",
       "if (notebookContainer) {{\n",
       "    x.observe(notebookContainer, {childList: true});\n",
       "}}\n",
       "\n",
       "// Listen for the clearing of the current output cell\n",
       "var outputEl = gd.closest('.output');\n",
       "if (outputEl) {{\n",
       "    x.observe(outputEl, {childList: true});\n",
       "}}\n",
       "\n",
       "                        })                };                });            </script>        </div>"
      ]
     },
     "metadata": {},
     "output_type": "display_data"
    }
   ],
   "source": [
    "colors = ['gold', 'mediumturquoise', 'darkorange', 'lightgreen', 'cornflower blue']\n",
    "\n",
    "info = ['percent+label', 'value+label']\n",
    "\n",
    "fig = go.Figure(data=[go.Pie(labels=list(portfolio.keys()),\n",
    "                             values=list(market_values))])\n",
    "fig.update_traces(hoverinfo='label+percent', textinfo=info[1], textfont_size=15,\n",
    "                  marker=dict(colors=colors, line=dict(color='#000000', width=2)))\n",
    "fig.show()"
   ]
  },
  {
   "cell_type": "markdown",
   "id": "c74cebfe",
   "metadata": {},
   "source": [
    "# Plot all accounts as a single index"
   ]
  },
  {
   "cell_type": "code",
   "execution_count": 136,
   "id": "198826aa",
   "metadata": {},
   "outputs": [
    {
     "name": "stdout",
     "output_type": "stream",
     "text": [
      "TXG\n",
      "ALLO\n",
      "GBIO\n",
      "IBB\n",
      "NKTR\n",
      "XBI\n",
      "SPY\n"
     ]
    }
   ],
   "source": [
    "# S Phase All Accounts\n",
    "\n",
    "selected_period = '6mo'\n",
    "\n",
    "portfolio_dfs = list()\n",
    "\n",
    "for security in list(portfolio.keys()):\n",
    "    print(security)\n",
    "    security_ticker = yf.Ticker(security)\n",
    "    security_df = security_ticker.history(period = selected_period)\n",
    "    portfolio_dfs.append(security_df)"
   ]
  },
  {
   "cell_type": "code",
   "execution_count": 137,
   "id": "0f20dd41",
   "metadata": {},
   "outputs": [
    {
     "data": {
      "text/plain": [
       "[                 Open       High        Low      Close   Volume  Dividends  \\\n",
       " Date                                                                         \n",
       " 2022-02-04  90.480003  91.660004  87.583000  90.290001   751700          0   \n",
       " 2022-02-07  90.339996  96.459999  89.945000  90.839996   609700          0   \n",
       " 2022-02-08  90.000000  91.699997  87.629997  90.580002   408000          0   \n",
       " 2022-02-09  91.699997  97.059998  91.699997  96.099998   609600          0   \n",
       " 2022-02-10  92.629997  99.139999  91.320000  93.820000   897900          0   \n",
       " ...               ...        ...        ...        ...      ...        ...   \n",
       " 2022-07-28  38.540001  40.369999  37.660000  39.900002  1415000          0   \n",
       " 2022-07-29  39.660000  40.310001  38.400002  40.150002  1100600          0   \n",
       " 2022-08-01  39.820000  40.590000  39.090000  39.840000   741600          0   \n",
       " 2022-08-02  39.130001  41.720001  39.119999  40.799999   683000          0   \n",
       " 2022-08-03  41.200001  42.650002  41.200001  42.400002  1028966          0   \n",
       " \n",
       "             Stock Splits  \n",
       " Date                      \n",
       " 2022-02-04             0  \n",
       " 2022-02-07             0  \n",
       " 2022-02-08             0  \n",
       " 2022-02-09             0  \n",
       " 2022-02-10             0  \n",
       " ...                  ...  \n",
       " 2022-07-28             0  \n",
       " 2022-07-29             0  \n",
       " 2022-08-01             0  \n",
       " 2022-08-02             0  \n",
       " 2022-08-03             0  \n",
       " \n",
       " [124 rows x 7 columns],\n",
       "              Open   High    Low  Close   Volume  Dividends  Stock Splits\n",
       " Date                                                                    \n",
       " 2022-02-04  10.67  11.17  10.57  11.02  1130600          0             0\n",
       " 2022-02-07  10.98  11.44  10.97  11.23   919600          0             0\n",
       " 2022-02-08  11.15  11.15  10.48  10.80   934700          0             0\n",
       " 2022-02-09  11.02  11.23  10.82  11.05  1332900          0             0\n",
       " 2022-02-10  10.69  11.06  10.40  10.62  1704200          0             0\n",
       " ...           ...    ...    ...    ...      ...        ...           ...\n",
       " 2022-07-28  13.93  14.02  12.39  13.25  1079600          0             0\n",
       " 2022-07-29  13.13  13.30  12.62  12.98  1017500          0             0\n",
       " 2022-08-01  12.82  12.93  12.01  12.12  1705600          0             0\n",
       " 2022-08-02  11.97  12.60  11.88  12.51  1296400          0             0\n",
       " 2022-08-03  12.77  13.97  12.77  13.62  1540410          0             0\n",
       " \n",
       " [124 rows x 7 columns],\n",
       "             Open  High   Low  Close   Volume  Dividends  Stock Splits\n",
       " Date                                                                 \n",
       " 2022-02-04  5.90  6.01  5.66   5.82   311700          0             0\n",
       " 2022-02-07  5.95  6.06  5.72   5.77   209300          0             0\n",
       " 2022-02-08  5.74  5.74  5.51   5.65   272900          0             0\n",
       " 2022-02-09  5.79  5.97  5.72   5.91   495600          0             0\n",
       " 2022-02-10  5.70  5.95  5.15   5.23   644100          0             0\n",
       " ...          ...   ...   ...    ...      ...        ...           ...\n",
       " 2022-07-28  6.85  6.85  6.40   6.58   112100          0             0\n",
       " 2022-07-29  6.57  6.59  6.15   6.38   202900          0             0\n",
       " 2022-08-01  6.29  6.47  6.13   6.27  1753800          0             0\n",
       " 2022-08-02  6.21  6.54  6.21   6.38   208300          0             0\n",
       " 2022-08-03  6.55  7.60  6.55   7.50   249523          0             0\n",
       " \n",
       " [124 rows x 7 columns],\n",
       "                   Open        High         Low       Close   Volume  \\\n",
       " Date                                                                  \n",
       " 2022-02-04  129.177210  131.554403  128.937488  130.475677  2459000   \n",
       " 2022-02-07  130.725385  132.613152  130.445717  131.484482  2191100   \n",
       " 2022-02-08  131.064980  131.913982  129.366992  131.394592  2404300   \n",
       " 2022-02-09  132.383411  135.180106  132.273540  134.940399  3348900   \n",
       " 2022-02-10  132.093752  135.359893  130.555579  131.644287  3406400   \n",
       " ...                ...         ...         ...         ...      ...   \n",
       " 2022-07-28  124.320000  124.860001  121.190002  124.120003  1756500   \n",
       " 2022-07-29  123.949997  124.239998  122.790001  124.080002  1328700   \n",
       " 2022-08-01  123.449997  124.169998  121.919998  122.269997  1740700   \n",
       " 2022-08-02  121.389999  123.959999  121.239998  122.629997  1261900   \n",
       " 2022-08-03  125.480003  128.610001  125.370003  127.330002  2749315   \n",
       " \n",
       "             Dividends  Stock Splits  \n",
       " Date                                 \n",
       " 2022-02-04        0.0             0  \n",
       " 2022-02-07        0.0             0  \n",
       " 2022-02-08        0.0             0  \n",
       " 2022-02-09        0.0             0  \n",
       " 2022-02-10        0.0             0  \n",
       " ...               ...           ...  \n",
       " 2022-07-28        0.0             0  \n",
       " 2022-07-29        0.0             0  \n",
       " 2022-08-01        0.0             0  \n",
       " 2022-08-02        0.0             0  \n",
       " 2022-08-03        0.0             0  \n",
       " \n",
       " [124 rows x 7 columns],\n",
       "              Open   High      Low  Close   Volume  Dividends  Stock Splits\n",
       " Date                                                                      \n",
       " 2022-02-04   9.90  10.63   9.7500  10.46  2155200          0             0\n",
       " 2022-02-07  10.50  10.84  10.4200  10.58  1571800          0             0\n",
       " 2022-02-08  10.56  10.69  10.1900  10.67  1245700          0             0\n",
       " 2022-02-09  10.75  11.29  10.6900  11.28  1575500          0             0\n",
       " 2022-02-10  11.10  11.59  10.9500  11.05  1654400          0             0\n",
       " ...           ...    ...      ...    ...      ...        ...           ...\n",
       " 2022-07-28   4.12   4.18   3.9100   4.05  1704200          0             0\n",
       " 2022-07-29   4.01   4.12   3.8800   3.96  2174700          0             0\n",
       " 2022-08-01   3.91   3.94   3.7700   3.77  1772800          0             0\n",
       " 2022-08-02   3.74   4.03   3.7200   4.03  1904600          0             0\n",
       " 2022-08-03   4.08   4.47   4.0692   4.47  3020020          0             0\n",
       " \n",
       " [124 rows x 7 columns],\n",
       "                  Open       High        Low      Close    Volume  Dividends  \\\n",
       " Date                                                                          \n",
       " 2022-02-04  89.120003  91.650002  88.430000  90.790001  11088100          0   \n",
       " 2022-02-07  90.830002  94.180000  90.830002  93.250000  14329300          0   \n",
       " 2022-02-08  92.980003  93.440002  90.870003  92.940002  11722300          0   \n",
       " 2022-02-09  94.080002  97.449997  93.809998  97.260002  16571600          0   \n",
       " 2022-02-10  94.889999  99.160004  93.110001  94.360001  21113000          0   \n",
       " ...               ...        ...        ...        ...       ...        ...   \n",
       " 2022-07-28  83.500000  83.930000  80.410004  82.500000  11298400          0   \n",
       " 2022-07-29  82.120003  82.300003  80.000000  81.129997   9467700          0   \n",
       " 2022-08-01  80.339996  81.830002  78.989998  79.470001  11546100          0   \n",
       " 2022-08-02  78.919998  81.879997  78.720001  80.980003   9963500          0   \n",
       " 2022-08-03  82.989998  85.497101  82.800003  84.070000  14017954          0   \n",
       " \n",
       "             Stock Splits  \n",
       " Date                      \n",
       " 2022-02-04             0  \n",
       " 2022-02-07             0  \n",
       " 2022-02-08             0  \n",
       " 2022-02-09             0  \n",
       " 2022-02-10             0  \n",
       " ...                  ...  \n",
       " 2022-07-28             0  \n",
       " 2022-07-29             0  \n",
       " 2022-08-01             0  \n",
       " 2022-08-02             0  \n",
       " 2022-08-03             0  \n",
       " \n",
       " [124 rows x 7 columns],\n",
       "                   Open        High         Low       Close     Volume  \\\n",
       " Date                                                                    \n",
       " 2022-02-04  443.053792  449.436301  440.552383  445.386444  118454400   \n",
       " 2022-02-07  446.190477  447.659528  442.557501  443.957092   84472900   \n",
       " 2022-02-08  443.431023  448.582698  441.932164  447.609924   81012000   \n",
       " 2022-02-09  451.858289  454.498649  451.649848  454.161163   92589900   \n",
       " 2022-02-10  448.006933  454.329887  443.897522  446.001862  140103700   \n",
       " ...                ...         ...         ...         ...        ...   \n",
       " 2022-07-28  401.890015  406.799988  398.149994  406.070007   73966600   \n",
       " 2022-07-29  407.579987  413.029999  406.769989  411.989990   86921200   \n",
       " 2022-08-01  409.149994  413.410004  408.399994  410.769989   69997500   \n",
       " 2022-08-02  409.119995  413.000000  406.820007  408.059998   63435400   \n",
       " 2022-08-03  410.299988  415.679993  410.000000  414.269989   58040804   \n",
       " \n",
       "             Dividends  Stock Splits  \n",
       " Date                                 \n",
       " 2022-02-04        0.0             0  \n",
       " 2022-02-07        0.0             0  \n",
       " 2022-02-08        0.0             0  \n",
       " 2022-02-09        0.0             0  \n",
       " 2022-02-10        0.0             0  \n",
       " ...               ...           ...  \n",
       " 2022-07-28        0.0             0  \n",
       " 2022-07-29        0.0             0  \n",
       " 2022-08-01        0.0             0  \n",
       " 2022-08-02        0.0             0  \n",
       " 2022-08-03        0.0             0  \n",
       " \n",
       " [124 rows x 7 columns]]"
      ]
     },
     "execution_count": 137,
     "metadata": {},
     "output_type": "execute_result"
    }
   ],
   "source": [
    "portfolio_dfs"
   ]
  },
  {
   "cell_type": "code",
   "execution_count": 138,
   "id": "d8a786b5",
   "metadata": {},
   "outputs": [
    {
     "data": {
      "image/png": "[encoded data removed]",
      "text/plain": [
       "<Figure size 432x288 with 1 Axes>"
      ]
     },
     "metadata": {
      "needs_background": "light"
     },
     "output_type": "display_data"
    }
   ],
   "source": [
    "for security in portfolio_dfs:\n",
    "    plt.plot(security['Close'])"
   ]
  },
  {
   "cell_type": "code",
   "execution_count": 151,
   "id": "ebaac98a",
   "metadata": {},
   "outputs": [
    {
     "data": {
      "text/html": [
       "<div>\n",
       "<style scoped>\n",
       "    .dataframe tbody tr th:only-of-type {\n",
       "        vertical-align: middle;\n",
       "    }\n",
       "\n",
       "    .dataframe tbody tr th {\n",
       "        vertical-align: top;\n",
       "    }\n",
       "\n",
       "    .dataframe thead th {\n",
       "        text-align: right;\n",
       "    }\n",
       "</style>\n",
       "<table border=\"1\" class=\"dataframe\">\n",
       "  <thead>\n",
       "    <tr style=\"text-align: right;\">\n",
       "      <th></th>\n",
       "      <th>Open</th>\n",
       "      <th>High</th>\n",
       "      <th>Low</th>\n",
       "      <th>Close</th>\n",
       "      <th>Volume</th>\n",
       "      <th>Dividends</th>\n",
       "      <th>Stock Splits</th>\n",
       "    </tr>\n",
       "    <tr>\n",
       "      <th>Date</th>\n",
       "      <th></th>\n",
       "      <th></th>\n",
       "      <th></th>\n",
       "      <th></th>\n",
       "      <th></th>\n",
       "      <th></th>\n",
       "      <th></th>\n",
       "    </tr>\n",
       "  </thead>\n",
       "  <tbody>\n",
       "    <tr>\n",
       "      <th>2022-02-04</th>\n",
       "      <td>814.320030</td>\n",
       "      <td>824.940033</td>\n",
       "      <td>788.247002</td>\n",
       "      <td>812.610008</td>\n",
       "      <td>6765300</td>\n",
       "      <td>0</td>\n",
       "      <td>0</td>\n",
       "    </tr>\n",
       "    <tr>\n",
       "      <th>2022-02-07</th>\n",
       "      <td>813.059967</td>\n",
       "      <td>868.139992</td>\n",
       "      <td>809.504997</td>\n",
       "      <td>817.559967</td>\n",
       "      <td>5487300</td>\n",
       "      <td>0</td>\n",
       "      <td>0</td>\n",
       "    </tr>\n",
       "    <tr>\n",
       "      <th>2022-02-08</th>\n",
       "      <td>810.000000</td>\n",
       "      <td>825.299973</td>\n",
       "      <td>788.669975</td>\n",
       "      <td>815.220016</td>\n",
       "      <td>3672000</td>\n",
       "      <td>0</td>\n",
       "      <td>0</td>\n",
       "    </tr>\n",
       "    <tr>\n",
       "      <th>2022-02-09</th>\n",
       "      <td>825.299973</td>\n",
       "      <td>873.539978</td>\n",
       "      <td>825.299973</td>\n",
       "      <td>864.899986</td>\n",
       "      <td>5486400</td>\n",
       "      <td>0</td>\n",
       "      <td>0</td>\n",
       "    </tr>\n",
       "    <tr>\n",
       "      <th>2022-02-10</th>\n",
       "      <td>833.669975</td>\n",
       "      <td>892.259995</td>\n",
       "      <td>821.879997</td>\n",
       "      <td>844.379997</td>\n",
       "      <td>8081100</td>\n",
       "      <td>0</td>\n",
       "      <td>0</td>\n",
       "    </tr>\n",
       "    <tr>\n",
       "      <th>...</th>\n",
       "      <td>...</td>\n",
       "      <td>...</td>\n",
       "      <td>...</td>\n",
       "      <td>...</td>\n",
       "      <td>...</td>\n",
       "      <td>...</td>\n",
       "      <td>...</td>\n",
       "    </tr>\n",
       "    <tr>\n",
       "      <th>2022-07-28</th>\n",
       "      <td>346.860008</td>\n",
       "      <td>363.329990</td>\n",
       "      <td>338.939999</td>\n",
       "      <td>359.100014</td>\n",
       "      <td>12735000</td>\n",
       "      <td>0</td>\n",
       "      <td>0</td>\n",
       "    </tr>\n",
       "    <tr>\n",
       "      <th>2022-07-29</th>\n",
       "      <td>356.939999</td>\n",
       "      <td>362.790012</td>\n",
       "      <td>345.600014</td>\n",
       "      <td>361.350014</td>\n",
       "      <td>9905400</td>\n",
       "      <td>0</td>\n",
       "      <td>0</td>\n",
       "    </tr>\n",
       "    <tr>\n",
       "      <th>2022-08-01</th>\n",
       "      <td>358.379997</td>\n",
       "      <td>365.310001</td>\n",
       "      <td>351.810001</td>\n",
       "      <td>358.560001</td>\n",
       "      <td>6674400</td>\n",
       "      <td>0</td>\n",
       "      <td>0</td>\n",
       "    </tr>\n",
       "    <tr>\n",
       "      <th>2022-08-02</th>\n",
       "      <td>352.170010</td>\n",
       "      <td>375.480011</td>\n",
       "      <td>352.079990</td>\n",
       "      <td>367.199993</td>\n",
       "      <td>6147000</td>\n",
       "      <td>0</td>\n",
       "      <td>0</td>\n",
       "    </tr>\n",
       "    <tr>\n",
       "      <th>2022-08-03</th>\n",
       "      <td>370.800007</td>\n",
       "      <td>383.850014</td>\n",
       "      <td>370.800007</td>\n",
       "      <td>381.600014</td>\n",
       "      <td>9260694</td>\n",
       "      <td>0</td>\n",
       "      <td>0</td>\n",
       "    </tr>\n",
       "  </tbody>\n",
       "</table>\n",
       "<p>124 rows × 7 columns</p>\n",
       "</div>"
      ],
      "text/plain": [
       "                  Open        High         Low       Close    Volume  \\\n",
       "Date                                                                   \n",
       "2022-02-04  814.320030  824.940033  788.247002  812.610008   6765300   \n",
       "2022-02-07  813.059967  868.139992  809.504997  817.559967   5487300   \n",
       "2022-02-08  810.000000  825.299973  788.669975  815.220016   3672000   \n",
       "2022-02-09  825.299973  873.539978  825.299973  864.899986   5486400   \n",
       "2022-02-10  833.669975  892.259995  821.879997  844.379997   8081100   \n",
       "...                ...         ...         ...         ...       ...   \n",
       "2022-07-28  346.860008  363.329990  338.939999  359.100014  12735000   \n",
       "2022-07-29  356.939999  362.790012  345.600014  361.350014   9905400   \n",
       "2022-08-01  358.379997  365.310001  351.810001  358.560001   6674400   \n",
       "2022-08-02  352.170010  375.480011  352.079990  367.199993   6147000   \n",
       "2022-08-03  370.800007  383.850014  370.800007  381.600014   9260694   \n",
       "\n",
       "            Dividends  Stock Splits  \n",
       "Date                                 \n",
       "2022-02-04          0             0  \n",
       "2022-02-07          0             0  \n",
       "2022-02-08          0             0  \n",
       "2022-02-09          0             0  \n",
       "2022-02-10          0             0  \n",
       "...               ...           ...  \n",
       "2022-07-28          0             0  \n",
       "2022-07-29          0             0  \n",
       "2022-08-01          0             0  \n",
       "2022-08-02          0             0  \n",
       "2022-08-03          0             0  \n",
       "\n",
       "[124 rows x 7 columns]"
      ]
     },
     "execution_count": 151,
     "metadata": {},
     "output_type": "execute_result"
    }
   ],
   "source": [
    "# first, let's multiply each df by the number of shares we hold\n",
    "\n",
    "scaled_dfs = list()\n",
    "\n",
    "for i in range(len(shares)):\n",
    "    scaled_df = portfolio_dfs[i] * shares[i]\n",
    "    scaled_dfs.append(scaled_df)\n",
    "\n",
    "scaled_dfs[0]"
   ]
  },
  {
   "cell_type": "code",
   "execution_count": 157,
   "id": "82bf1e5b",
   "metadata": {},
   "outputs": [],
   "source": [
    "# Next, let's add all of them together into an aggregate df\n",
    "\n",
    "# all_accounts_df = pd.DataFrame(0, index=np.arange(len(scaled_dfs[0])), columns=scaled_dfs[0].columns)\n",
    "# all_accounts_df\n",
    "\n",
    "# for scaled_df in scaled_dfs:\n",
    "#     all_accounts_df = all_accounts_df.add(scaled_df)\n",
    "    \n",
    "all_accounts_df = scaled_dfs[0].add(scaled_dfs[1])\n",
    "\n",
    "for scaled_df in scaled_dfs[2:]:\n",
    "    all_accounts_df = all_accounts_df.add(scaled_df)"
   ]
  },
  {
   "cell_type": "code",
   "execution_count": 158,
   "id": "b849a9a9",
   "metadata": {},
   "outputs": [
    {
     "data": {
      "text/html": [
       "<div>\n",
       "<style scoped>\n",
       "    .dataframe tbody tr th:only-of-type {\n",
       "        vertical-align: middle;\n",
       "    }\n",
       "\n",
       "    .dataframe tbody tr th {\n",
       "        vertical-align: top;\n",
       "    }\n",
       "\n",
       "    .dataframe thead th {\n",
       "        text-align: right;\n",
       "    }\n",
       "</style>\n",
       "<table border=\"1\" class=\"dataframe\">\n",
       "  <thead>\n",
       "    <tr style=\"text-align: right;\">\n",
       "      <th></th>\n",
       "      <th>Open</th>\n",
       "      <th>High</th>\n",
       "      <th>Low</th>\n",
       "      <th>Close</th>\n",
       "      <th>Volume</th>\n",
       "      <th>Dividends</th>\n",
       "      <th>Stock Splits</th>\n",
       "    </tr>\n",
       "    <tr>\n",
       "      <th>Date</th>\n",
       "      <th></th>\n",
       "      <th></th>\n",
       "      <th></th>\n",
       "      <th></th>\n",
       "      <th></th>\n",
       "      <th></th>\n",
       "      <th></th>\n",
       "    </tr>\n",
       "  </thead>\n",
       "  <tbody>\n",
       "    <tr>\n",
       "      <th>2022-02-04</th>\n",
       "      <td>4948.001246</td>\n",
       "      <td>5074.737285</td>\n",
       "      <td>4877.183952</td>\n",
       "      <td>5007.644207</td>\n",
       "      <td>722623600</td>\n",
       "      <td>0.0</td>\n",
       "      <td>0</td>\n",
       "    </tr>\n",
       "    <tr>\n",
       "      <th>2022-02-07</th>\n",
       "      <td>5023.818773</td>\n",
       "      <td>5150.143852</td>\n",
       "      <td>4981.153591</td>\n",
       "      <td>5030.280723</td>\n",
       "      <td>542633100</td>\n",
       "      <td>0.0</td>\n",
       "      <td>0</td>\n",
       "    </tr>\n",
       "    <tr>\n",
       "      <th>2022-02-08</th>\n",
       "      <td>5011.268996</td>\n",
       "      <td>5060.730627</td>\n",
       "      <td>4904.493573</td>\n",
       "      <td>5021.822701</td>\n",
       "      <td>505831500</td>\n",
       "      <td>0.0</td>\n",
       "      <td>0</td>\n",
       "    </tr>\n",
       "    <tr>\n",
       "      <th>2022-02-09</th>\n",
       "      <td>5080.980201</td>\n",
       "      <td>5218.415059</td>\n",
       "      <td>5062.467005</td>\n",
       "      <td>5194.886621</td>\n",
       "      <td>625052000</td>\n",
       "      <td>0.0</td>\n",
       "      <td>0</td>\n",
       "    </tr>\n",
       "    <tr>\n",
       "      <th>2022-02-10</th>\n",
       "      <td>5077.376462</td>\n",
       "      <td>5253.109030</td>\n",
       "      <td>4973.627963</td>\n",
       "      <td>5033.998890</td>\n",
       "      <td>861376300</td>\n",
       "      <td>0.0</td>\n",
       "      <td>0</td>\n",
       "    </tr>\n",
       "    <tr>\n",
       "      <th>...</th>\n",
       "      <td>...</td>\n",
       "      <td>...</td>\n",
       "      <td>...</td>\n",
       "      <td>...</td>\n",
       "      <td>...</td>\n",
       "      <td>...</td>\n",
       "      <td>...</td>\n",
       "    </tr>\n",
       "    <tr>\n",
       "      <th>2022-07-28</th>\n",
       "      <td>4113.620062</td>\n",
       "      <td>4160.619944</td>\n",
       "      <td>3962.470022</td>\n",
       "      <td>4088.770062</td>\n",
       "      <td>502844700</td>\n",
       "      <td>0.0</td>\n",
       "      <td>0</td>\n",
       "    </tr>\n",
       "    <tr>\n",
       "      <th>2022-07-29</th>\n",
       "      <td>4083.119969</td>\n",
       "      <td>4127.150018</td>\n",
       "      <td>3997.329985</td>\n",
       "      <td>4079.579970</td>\n",
       "      <td>577749700</td>\n",
       "      <td>0.0</td>\n",
       "      <td>0</td>\n",
       "    </tr>\n",
       "    <tr>\n",
       "      <th>2022-08-01</th>\n",
       "      <td>4043.899938</td>\n",
       "      <td>4095.770010</td>\n",
       "      <td>3972.449977</td>\n",
       "      <td>4006.749938</td>\n",
       "      <td>636345000</td>\n",
       "      <td>0.0</td>\n",
       "      <td>0</td>\n",
       "    </tr>\n",
       "    <tr>\n",
       "      <th>2022-08-02</th>\n",
       "      <td>3975.799995</td>\n",
       "      <td>4102.470022</td>\n",
       "      <td>3960.700022</td>\n",
       "      <td>4049.360010</td>\n",
       "      <td>475187000</td>\n",
       "      <td>0.0</td>\n",
       "      <td>0</td>\n",
       "    </tr>\n",
       "    <tr>\n",
       "      <th>2022-08-03</th>\n",
       "      <td>4107.869995</td>\n",
       "      <td>4314.501279</td>\n",
       "      <td>4104.891263</td>\n",
       "      <td>4275.529961</td>\n",
       "      <td>556363121</td>\n",
       "      <td>0.0</td>\n",
       "      <td>0</td>\n",
       "    </tr>\n",
       "  </tbody>\n",
       "</table>\n",
       "<p>124 rows × 7 columns</p>\n",
       "</div>"
      ],
      "text/plain": [
       "                   Open         High          Low        Close     Volume  \\\n",
       "Date                                                                        \n",
       "2022-02-04  4948.001246  5074.737285  4877.183952  5007.644207  722623600   \n",
       "2022-02-07  5023.818773  5150.143852  4981.153591  5030.280723  542633100   \n",
       "2022-02-08  5011.268996  5060.730627  4904.493573  5021.822701  505831500   \n",
       "2022-02-09  5080.980201  5218.415059  5062.467005  5194.886621  625052000   \n",
       "2022-02-10  5077.376462  5253.109030  4973.627963  5033.998890  861376300   \n",
       "...                 ...          ...          ...          ...        ...   \n",
       "2022-07-28  4113.620062  4160.619944  3962.470022  4088.770062  502844700   \n",
       "2022-07-29  4083.119969  4127.150018  3997.329985  4079.579970  577749700   \n",
       "2022-08-01  4043.899938  4095.770010  3972.449977  4006.749938  636345000   \n",
       "2022-08-02  3975.799995  4102.470022  3960.700022  4049.360010  475187000   \n",
       "2022-08-03  4107.869995  4314.501279  4104.891263  4275.529961  556363121   \n",
       "\n",
       "            Dividends  Stock Splits  \n",
       "Date                                 \n",
       "2022-02-04        0.0             0  \n",
       "2022-02-07        0.0             0  \n",
       "2022-02-08        0.0             0  \n",
       "2022-02-09        0.0             0  \n",
       "2022-02-10        0.0             0  \n",
       "...               ...           ...  \n",
       "2022-07-28        0.0             0  \n",
       "2022-07-29        0.0             0  \n",
       "2022-08-01        0.0             0  \n",
       "2022-08-02        0.0             0  \n",
       "2022-08-03        0.0             0  \n",
       "\n",
       "[124 rows x 7 columns]"
      ]
     },
     "execution_count": 158,
     "metadata": {},
     "output_type": "execute_result"
    }
   ],
   "source": [
    "all_accounts_df"
   ]
  },
  {
   "cell_type": "code",
   "execution_count": 159,
   "id": "46a470d2",
   "metadata": {},
   "outputs": [
    {
     "data": {
      "application/vnd.plotly.v1+json": {
       "config": {
        "plotlyServerURL": "https://plot.ly"
       },
       "data": [
        {
         "close": [
          5007.644207000732,
          5030.280722618103,
          5021.822701454163,
          5194.886620521545,
          5033.998889923096,
          4930.07075881958,
          4849.307293891907,
          4999.1149225234985,
          4982.730418205261,
          4719.955262184143,
          4698.8345193862915,
          4627.80740070343,
          4423.128187179565,
          4595.802316665649,
          4712.543173789978,
          4719.347587585449,
          4690.158110618591,
          4672.150433540344,
          4584.944330215454,
          4462.089992523193,
          4368.717855453491,
          4377.823570251465,
          4590.2107009887695,
          4525.045159339905,
          4369.698803901672,
          3877.6456394195557,
          3958.58580827713,
          4165.298005104065,
          4363.68136882782,
          4469.458536624908,
          4437.441096782684,
          4588.18710899353,
          4535.556282043457,
          4569.198842048645,
          4535.393527030945,
          4559.446972846985,
          4759.125032424927,
          4663.476451396942,
          4633.658815860748,
          4798.103225708008,
          4913.154081821442,
          4806.096046924591,
          4779.2839012146,
          4755.9135222435,
          4701.254899978638,
          4640.200515270233,
          4641.540001869202,
          4728.779218673706,
          4651.726261138916,
          4375.1581354141235,
          4376.814937591553,
          4349.349672317505,
          4205.868088722229,
          4116.48875951767,
          4190.924757480621,
          4014.2345724105835,
          3986.584837913513,
          4035.563581466675,
          3921.608672142029,
          4080.4437379837036,
          4088.43971824646,
          4202.908401489258,
          4016.1666111946106,
          3914.7345547676086,
          3656.3089694976807,
          3734.6092023849487,
          3542.3332517147064,
          3599.6763348579407,
          3771.660163164139,
          3718.7980279922485,
          3831.4422240257263,
          3674.9891135692596,
          3694.3985693454742,
          3720.084942817688,
          3719.3284265995026,
          3606.1030156612396,
          3632.142825126648,
          3691.8348989486694,
          3868.118815422058,
          3830.98259973526,
          3724.781748533249,
          3827.756322145462,
          3802.494052886963,
          3769.9242255687714,
          3937.1727464199066,
          3944.900145292282,
          3845.9634206295013,
          3666.473652124405,
          3479.078377723694,
          3498.7777218818665,
          3613.99613404274,
          3477.9320061206818,
          3640.919959783554,
          3785.510025024414,
          3852.2000625133514,
          3989.369996070862,
          4072.27995634079,
          4018.890007019043,
          3911.1999707221985,
          3929.9099950790405,
          3881.0899550914764,
          3942.8799533843994,
          4049.319988012314,
          4031.520017147064,
          4130.859967947006,
          4148.920074462891,
          3965.420044183731,
          3997.52996635437,
          4028.099927186966,
          3939.770015001297,
          3966.5600385665894,
          3877.8600311279297,
          3999.129959821701,
          4058.029944896698,
          4116.759995222092,
          3987.3300120830536,
          3996.8200166225433,
          4009.090066432953,
          4109.6700229644775,
          4088.7700624465942,
          4079.5799703598022,
          4006.7499375343323,
          4049.3600096702576,
          4275.529961109161
         ],
         "high": [
          5074.737284923121,
          5150.143851680792,
          5060.730626522118,
          5218.415058542504,
          5253.109030429528,
          5120.842064176282,
          4971.18315336135,
          5026.92613185669,
          5016.74428938534,
          4899.176808448938,
          4775.112545495584,
          4746.933088698405,
          4694.4724406467485,
          4612.428144416919,
          4739.655060685457,
          4778.926635837069,
          4825.712029588529,
          4767.9066271493975,
          4720.740657767564,
          4612.653966201902,
          4522.770469014523,
          4522.589924685713,
          4648.905202685906,
          4561.935356836024,
          4585.60916601875,
          4133.550137844267,
          3987.6153339453813,
          4176.975836759442,
          4392.151103682597,
          4523.122200856738,
          4510.163679223177,
          4625.46255147569,
          4654.739302316307,
          4612.50875153732,
          4609.865870989048,
          4621.166053375467,
          4786.185854055331,
          4809.369803289494,
          4727.58397404887,
          4819.17350336739,
          4944.701905986343,
          4955.37531888522,
          4838.261485960056,
          4842.565672825778,
          4832.516963365287,
          4723.779506557641,
          4796.485147531361,
          4791.414748020124,
          4765.084484168205,
          4586.412845498928,
          4479.641012616839,
          4439.509254817016,
          4437.066855652213,
          4264.907269343759,
          4216.281460285564,
          4215.777733962948,
          4095.175043114983,
          4084.461202926602,
          4112.773551687191,
          4092.3687552509564,
          4152.93173168263,
          4227.687496798885,
          4254.779405078587,
          4015.821226440152,
          3877.1057687330413,
          3869.7768302124723,
          3760.9331931880256,
          3660.3864291471955,
          3806.694146485693,
          3831.3195121817457,
          3868.467751330859,
          3806.570574794676,
          3777.266889039458,
          3788.866595325907,
          3799.85365066554,
          3688.9195196133805,
          3669.356331305735,
          3737.624466732129,
          3887.9667215254635,
          3928.428887250795,
          3905.323658320055,
          3845.105429843361,
          3893.772462688522,
          3889.3178973660397,
          3954.8843806956215,
          4035.964040015994,
          3964.2461364488254,
          3789.2807626665685,
          3587.201177241405,
          3533.5177417715713,
          3670.5051553628973,
          3528.278212877982,
          3703.6300394535065,
          3874.9299821853638,
          3925.8000366687775,
          4037.109923839569,
          4113.589982032776,
          4183.029970169067,
          4061.2399826049805,
          3971.0099177360535,
          3943.4499967098236,
          3973.900048017502,
          4076.240069627762,
          4149.5600028038025,
          4160.58994436264,
          4196.520072698593,
          4145.1459538936615,
          4060.0600051879883,
          4085.280030488968,
          4025.3499262332916,
          4028.7800097465515,
          4081.4300124645233,
          4036.4099776744843,
          4145.100079059601,
          4135.480004310608,
          4158.909968614578,
          4034.2060117721558,
          4062.1600263118744,
          4146.899972915649,
          4160.619944095612,
          4127.150017738342,
          4095.770010471344,
          4102.470021724701,
          4314.5012793540955
         ],
         "low": [
          4877.183952145634,
          4981.153591208522,
          4904.493573288737,
          5062.467005147335,
          4973.627962846973,
          4895.728613455138,
          4815.5107368868585,
          4896.830947447007,
          4871.999478413975,
          4659.4351044896775,
          4594.7714312557055,
          4557.750834512608,
          4411.366624870584,
          4243.8993703862125,
          4519.549888113856,
          4617.367243470046,
          4610.7273210523945,
          4583.218223997497,
          4523.444709808935,
          4417.319350127427,
          4327.040360357089,
          4264.807133404118,
          4470.7753748218265,
          4437.455372490953,
          4357.185802659918,
          3843.14506717129,
          3833.8754089709155,
          3953.9993878764017,
          4106.4347715301865,
          4315.251849635655,
          4343.509306717181,
          4420.667614083544,
          4472.856539063039,
          4457.270670830457,
          4470.05807191281,
          4460.030549636598,
          4600.6433568428165,
          4630.905340969423,
          4602.637206896181,
          4615.801530973167,
          4783.314032405443,
          4760.567248165855,
          4619.987913414589,
          4677.60394275399,
          4610.3933513954635,
          4552.294805290067,
          4571.47338779463,
          4581.17758023371,
          4608.728294487715,
          4294.679612141824,
          4272.233748977585,
          4285.123101439456,
          4174.624877602563,
          4087.739322351026,
          4053.774661000617,
          3975.8550908104016,
          3949.5942843663065,
          3861.733919675543,
          3906.7824157263485,
          3859.000412024967,
          4016.963269667749,
          3945.2092484957248,
          3939.1736835705237,
          3783.3322499269316,
          3629.3182243513456,
          3608.475246538621,
          3527.1172013301593,
          3446.705337473677,
          3645.9522308072233,
          3675.5624304365037,
          3741.9538964952008,
          3646.6825586977848,
          3620.6714690571416,
          3562.3352462004596,
          3658.962001536761,
          3539.4035444428137,
          3554.269365682755,
          3616.734347665936,
          3667.574310096634,
          3748.263960271521,
          3680.699342637394,
          3667.89861279438,
          3736.253478620465,
          3731.8763541731973,
          3715.447168334344,
          3875.98561674392,
          3802.2934226989746,
          3641.9445562735045,
          3413.1525182476835,
          3413.3841485608214,
          3485.97786540902,
          3402.8261932575433,
          3483.882084608078,
          3692.260003089905,
          3717.3000087738037,
          3832.460049390793,
          3893.4999766349792,
          3944.4300639629364,
          3871.687025308609,
          3834.880081176758,
          3807.2700197696686,
          3823.959934234619,
          3841.3899993896484,
          3973.4700269699097,
          4025.1199493408203,
          4044.185007095337,
          3954.1200079917908,
          3847.4699392318726,
          3896.990015029907,
          3862.730060815811,
          3846.9199862480164,
          3847.3050372600555,
          3898.900070667267,
          3952.0800132751465,
          4016.519992828369,
          3954.769974708557,
          3924.839956521988,
          3936.6950492858887,
          3990.0899543762207,
          3962.4700224399567,
          3997.329984664917,
          3972.4499773979187,
          3960.700021505356,
          4104.891263484955
         ],
         "open": [
          4948.001246159687,
          5023.818773039444,
          5011.268995986252,
          5080.980200529586,
          5077.376462117197,
          5039.53577266924,
          4933.659045770835,
          4923.78080905915,
          4966.612426007863,
          4765.695745934491,
          4702.6572343679745,
          4650.868389252151,
          4663.390105856177,
          4292.787079611146,
          4612.440123568385,
          4659.31961900249,
          4705.007140907633,
          4707.276475570085,
          4703.979801059806,
          4539.358407588281,
          4466.953254793135,
          4367.665868700261,
          4501.547978613998,
          4510.9141125307,
          4561.031746296955,
          4039.3125338450673,
          3888.649799817621,
          4008.826116201602,
          4142.569876450257,
          4330.926095939092,
          4444.06316176273,
          4437.284326953177,
          4552.377228157187,
          4567.128615301528,
          4583.6371393073905,
          4529.544278671715,
          4618.674227237996,
          4745.095469573349,
          4670.3197445639435,
          4642.619241732971,
          4792.758610070598,
          4905.761672034086,
          4750.969139472844,
          4765.800234172375,
          4735.367844582286,
          4654.245433847366,
          4689.83509500045,
          4625.594265148536,
          4718.295381899044,
          4501.413662694398,
          4379.140041814637,
          4385.681624371635,
          4405.292804739523,
          4190.508340295702,
          4088.9906560124437,
          4149.611783681543,
          4032.0545331741714,
          4027.3380612157785,
          4008.1860314835417,
          3909.1980401185474,
          4083.974183241538,
          4099.216844108348,
          4208.017116328107,
          3963.2753338121693,
          3840.0241716904743,
          3764.736337870792,
          3702.718768966355,
          3492.4026553690765,
          3681.1463242101213,
          3756.0705063337987,
          3805.935208767425,
          3758.3376118131555,
          3655.7952053787567,
          3731.721847573346,
          3750.178200922117,
          3663.9846170104465,
          3592.510760606464,
          3641.270076421557,
          3706.619751165499,
          3847.489143453261,
          3851.743008376262,
          3721.38503509536,
          3788.552968861198,
          3851.3800374214247,
          3728.948746290156,
          3919.0741119604654,
          3920.827453342531,
          3761.436338472842,
          3545.3749348312613,
          3490.436487093083,
          3539.9976271571704,
          3508.2956633135,
          3503.3600420951843,
          3692.58007144928,
          3737.0600035190582,
          3868.1000638008118,
          4020.5399742126465,
          4144.029938220978,
          4031.1800532341003,
          3900.7800555229187,
          3876.4799897670746,
          3868.999993801117,
          3896.299984693527,
          4049.719975709915,
          4047.2899651527405,
          4086.2699785232544,
          4123.659960985184,
          3969.2200005054474,
          3918.6100232601166,
          3990.159933567047,
          3949.1599588394165,
          3980.1000080108643,
          3931.5699315071106,
          4004.8999700546265,
          4055.490036010742,
          4122.930038928986,
          4004.820020675659,
          3985.8099682331085,
          4041.719958782196,
          4113.62006187439,
          4083.119969367981,
          4043.8999378681183,
          3975.7999947071075,
          4107.8699951171875
         ],
         "type": "candlestick",
         "x": [
          "02-04-2022",
          "02-07-2022",
          "02-08-2022",
          "02-09-2022",
          "02-10-2022",
          "02-11-2022",
          "02-14-2022",
          "02-15-2022",
          "02-16-2022",
          "02-17-2022",
          "02-18-2022",
          "02-22-2022",
          "02-23-2022",
          "02-24-2022",
          "02-25-2022",
          "02-28-2022",
          "03-01-2022",
          "03-02-2022",
          "03-03-2022",
          "03-04-2022",
          "03-07-2022",
          "03-08-2022",
          "03-09-2022",
          "03-10-2022",
          "03-11-2022",
          "03-14-2022",
          "03-15-2022",
          "03-16-2022",
          "03-17-2022",
          "03-18-2022",
          "03-21-2022",
          "03-22-2022",
          "03-23-2022",
          "03-24-2022",
          "03-25-2022",
          "03-28-2022",
          "03-29-2022",
          "03-30-2022",
          "03-31-2022",
          "04-01-2022",
          "04-04-2022",
          "04-05-2022",
          "04-06-2022",
          "04-07-2022",
          "04-08-2022",
          "04-11-2022",
          "04-12-2022",
          "04-13-2022",
          "04-14-2022",
          "04-18-2022",
          "04-19-2022",
          "04-20-2022",
          "04-21-2022",
          "04-22-2022",
          "04-25-2022",
          "04-26-2022",
          "04-27-2022",
          "04-28-2022",
          "04-29-2022",
          "05-02-2022",
          "05-03-2022",
          "05-04-2022",
          "05-05-2022",
          "05-06-2022",
          "05-09-2022",
          "05-10-2022",
          "05-11-2022",
          "05-12-2022",
          "05-13-2022",
          "05-16-2022",
          "05-17-2022",
          "05-18-2022",
          "05-19-2022",
          "05-20-2022",
          "05-23-2022",
          "05-24-2022",
          "05-25-2022",
          "05-26-2022",
          "05-27-2022",
          "05-31-2022",
          "06-01-2022",
          "06-02-2022",
          "06-03-2022",
          "06-06-2022",
          "06-07-2022",
          "06-08-2022",
          "06-09-2022",
          "06-10-2022",
          "06-13-2022",
          "06-14-2022",
          "06-15-2022",
          "06-16-2022",
          "06-17-2022",
          "06-21-2022",
          "06-22-2022",
          "06-23-2022",
          "06-24-2022",
          "06-27-2022",
          "06-28-2022",
          "06-29-2022",
          "06-30-2022",
          "07-01-2022",
          "07-05-2022",
          "07-06-2022",
          "07-07-2022",
          "07-08-2022",
          "07-11-2022",
          "07-12-2022",
          "07-13-2022",
          "07-14-2022",
          "07-15-2022",
          "07-18-2022",
          "07-19-2022",
          "07-20-2022",
          "07-21-2022",
          "07-22-2022",
          "07-25-2022",
          "07-26-2022",
          "07-27-2022",
          "07-28-2022",
          "07-29-2022",
          "08-01-2022",
          "08-02-2022",
          "08-03-2022"
         ]
        }
       ],
       "layout": {
        "height": 350,
        "template": {
         "data": {
          "bar": [
           {
            "error_x": {
             "color": "#2a3f5f"
            },
            "error_y": {
             "color": "#2a3f5f"
            },
            "marker": {
             "line": {
              "color": "#E5ECF6",
              "width": 0.5
             },
             "pattern": {
              "fillmode": "overlay",
              "size": 10,
              "solidity": 0.2
             }
            },
            "type": "bar"
           }
          ],
          "barpolar": [
           {
            "marker": {
             "line": {
              "color": "#E5ECF6",
              "width": 0.5
             },
             "pattern": {
              "fillmode": "overlay",
              "size": 10,
              "solidity": 0.2
             }
            },
            "type": "barpolar"
           }
          ],
          "carpet": [
           {
            "aaxis": {
             "endlinecolor": "#2a3f5f",
             "gridcolor": "white",
             "linecolor": "white",
             "minorgridcolor": "white",
             "startlinecolor": "#2a3f5f"
            },
            "baxis": {
             "endlinecolor": "#2a3f5f",
             "gridcolor": "white",
             "linecolor": "white",
             "minorgridcolor": "white",
             "startlinecolor": "#2a3f5f"
            },
            "type": "carpet"
           }
          ],
          "choropleth": [
           {
            "colorbar": {
             "outlinewidth": 0,
             "ticks": ""
            },
            "type": "choropleth"
           }
          ],
          "contour": [
           {
            "colorbar": {
             "outlinewidth": 0,
             "ticks": ""
            },
            "colorscale": [
             [
              0,
              "#0d0887"
             ],
             [
              0.1111111111111111,
              "#46039f"
             ],
             [
              0.2222222222222222,
              "#7201a8"
             ],
             [
              0.3333333333333333,
              "#9c179e"
             ],
             [
              0.4444444444444444,
              "#bd3786"
             ],
             [
              0.5555555555555556,
              "#d8576b"
             ],
             [
              0.6666666666666666,
              "#ed7953"
             ],
             [
              0.7777777777777778,
              "#fb9f3a"
             ],
             [
              0.8888888888888888,
              "#fdca26"
             ],
             [
              1,
              "#f0f921"
             ]
            ],
            "type": "contour"
           }
          ],
          "contourcarpet": [
           {
            "colorbar": {
             "outlinewidth": 0,
             "ticks": ""
            },
            "type": "contourcarpet"
           }
          ],
          "heatmap": [
           {
            "colorbar": {
             "outlinewidth": 0,
             "ticks": ""
            },
            "colorscale": [
             [
              0,
              "#0d0887"
             ],
             [
              0.1111111111111111,
              "#46039f"
             ],
             [
              0.2222222222222222,
              "#7201a8"
             ],
             [
              0.3333333333333333,
              "#9c179e"
             ],
             [
              0.4444444444444444,
              "#bd3786"
             ],
             [
              0.5555555555555556,
              "#d8576b"
             ],
             [
              0.6666666666666666,
              "#ed7953"
             ],
             [
              0.7777777777777778,
              "#fb9f3a"
             ],
             [
              0.8888888888888888,
              "#fdca26"
             ],
             [
              1,
              "#f0f921"
             ]
            ],
            "type": "heatmap"
           }
          ],
          "heatmapgl": [
           {
            "colorbar": {
             "outlinewidth": 0,
             "ticks": ""
            },
            "colorscale": [
             [
              0,
              "#0d0887"
             ],
             [
              0.1111111111111111,
              "#46039f"
             ],
             [
              0.2222222222222222,
              "#7201a8"
             ],
             [
              0.3333333333333333,
              "#9c179e"
             ],
             [
              0.4444444444444444,
              "#bd3786"
             ],
             [
              0.5555555555555556,
              "#d8576b"
             ],
             [
              0.6666666666666666,
              "#ed7953"
             ],
             [
              0.7777777777777778,
              "#fb9f3a"
             ],
             [
              0.8888888888888888,
              "#fdca26"
             ],
             [
              1,
              "#f0f921"
             ]
            ],
            "type": "heatmapgl"
           }
          ],
          "histogram": [
           {
            "marker": {
             "pattern": {
              "fillmode": "overlay",
              "size": 10,
              "solidity": 0.2
             }
            },
            "type": "histogram"
           }
          ],
          "histogram2d": [
           {
            "colorbar": {
             "outlinewidth": 0,
             "ticks": ""
            },
            "colorscale": [
             [
              0,
              "#0d0887"
             ],
             [
              0.1111111111111111,
              "#46039f"
             ],
             [
              0.2222222222222222,
              "#7201a8"
             ],
             [
              0.3333333333333333,
              "#9c179e"
             ],
             [
              0.4444444444444444,
              "#bd3786"
             ],
             [
              0.5555555555555556,
              "#d8576b"
             ],
             [
              0.6666666666666666,
              "#ed7953"
             ],
             [
              0.7777777777777778,
              "#fb9f3a"
             ],
             [
              0.8888888888888888,
              "#fdca26"
             ],
             [
              1,
              "#f0f921"
             ]
            ],
            "type": "histogram2d"
           }
          ],
          "histogram2dcontour": [
           {
            "colorbar": {
             "outlinewidth": 0,
             "ticks": ""
            },
            "colorscale": [
             [
              0,
              "#0d0887"
             ],
             [
              0.1111111111111111,
              "#46039f"
             ],
             [
              0.2222222222222222,
              "#7201a8"
             ],
             [
              0.3333333333333333,
              "#9c179e"
             ],
             [
              0.4444444444444444,
              "#bd3786"
             ],
             [
              0.5555555555555556,
              "#d8576b"
             ],
             [
              0.6666666666666666,
              "#ed7953"
             ],
             [
              0.7777777777777778,
              "#fb9f3a"
             ],
             [
              0.8888888888888888,
              "#fdca26"
             ],
             [
              1,
              "#f0f921"
             ]
            ],
            "type": "histogram2dcontour"
           }
          ],
          "mesh3d": [
           {
            "colorbar": {
             "outlinewidth": 0,
             "ticks": ""
            },
            "type": "mesh3d"
           }
          ],
          "parcoords": [
           {
            "line": {
             "colorbar": {
              "outlinewidth": 0,
              "ticks": ""
             }
            },
            "type": "parcoords"
           }
          ],
          "pie": [
           {
            "automargin": true,
            "type": "pie"
           }
          ],
          "scatter": [
           {
            "marker": {
             "colorbar": {
              "outlinewidth": 0,
              "ticks": ""
             }
            },
            "type": "scatter"
           }
          ],
          "scatter3d": [
           {
            "line": {
             "colorbar": {
              "outlinewidth": 0,
              "ticks": ""
             }
            },
            "marker": {
             "colorbar": {
              "outlinewidth": 0,
              "ticks": ""
             }
            },
            "type": "scatter3d"
           }
          ],
          "scattercarpet": [
           {
            "marker": {
             "colorbar": {
              "outlinewidth": 0,
              "ticks": ""
             }
            },
            "type": "scattercarpet"
           }
          ],
          "scattergeo": [
           {
            "marker": {
             "colorbar": {
              "outlinewidth": 0,
              "ticks": ""
             }
            },
            "type": "scattergeo"
           }
          ],
          "scattergl": [
           {
            "marker": {
             "colorbar": {
              "outlinewidth": 0,
              "ticks": ""
             }
            },
            "type": "scattergl"
           }
          ],
          "scattermapbox": [
           {
            "marker": {
             "colorbar": {
              "outlinewidth": 0,
              "ticks": ""
             }
            },
            "type": "scattermapbox"
           }
          ],
          "scatterpolar": [
           {
            "marker": {
             "colorbar": {
              "outlinewidth": 0,
              "ticks": ""
             }
            },
            "type": "scatterpolar"
           }
          ],
          "scatterpolargl": [
           {
            "marker": {
             "colorbar": {
              "outlinewidth": 0,
              "ticks": ""
             }
            },
            "type": "scatterpolargl"
           }
          ],
          "scatterternary": [
           {
            "marker": {
             "colorbar": {
              "outlinewidth": 0,
              "ticks": ""
             }
            },
            "type": "scatterternary"
           }
          ],
          "surface": [
           {
            "colorbar": {
             "outlinewidth": 0,
             "ticks": ""
            },
            "colorscale": [
             [
              0,
              "#0d0887"
             ],
             [
              0.1111111111111111,
              "#46039f"
             ],
             [
              0.2222222222222222,
              "#7201a8"
             ],
             [
              0.3333333333333333,
              "#9c179e"
             ],
             [
              0.4444444444444444,
              "#bd3786"
             ],
             [
              0.5555555555555556,
              "#d8576b"
             ],
             [
              0.6666666666666666,
              "#ed7953"
             ],
             [
              0.7777777777777778,
              "#fb9f3a"
             ],
             [
              0.8888888888888888,
              "#fdca26"
             ],
             [
              1,
              "#f0f921"
             ]
            ],
            "type": "surface"
           }
          ],
          "table": [
           {
            "cells": {
             "fill": {
              "color": "#EBF0F8"
             },
             "line": {
              "color": "white"
             }
            },
            "header": {
             "fill": {
              "color": "#C8D4E3"
             },
             "line": {
              "color": "white"
             }
            },
            "type": "table"
           }
          ]
         },
         "layout": {
          "annotationdefaults": {
           "arrowcolor": "#2a3f5f",
           "arrowhead": 0,
           "arrowwidth": 1
          },
          "autotypenumbers": "strict",
          "coloraxis": {
           "colorbar": {
            "outlinewidth": 0,
            "ticks": ""
           }
          },
          "colorscale": {
           "diverging": [
            [
             0,
             "#8e0152"
            ],
            [
             0.1,
             "#c51b7d"
            ],
            [
             0.2,
             "#de77ae"
            ],
            [
             0.3,
             "#f1b6da"
            ],
            [
             0.4,
             "#fde0ef"
            ],
            [
             0.5,
             "#f7f7f7"
            ],
            [
             0.6,
             "#e6f5d0"
            ],
            [
             0.7,
             "#b8e186"
            ],
            [
             0.8,
             "#7fbc41"
            ],
            [
             0.9,
             "#4d9221"
            ],
            [
             1,
             "#276419"
            ]
           ],
           "sequential": [
            [
             0,
             "#0d0887"
            ],
            [
             0.1111111111111111,
             "#46039f"
            ],
            [
             0.2222222222222222,
             "#7201a8"
            ],
            [
             0.3333333333333333,
             "#9c179e"
            ],
            [
             0.4444444444444444,
             "#bd3786"
            ],
            [
             0.5555555555555556,
             "#d8576b"
            ],
            [
             0.6666666666666666,
             "#ed7953"
            ],
            [
             0.7777777777777778,
             "#fb9f3a"
            ],
            [
             0.8888888888888888,
             "#fdca26"
            ],
            [
             1,
             "#f0f921"
            ]
           ],
           "sequentialminus": [
            [
             0,
             "#0d0887"
            ],
            [
             0.1111111111111111,
             "#46039f"
            ],
            [
             0.2222222222222222,
             "#7201a8"
            ],
            [
             0.3333333333333333,
             "#9c179e"
            ],
            [
             0.4444444444444444,
             "#bd3786"
            ],
            [
             0.5555555555555556,
             "#d8576b"
            ],
            [
             0.6666666666666666,
             "#ed7953"
            ],
            [
             0.7777777777777778,
             "#fb9f3a"
            ],
            [
             0.8888888888888888,
             "#fdca26"
            ],
            [
             1,
             "#f0f921"
            ]
           ]
          },
          "colorway": [
           "#636efa",
           "#EF553B",
           "#00cc96",
           "#ab63fa",
           "#FFA15A",
           "#19d3f3",
           "#FF6692",
           "#B6E880",
           "#FF97FF",
           "#FECB52"
          ],
          "font": {
           "color": "#2a3f5f"
          },
          "geo": {
           "bgcolor": "white",
           "lakecolor": "white",
           "landcolor": "#E5ECF6",
           "showlakes": true,
           "showland": true,
           "subunitcolor": "white"
          },
          "hoverlabel": {
           "align": "left"
          },
          "hovermode": "closest",
          "mapbox": {
           "style": "light"
          },
          "paper_bgcolor": "white",
          "plot_bgcolor": "#E5ECF6",
          "polar": {
           "angularaxis": {
            "gridcolor": "white",
            "linecolor": "white",
            "ticks": ""
           },
           "bgcolor": "#E5ECF6",
           "radialaxis": {
            "gridcolor": "white",
            "linecolor": "white",
            "ticks": ""
           }
          },
          "scene": {
           "xaxis": {
            "backgroundcolor": "#E5ECF6",
            "gridcolor": "white",
            "gridwidth": 2,
            "linecolor": "white",
            "showbackground": true,
            "ticks": "",
            "zerolinecolor": "white"
           },
           "yaxis": {
            "backgroundcolor": "#E5ECF6",
            "gridcolor": "white",
            "gridwidth": 2,
            "linecolor": "white",
            "showbackground": true,
            "ticks": "",
            "zerolinecolor": "white"
           },
           "zaxis": {
            "backgroundcolor": "#E5ECF6",
            "gridcolor": "white",
            "gridwidth": 2,
            "linecolor": "white",
            "showbackground": true,
            "ticks": "",
            "zerolinecolor": "white"
           }
          },
          "shapedefaults": {
           "line": {
            "color": "#2a3f5f"
           }
          },
          "ternary": {
           "aaxis": {
            "gridcolor": "white",
            "linecolor": "white",
            "ticks": ""
           },
           "baxis": {
            "gridcolor": "white",
            "linecolor": "white",
            "ticks": ""
           },
           "bgcolor": "#E5ECF6",
           "caxis": {
            "gridcolor": "white",
            "linecolor": "white",
            "ticks": ""
           }
          },
          "title": {
           "x": 0.05
          },
          "xaxis": {
           "automargin": true,
           "gridcolor": "white",
           "linecolor": "white",
           "ticks": "",
           "title": {
            "standoff": 15
           },
           "zerolinecolor": "white",
           "zerolinewidth": 2
          },
          "yaxis": {
           "automargin": true,
           "gridcolor": "white",
           "linecolor": "white",
           "ticks": "",
           "title": {
            "standoff": 15
           },
           "zerolinecolor": "white",
           "zerolinewidth": 2
          }
         }
        },
        "title": {
         "text": "S Phase (All Accounts)",
         "x": 0.5,
         "xanchor": "center",
         "y": 0.9,
         "yanchor": "top"
        },
        "width": 700,
        "xaxis": {
         "rangeslider": {
          "visible": false
         }
        }
       }
      },
      "text/html": [
       "<div>                            <div id=\"412e98ba-2d83-4772-b61d-fb1dacf718ef\" class=\"plotly-graph-div\" style=\"height:350px; width:700px;\"></div>            <script type=\"text/javascript\">                require([\"plotly\"], function(Plotly) {                    window.PLOTLYENV=window.PLOTLYENV || {};                                    if (document.getElementById(\"412e98ba-2d83-4772-b61d-fb1dacf718ef\")) {                    Plotly.newPlot(                        \"412e98ba-2d83-4772-b61d-fb1dacf718ef\",                        [{\"close\":[5007.644207000732,5030.280722618103,5021.822701454163,5194.886620521545,5033.998889923096,4930.07075881958,4849.307293891907,4999.1149225234985,4982.730418205261,4719.955262184143,4698.8345193862915,4627.80740070343,4423.128187179565,4595.802316665649,4712.543173789978,4719.347587585449,4690.158110618591,4672.150433540344,4584.944330215454,4462.089992523193,4368.717855453491,4377.823570251465,4590.2107009887695,4525.045159339905,4369.698803901672,3877.6456394195557,3958.58580827713,4165.298005104065,4363.68136882782,4469.458536624908,4437.441096782684,4588.18710899353,4535.556282043457,4569.198842048645,4535.393527030945,4559.446972846985,4759.125032424927,4663.476451396942,4633.658815860748,4798.103225708008,4913.154081821442,4806.096046924591,4779.2839012146,4755.9135222435,4701.254899978638,4640.200515270233,4641.540001869202,4728.779218673706,4651.726261138916,4375.1581354141235,4376.814937591553,4349.349672317505,4205.868088722229,4116.48875951767,4190.924757480621,4014.2345724105835,3986.584837913513,4035.563581466675,3921.608672142029,4080.4437379837036,4088.43971824646,4202.908401489258,4016.1666111946106,3914.7345547676086,3656.3089694976807,3734.6092023849487,3542.3332517147064,3599.6763348579407,3771.660163164139,3718.7980279922485,3831.4422240257263,3674.9891135692596,3694.3985693454742,3720.084942817688,3719.3284265995026,3606.1030156612396,3632.142825126648,3691.8348989486694,3868.118815422058,3830.98259973526,3724.781748533249,3827.756322145462,3802.494052886963,3769.9242255687714,3937.1727464199066,3944.900145292282,3845.9634206295013,3666.473652124405,3479.078377723694,3498.7777218818665,3613.99613404274,3477.9320061206818,3640.919959783554,3785.510025024414,3852.2000625133514,3989.369996070862,4072.27995634079,4018.890007019043,3911.1999707221985,3929.9099950790405,3881.0899550914764,3942.8799533843994,4049.319988012314,4031.520017147064,4130.859967947006,4148.920074462891,3965.420044183731,3997.52996635437,4028.099927186966,3939.770015001297,3966.5600385665894,3877.8600311279297,3999.129959821701,4058.029944896698,4116.759995222092,3987.3300120830536,3996.8200166225433,4009.090066432953,4109.6700229644775,4088.7700624465942,4079.5799703598022,4006.7499375343323,4049.3600096702576,4275.529961109161],\"high\":[5074.737284923121,5150.143851680792,5060.730626522118,5218.415058542504,5253.109030429528,5120.842064176282,4971.18315336135,5026.92613185669,5016.74428938534,4899.176808448938,4775.112545495584,4746.933088698405,4694.4724406467485,4612.428144416919,4739.655060685457,4778.926635837069,4825.712029588529,4767.9066271493975,4720.740657767564,4612.653966201902,4522.770469014523,4522.589924685713,4648.905202685906,4561.935356836024,4585.60916601875,4133.550137844267,3987.6153339453813,4176.975836759442,4392.151103682597,4523.122200856738,4510.163679223177,4625.46255147569,4654.739302316307,4612.50875153732,4609.865870989048,4621.166053375467,4786.185854055331,4809.369803289494,4727.58397404887,4819.17350336739,4944.701905986343,4955.37531888522,4838.261485960056,4842.565672825778,4832.516963365287,4723.779506557641,4796.485147531361,4791.414748020124,4765.084484168205,4586.412845498928,4479.641012616839,4439.509254817016,4437.066855652213,4264.907269343759,4216.281460285564,4215.777733962948,4095.175043114983,4084.461202926602,4112.773551687191,4092.3687552509564,4152.93173168263,4227.687496798885,4254.779405078587,4015.821226440152,3877.1057687330413,3869.7768302124723,3760.9331931880256,3660.3864291471955,3806.694146485693,3831.3195121817457,3868.467751330859,3806.570574794676,3777.266889039458,3788.866595325907,3799.85365066554,3688.9195196133805,3669.356331305735,3737.624466732129,3887.9667215254635,3928.428887250795,3905.323658320055,3845.105429843361,3893.772462688522,3889.3178973660397,3954.8843806956215,4035.964040015994,3964.2461364488254,3789.2807626665685,3587.201177241405,3533.5177417715713,3670.5051553628973,3528.278212877982,3703.6300394535065,3874.9299821853638,3925.8000366687775,4037.109923839569,4113.589982032776,4183.029970169067,4061.2399826049805,3971.0099177360535,3943.4499967098236,3973.900048017502,4076.240069627762,4149.5600028038025,4160.58994436264,4196.520072698593,4145.1459538936615,4060.0600051879883,4085.280030488968,4025.3499262332916,4028.7800097465515,4081.4300124645233,4036.4099776744843,4145.100079059601,4135.480004310608,4158.909968614578,4034.2060117721558,4062.1600263118744,4146.899972915649,4160.619944095612,4127.150017738342,4095.770010471344,4102.470021724701,4314.5012793540955],\"low\":[4877.183952145634,4981.153591208522,4904.493573288737,5062.467005147335,4973.627962846973,4895.728613455138,4815.5107368868585,4896.830947447007,4871.999478413975,4659.4351044896775,4594.7714312557055,4557.750834512608,4411.366624870584,4243.8993703862125,4519.549888113856,4617.367243470046,4610.7273210523945,4583.218223997497,4523.444709808935,4417.319350127427,4327.040360357089,4264.807133404118,4470.7753748218265,4437.455372490953,4357.185802659918,3843.14506717129,3833.8754089709155,3953.9993878764017,4106.4347715301865,4315.251849635655,4343.509306717181,4420.667614083544,4472.856539063039,4457.270670830457,4470.05807191281,4460.030549636598,4600.6433568428165,4630.905340969423,4602.637206896181,4615.801530973167,4783.314032405443,4760.567248165855,4619.987913414589,4677.60394275399,4610.3933513954635,4552.294805290067,4571.47338779463,4581.17758023371,4608.728294487715,4294.679612141824,4272.233748977585,4285.123101439456,4174.624877602563,4087.739322351026,4053.774661000617,3975.8550908104016,3949.5942843663065,3861.733919675543,3906.7824157263485,3859.000412024967,4016.963269667749,3945.2092484957248,3939.1736835705237,3783.3322499269316,3629.3182243513456,3608.475246538621,3527.1172013301593,3446.705337473677,3645.9522308072233,3675.5624304365037,3741.9538964952008,3646.6825586977848,3620.6714690571416,3562.3352462004596,3658.962001536761,3539.4035444428137,3554.269365682755,3616.734347665936,3667.574310096634,3748.263960271521,3680.699342637394,3667.89861279438,3736.253478620465,3731.8763541731973,3715.447168334344,3875.98561674392,3802.2934226989746,3641.9445562735045,3413.1525182476835,3413.3841485608214,3485.97786540902,3402.8261932575433,3483.882084608078,3692.260003089905,3717.3000087738037,3832.460049390793,3893.4999766349792,3944.4300639629364,3871.687025308609,3834.880081176758,3807.2700197696686,3823.959934234619,3841.3899993896484,3973.4700269699097,4025.1199493408203,4044.185007095337,3954.1200079917908,3847.4699392318726,3896.990015029907,3862.730060815811,3846.9199862480164,3847.3050372600555,3898.900070667267,3952.0800132751465,4016.519992828369,3954.769974708557,3924.839956521988,3936.6950492858887,3990.0899543762207,3962.4700224399567,3997.329984664917,3972.4499773979187,3960.700021505356,4104.891263484955],\"open\":[4948.001246159687,5023.818773039444,5011.268995986252,5080.980200529586,5077.376462117197,5039.53577266924,4933.659045770835,4923.78080905915,4966.612426007863,4765.695745934491,4702.6572343679745,4650.868389252151,4663.390105856177,4292.787079611146,4612.440123568385,4659.31961900249,4705.007140907633,4707.276475570085,4703.979801059806,4539.358407588281,4466.953254793135,4367.665868700261,4501.547978613998,4510.9141125307,4561.031746296955,4039.3125338450673,3888.649799817621,4008.826116201602,4142.569876450257,4330.926095939092,4444.06316176273,4437.284326953177,4552.377228157187,4567.128615301528,4583.6371393073905,4529.544278671715,4618.674227237996,4745.095469573349,4670.3197445639435,4642.619241732971,4792.758610070598,4905.761672034086,4750.969139472844,4765.800234172375,4735.367844582286,4654.245433847366,4689.83509500045,4625.594265148536,4718.295381899044,4501.413662694398,4379.140041814637,4385.681624371635,4405.292804739523,4190.508340295702,4088.9906560124437,4149.611783681543,4032.0545331741714,4027.3380612157785,4008.1860314835417,3909.1980401185474,4083.974183241538,4099.216844108348,4208.017116328107,3963.2753338121693,3840.0241716904743,3764.736337870792,3702.718768966355,3492.4026553690765,3681.1463242101213,3756.0705063337987,3805.935208767425,3758.3376118131555,3655.7952053787567,3731.721847573346,3750.178200922117,3663.9846170104465,3592.510760606464,3641.270076421557,3706.619751165499,3847.489143453261,3851.743008376262,3721.38503509536,3788.552968861198,3851.3800374214247,3728.948746290156,3919.0741119604654,3920.827453342531,3761.436338472842,3545.3749348312613,3490.436487093083,3539.9976271571704,3508.2956633135,3503.3600420951843,3692.58007144928,3737.0600035190582,3868.1000638008118,4020.5399742126465,4144.029938220978,4031.1800532341003,3900.7800555229187,3876.4799897670746,3868.999993801117,3896.299984693527,4049.719975709915,4047.2899651527405,4086.2699785232544,4123.659960985184,3969.2200005054474,3918.6100232601166,3990.159933567047,3949.1599588394165,3980.1000080108643,3931.5699315071106,4004.8999700546265,4055.490036010742,4122.930038928986,4004.820020675659,3985.8099682331085,4041.719958782196,4113.62006187439,4083.119969367981,4043.8999378681183,3975.7999947071075,4107.8699951171875],\"x\":[\"02-04-2022\",\"02-07-2022\",\"02-08-2022\",\"02-09-2022\",\"02-10-2022\",\"02-11-2022\",\"02-14-2022\",\"02-15-2022\",\"02-16-2022\",\"02-17-2022\",\"02-18-2022\",\"02-22-2022\",\"02-23-2022\",\"02-24-2022\",\"02-25-2022\",\"02-28-2022\",\"03-01-2022\",\"03-02-2022\",\"03-03-2022\",\"03-04-2022\",\"03-07-2022\",\"03-08-2022\",\"03-09-2022\",\"03-10-2022\",\"03-11-2022\",\"03-14-2022\",\"03-15-2022\",\"03-16-2022\",\"03-17-2022\",\"03-18-2022\",\"03-21-2022\",\"03-22-2022\",\"03-23-2022\",\"03-24-2022\",\"03-25-2022\",\"03-28-2022\",\"03-29-2022\",\"03-30-2022\",\"03-31-2022\",\"04-01-2022\",\"04-04-2022\",\"04-05-2022\",\"04-06-2022\",\"04-07-2022\",\"04-08-2022\",\"04-11-2022\",\"04-12-2022\",\"04-13-2022\",\"04-14-2022\",\"04-18-2022\",\"04-19-2022\",\"04-20-2022\",\"04-21-2022\",\"04-22-2022\",\"04-25-2022\",\"04-26-2022\",\"04-27-2022\",\"04-28-2022\",\"04-29-2022\",\"05-02-2022\",\"05-03-2022\",\"05-04-2022\",\"05-05-2022\",\"05-06-2022\",\"05-09-2022\",\"05-10-2022\",\"05-11-2022\",\"05-12-2022\",\"05-13-2022\",\"05-16-2022\",\"05-17-2022\",\"05-18-2022\",\"05-19-2022\",\"05-20-2022\",\"05-23-2022\",\"05-24-2022\",\"05-25-2022\",\"05-26-2022\",\"05-27-2022\",\"05-31-2022\",\"06-01-2022\",\"06-02-2022\",\"06-03-2022\",\"06-06-2022\",\"06-07-2022\",\"06-08-2022\",\"06-09-2022\",\"06-10-2022\",\"06-13-2022\",\"06-14-2022\",\"06-15-2022\",\"06-16-2022\",\"06-17-2022\",\"06-21-2022\",\"06-22-2022\",\"06-23-2022\",\"06-24-2022\",\"06-27-2022\",\"06-28-2022\",\"06-29-2022\",\"06-30-2022\",\"07-01-2022\",\"07-05-2022\",\"07-06-2022\",\"07-07-2022\",\"07-08-2022\",\"07-11-2022\",\"07-12-2022\",\"07-13-2022\",\"07-14-2022\",\"07-15-2022\",\"07-18-2022\",\"07-19-2022\",\"07-20-2022\",\"07-21-2022\",\"07-22-2022\",\"07-25-2022\",\"07-26-2022\",\"07-27-2022\",\"07-28-2022\",\"07-29-2022\",\"08-01-2022\",\"08-02-2022\",\"08-03-2022\"],\"type\":\"candlestick\"}],                        {\"template\":{\"data\":{\"bar\":[{\"error_x\":{\"color\":\"#2a3f5f\"},\"error_y\":{\"color\":\"#2a3f5f\"},\"marker\":{\"line\":{\"color\":\"#E5ECF6\",\"width\":0.5},\"pattern\":{\"fillmode\":\"overlay\",\"size\":10,\"solidity\":0.2}},\"type\":\"bar\"}],\"barpolar\":[{\"marker\":{\"line\":{\"color\":\"#E5ECF6\",\"width\":0.5},\"pattern\":{\"fillmode\":\"overlay\",\"size\":10,\"solidity\":0.2}},\"type\":\"barpolar\"}],\"carpet\":[{\"aaxis\":{\"endlinecolor\":\"#2a3f5f\",\"gridcolor\":\"white\",\"linecolor\":\"white\",\"minorgridcolor\":\"white\",\"startlinecolor\":\"#2a3f5f\"},\"baxis\":{\"endlinecolor\":\"#2a3f5f\",\"gridcolor\":\"white\",\"linecolor\":\"white\",\"minorgridcolor\":\"white\",\"startlinecolor\":\"#2a3f5f\"},\"type\":\"carpet\"}],\"choropleth\":[{\"colorbar\":{\"outlinewidth\":0,\"ticks\":\"\"},\"type\":\"choropleth\"}],\"contour\":[{\"colorbar\":{\"outlinewidth\":0,\"ticks\":\"\"},\"colorscale\":[[0.0,\"#0d0887\"],[0.1111111111111111,\"#46039f\"],[0.2222222222222222,\"#7201a8\"],[0.3333333333333333,\"#9c179e\"],[0.4444444444444444,\"#bd3786\"],[0.5555555555555556,\"#d8576b\"],[0.6666666666666666,\"#ed7953\"],[0.7777777777777778,\"#fb9f3a\"],[0.8888888888888888,\"#fdca26\"],[1.0,\"#f0f921\"]],\"type\":\"contour\"}],\"contourcarpet\":[{\"colorbar\":{\"outlinewidth\":0,\"ticks\":\"\"},\"type\":\"contourcarpet\"}],\"heatmap\":[{\"colorbar\":{\"outlinewidth\":0,\"ticks\":\"\"},\"colorscale\":[[0.0,\"#0d0887\"],[0.1111111111111111,\"#46039f\"],[0.2222222222222222,\"#7201a8\"],[0.3333333333333333,\"#9c179e\"],[0.4444444444444444,\"#bd3786\"],[0.5555555555555556,\"#d8576b\"],[0.6666666666666666,\"#ed7953\"],[0.7777777777777778,\"#fb9f3a\"],[0.8888888888888888,\"#fdca26\"],[1.0,\"#f0f921\"]],\"type\":\"heatmap\"}],\"heatmapgl\":[{\"colorbar\":{\"outlinewidth\":0,\"ticks\":\"\"},\"colorscale\":[[0.0,\"#0d0887\"],[0.1111111111111111,\"#46039f\"],[0.2222222222222222,\"#7201a8\"],[0.3333333333333333,\"#9c179e\"],[0.4444444444444444,\"#bd3786\"],[0.5555555555555556,\"#d8576b\"],[0.6666666666666666,\"#ed7953\"],[0.7777777777777778,\"#fb9f3a\"],[0.8888888888888888,\"#fdca26\"],[1.0,\"#f0f921\"]],\"type\":\"heatmapgl\"}],\"histogram\":[{\"marker\":{\"pattern\":{\"fillmode\":\"overlay\",\"size\":10,\"solidity\":0.2}},\"type\":\"histogram\"}],\"histogram2d\":[{\"colorbar\":{\"outlinewidth\":0,\"ticks\":\"\"},\"colorscale\":[[0.0,\"#0d0887\"],[0.1111111111111111,\"#46039f\"],[0.2222222222222222,\"#7201a8\"],[0.3333333333333333,\"#9c179e\"],[0.4444444444444444,\"#bd3786\"],[0.5555555555555556,\"#d8576b\"],[0.6666666666666666,\"#ed7953\"],[0.7777777777777778,\"#fb9f3a\"],[0.8888888888888888,\"#fdca26\"],[1.0,\"#f0f921\"]],\"type\":\"histogram2d\"}],\"histogram2dcontour\":[{\"colorbar\":{\"outlinewidth\":0,\"ticks\":\"\"},\"colorscale\":[[0.0,\"#0d0887\"],[0.1111111111111111,\"#46039f\"],[0.2222222222222222,\"#7201a8\"],[0.3333333333333333,\"#9c179e\"],[0.4444444444444444,\"#bd3786\"],[0.5555555555555556,\"#d8576b\"],[0.6666666666666666,\"#ed7953\"],[0.7777777777777778,\"#fb9f3a\"],[0.8888888888888888,\"#fdca26\"],[1.0,\"#f0f921\"]],\"type\":\"histogram2dcontour\"}],\"mesh3d\":[{\"colorbar\":{\"outlinewidth\":0,\"ticks\":\"\"},\"type\":\"mesh3d\"}],\"parcoords\":[{\"line\":{\"colorbar\":{\"outlinewidth\":0,\"ticks\":\"\"}},\"type\":\"parcoords\"}],\"pie\":[{\"automargin\":true,\"type\":\"pie\"}],\"scatter\":[{\"marker\":{\"colorbar\":{\"outlinewidth\":0,\"ticks\":\"\"}},\"type\":\"scatter\"}],\"scatter3d\":[{\"line\":{\"colorbar\":{\"outlinewidth\":0,\"ticks\":\"\"}},\"marker\":{\"colorbar\":{\"outlinewidth\":0,\"ticks\":\"\"}},\"type\":\"scatter3d\"}],\"scattercarpet\":[{\"marker\":{\"colorbar\":{\"outlinewidth\":0,\"ticks\":\"\"}},\"type\":\"scattercarpet\"}],\"scattergeo\":[{\"marker\":{\"colorbar\":{\"outlinewidth\":0,\"ticks\":\"\"}},\"type\":\"scattergeo\"}],\"scattergl\":[{\"marker\":{\"colorbar\":{\"outlinewidth\":0,\"ticks\":\"\"}},\"type\":\"scattergl\"}],\"scattermapbox\":[{\"marker\":{\"colorbar\":{\"outlinewidth\":0,\"ticks\":\"\"}},\"type\":\"scattermapbox\"}],\"scatterpolar\":[{\"marker\":{\"colorbar\":{\"outlinewidth\":0,\"ticks\":\"\"}},\"type\":\"scatterpolar\"}],\"scatterpolargl\":[{\"marker\":{\"colorbar\":{\"outlinewidth\":0,\"ticks\":\"\"}},\"type\":\"scatterpolargl\"}],\"scatterternary\":[{\"marker\":{\"colorbar\":{\"outlinewidth\":0,\"ticks\":\"\"}},\"type\":\"scatterternary\"}],\"surface\":[{\"colorbar\":{\"outlinewidth\":0,\"ticks\":\"\"},\"colorscale\":[[0.0,\"#0d0887\"],[0.1111111111111111,\"#46039f\"],[0.2222222222222222,\"#7201a8\"],[0.3333333333333333,\"#9c179e\"],[0.4444444444444444,\"#bd3786\"],[0.5555555555555556,\"#d8576b\"],[0.6666666666666666,\"#ed7953\"],[0.7777777777777778,\"#fb9f3a\"],[0.8888888888888888,\"#fdca26\"],[1.0,\"#f0f921\"]],\"type\":\"surface\"}],\"table\":[{\"cells\":{\"fill\":{\"color\":\"#EBF0F8\"},\"line\":{\"color\":\"white\"}},\"header\":{\"fill\":{\"color\":\"#C8D4E3\"},\"line\":{\"color\":\"white\"}},\"type\":\"table\"}]},\"layout\":{\"annotationdefaults\":{\"arrowcolor\":\"#2a3f5f\",\"arrowhead\":0,\"arrowwidth\":1},\"autotypenumbers\":\"strict\",\"coloraxis\":{\"colorbar\":{\"outlinewidth\":0,\"ticks\":\"\"}},\"colorscale\":{\"diverging\":[[0,\"#8e0152\"],[0.1,\"#c51b7d\"],[0.2,\"#de77ae\"],[0.3,\"#f1b6da\"],[0.4,\"#fde0ef\"],[0.5,\"#f7f7f7\"],[0.6,\"#e6f5d0\"],[0.7,\"#b8e186\"],[0.8,\"#7fbc41\"],[0.9,\"#4d9221\"],[1,\"#276419\"]],\"sequential\":[[0.0,\"#0d0887\"],[0.1111111111111111,\"#46039f\"],[0.2222222222222222,\"#7201a8\"],[0.3333333333333333,\"#9c179e\"],[0.4444444444444444,\"#bd3786\"],[0.5555555555555556,\"#d8576b\"],[0.6666666666666666,\"#ed7953\"],[0.7777777777777778,\"#fb9f3a\"],[0.8888888888888888,\"#fdca26\"],[1.0,\"#f0f921\"]],\"sequentialminus\":[[0.0,\"#0d0887\"],[0.1111111111111111,\"#46039f\"],[0.2222222222222222,\"#7201a8\"],[0.3333333333333333,\"#9c179e\"],[0.4444444444444444,\"#bd3786\"],[0.5555555555555556,\"#d8576b\"],[0.6666666666666666,\"#ed7953\"],[0.7777777777777778,\"#fb9f3a\"],[0.8888888888888888,\"#fdca26\"],[1.0,\"#f0f921\"]]},\"colorway\":[\"#636efa\",\"#EF553B\",\"#00cc96\",\"#ab63fa\",\"#FFA15A\",\"#19d3f3\",\"#FF6692\",\"#B6E880\",\"#FF97FF\",\"#FECB52\"],\"font\":{\"color\":\"#2a3f5f\"},\"geo\":{\"bgcolor\":\"white\",\"lakecolor\":\"white\",\"landcolor\":\"#E5ECF6\",\"showlakes\":true,\"showland\":true,\"subunitcolor\":\"white\"},\"hoverlabel\":{\"align\":\"left\"},\"hovermode\":\"closest\",\"mapbox\":{\"style\":\"light\"},\"paper_bgcolor\":\"white\",\"plot_bgcolor\":\"#E5ECF6\",\"polar\":{\"angularaxis\":{\"gridcolor\":\"white\",\"linecolor\":\"white\",\"ticks\":\"\"},\"bgcolor\":\"#E5ECF6\",\"radialaxis\":{\"gridcolor\":\"white\",\"linecolor\":\"white\",\"ticks\":\"\"}},\"scene\":{\"xaxis\":{\"backgroundcolor\":\"#E5ECF6\",\"gridcolor\":\"white\",\"gridwidth\":2,\"linecolor\":\"white\",\"showbackground\":true,\"ticks\":\"\",\"zerolinecolor\":\"white\"},\"yaxis\":{\"backgroundcolor\":\"#E5ECF6\",\"gridcolor\":\"white\",\"gridwidth\":2,\"linecolor\":\"white\",\"showbackground\":true,\"ticks\":\"\",\"zerolinecolor\":\"white\"},\"zaxis\":{\"backgroundcolor\":\"#E5ECF6\",\"gridcolor\":\"white\",\"gridwidth\":2,\"linecolor\":\"white\",\"showbackground\":true,\"ticks\":\"\",\"zerolinecolor\":\"white\"}},\"shapedefaults\":{\"line\":{\"color\":\"#2a3f5f\"}},\"ternary\":{\"aaxis\":{\"gridcolor\":\"white\",\"linecolor\":\"white\",\"ticks\":\"\"},\"baxis\":{\"gridcolor\":\"white\",\"linecolor\":\"white\",\"ticks\":\"\"},\"bgcolor\":\"#E5ECF6\",\"caxis\":{\"gridcolor\":\"white\",\"linecolor\":\"white\",\"ticks\":\"\"}},\"title\":{\"x\":0.05},\"xaxis\":{\"automargin\":true,\"gridcolor\":\"white\",\"linecolor\":\"white\",\"ticks\":\"\",\"title\":{\"standoff\":15},\"zerolinecolor\":\"white\",\"zerolinewidth\":2},\"yaxis\":{\"automargin\":true,\"gridcolor\":\"white\",\"linecolor\":\"white\",\"ticks\":\"\",\"title\":{\"standoff\":15},\"zerolinecolor\":\"white\",\"zerolinewidth\":2}}},\"title\":{\"text\":\"S Phase (All Accounts)\",\"y\":0.9,\"x\":0.5,\"xanchor\":\"center\",\"yanchor\":\"top\"},\"width\":700,\"height\":350,\"xaxis\":{\"rangeslider\":{\"visible\":false}}},                        {\"responsive\": true}                    ).then(function(){\n",
       "                            \n",
       "var gd = document.getElementById('412e98ba-2d83-4772-b61d-fb1dacf718ef');\n",
       "var x = new MutationObserver(function (mutations, observer) {{\n",
       "        var display = window.getComputedStyle(gd).display;\n",
       "        if (!display || display === 'none') {{\n",
       "            console.log([gd, 'removed!']);\n",
       "            Plotly.purge(gd);\n",
       "            observer.disconnect();\n",
       "        }}\n",
       "}});\n",
       "\n",
       "// Listen for the removal of the full notebook cells\n",
       "var notebookContainer = gd.closest('#notebook-container');\n",
       "if (notebookContainer) {{\n",
       "    x.observe(notebookContainer, {childList: true});\n",
       "}}\n",
       "\n",
       "// Listen for the clearing of the current output cell\n",
       "var outputEl = gd.closest('.output');\n",
       "if (outputEl) {{\n",
       "    x.observe(outputEl, {childList: true});\n",
       "}}\n",
       "\n",
       "                        })                };                });            </script>        </div>"
      ]
     },
     "metadata": {},
     "output_type": "display_data"
    }
   ],
   "source": [
    "dateStr = all_accounts_df.index.strftime(\"%m-%d-%Y\")\n",
    "\n",
    "fig = go.Figure(data=[go.Candlestick(x=dateStr,\n",
    "                   open=all_accounts_df['Open'],\n",
    "                   high=all_accounts_df['High'],\n",
    "                   low=all_accounts_df['Low'],\n",
    "                   close=all_accounts_df['Close'])])\n",
    "\n",
    "fig.update_layout(\n",
    "    title={\n",
    "        'text': \"S Phase (All Accounts)\",\n",
    "        'y':.9,\n",
    "        'x':0.5,\n",
    "        'xanchor': 'center',\n",
    "        'yanchor': 'top'},\n",
    "    width=700, height=350)\n",
    "fig.update_layout(xaxis_rangeslider_visible=False)\n",
    "\n",
    "fig.show()"
   ]
  },
  {
   "cell_type": "code",
   "execution_count": 162,
   "id": "3c900188",
   "metadata": {},
   "outputs": [
    {
     "data": {
      "application/vnd.plotly.v1+json": {
       "config": {
        "plotlyServerURL": "https://plot.ly"
       },
       "data": [
        {
         "close": [
          445.3864440917969,
          443.9570617675781,
          447.6098937988281,
          454.1611633300781,
          446.0018615722656,
          437.207275390625,
          435.7779235839844,
          442.8056335449219,
          443.30194091796875,
          433.8323974609375,
          431.0233154296875,
          426.3977355957031,
          418.8340148925781,
          425.1370849609375,
          434.5173034667969,
          433.40557861328125,
          426.8046875,
          434.6562805175781,
          432.4923400878906,
          428.978515625,
          416.33258056640625,
          413.17608642578125,
          424.253662109375,
          422.3379211425781,
          416.9678955078125,
          413.9205322265625,
          423.0228271484375,
          432.40301513671875,
          437.81280517578125,
          442.6080627441406,
          442.4786376953125,
          447.65625,
          441.8911437988281,
          448.5523681640625,
          450.742919921875,
          453.9490661621094,
          459.5647888183594,
          456.7270812988281,
          449.69744873046875,
          450.9719543457031,
          454.8352355957031,
          449.0900573730469,
          444.5994567871094,
          446.83978271484375,
          445.64495849609375,
          438.0278625488281,
          436.4048767089844,
          441.40325927734375,
          435.9070129394531,
          436.08624267578125,
          443.1258239746094,
          442.7972412109375,
          436.17584228515625,
          424.2075500488281,
          426.66693115234375,
          414.310302734375,
          415.4752502441406,
          425.9699401855469,
          410.2279357910156,
          412.697265625,
          414.589111328125,
          427.2145690917969,
          412.0301513671875,
          409.5707702636719,
          396.4574279785156,
          397.3734436035156,
          391.06072998046875,
          390.6524963378906,
          399.9921569824219,
          398.3691711425781,
          406.56378173828125,
          390.1745300292969,
          387.7848815917969,
          387.95416259765625,
          395.2127990722656,
          392.1958312988281,
          395.6608581542969,
          403.56671142578125,
          413.4739074707031,
          411.1539306640625,
          407.82830810546875,
          415.5947570800781,
          408.77423095703125,
          410.01885986328125,
          413.95184326171875,
          409.4512939453125,
          399.7133483886719,
          388.1234130859375,
          373.3870849609375,
          372.2619323730469,
          377.56903076171875,
          365.072998046875,
          365.8599853515625,
          375.07000732421875,
          374.3900146484375,
          378.05999755859375,
          390.0799865722656,
          388.5899963378906,
          380.6499938964844,
          380.3399963378906,
          377.25,
          381.239990234375,
          381.9599914550781,
          383.25,
          388.989990234375,
          388.6700134277344,
          384.2300109863281,
          380.8299865722656,
          378.8299865722656,
          377.9100036621094,
          385.1300048828125,
          381.95001220703125,
          392.2699890136719,
          394.7699890136719,
          398.7900085449219,
          395.0899963378906,
          395.57000732421875,
          390.8900146484375,
          401.0400085449219,
          406.07000732421875,
          411.989990234375,
          410.7699890136719,
          408.05999755859375,
          414.45001220703125
         ],
         "high": [
          449.43630070407,
          447.65949689077297,
          448.58266758500156,
          454.49864886021885,
          454.32988721085,
          448.2749286319551,
          438.3388878187776,
          442.98429700545154,
          444.7511505841454,
          443.2721777188983,
          435.42059355909936,
          432.28393669433757,
          430.0604908941165,
          425.59370977076026,
          434.6066351996629,
          434.9639917437823,
          433.94159309263273,
          436.47275298849456,
          437.8524558588223,
          430.1696356655506,
          429.1075331749042,
          424.05514078414564,
          426.33816006738925,
          423.2808873959564,
          425.60363001100905,
          421.41476475790466,
          423.6878623594226,
          432.4625696234906,
          437.81280517578125,
          442.9465967227538,
          444.5397112731872,
          448.6419821547783,
          446.5609739030577,
          448.5623348762496,
          451.0316810998012,
          453.94906616210943,
          460.0825716639469,
          459.21632846006804,
          456.7868197678534,
          451.5096098678162,
          454.944778273236,
          455.8607974930953,
          446.99909475493166,
          448.7515379655548,
          448.6917946617929,
          443.0859994648741,
          443.83278194919654,
          442.199806210964,
          442.8171654668731,
          437.8585854788672,
          443.88253443665394,
          445.6449558137314,
          448.0744558740918,
          436.1957424232133,
          426.8461496556583,
          424.2075518578343,
          421.1009730833674,
          427.7920861726623,
          424.03827430158674,
          414.1310743837082,
          417.1281313593151,
          427.81199451114253,
          423.17202427246684,
          413.01587985179475,
          404.66197685140884,
          404.33336872235236,
          402.3021786960967,
          394.09760596691245,
          401.445868845207,
          402.232487754698,
          406.8127064630349,
          402.06317652364294,
          392.4447754954125,
          395.32232829167623,
          396.0193127061059,
          393.4503911765343,
          397.73192883616974,
          405.28928143068714,
          413.59338646895515,
          414.66874649020866,
          414.4496997018534,
          415.64452986799046,
          412.25917707329523,
          414.8181054831775,
          414.4297896639024,
          414.031514862704,
          409.9690343792351,
          394.0777033552789,
          380.1677919929226,
          376.3144340743701,
          382.24879730696813,
          369.34455486458364,
          369.3800048828125,
          376.5299987792969,
          378.7200012207031,
          378.8299865722656,
          390.0899963378906,
          391.3599853515625,
          393.1600036621094,
          382.2699890136719,
          380.6600036621094,
          381.70001220703125,
          381.9800109863281,
          385.8699951171875,
          389.8299865722656,
          390.6400146484375,
          386.8699951171875,
          386.1600036621094,
          381.9200134277344,
          379.04998779296875,
          385.25,
          389.0899963378906,
          392.8699951171875,
          396.260009765625,
          398.8399963378906,
          400.17999267578125,
          396.4700012207031,
          394.05999755859375,
          402.8800048828125,
          406.79998779296875,
          413.0299987792969,
          413.4100036621094,
          413,
          415.67999267578125
         ],
         "low": [
          440.55238271204513,
          442.5574707707447,
          441.9321337308226,
          451.64984810655636,
          443.8975222297545,
          435.6985112163903,
          432.125106839446,
          439.9071839189706,
          438.6763505913553,
          433.19713948404967,
          428.63110912805354,
          422.715111247684,
          418.23843968692506,
          407.60752690084337,
          424.70032460606313,
          427.51937776112203,
          423.9558564779409,
          428.38294524046694,
          430.5964415094728,
          424.72018802141935,
          416.26309023319334,
          412.0544263774389,
          419.6975620210903,
          417.33513211268047,
          416.431874790774,
          412.71947633429505,
          415.33005945689666,
          421.66291173642605,
          429.99099234504166,
          435.3394729507525,
          438.78457299050746,
          443.9422822867515,
          441.80153454740395,
          442.84703316326824,
          446.5012330494063,
          448.124221814755,
          455.2135897363905,
          454.50666189192765,
          449.219502337516,
          447.2082137593184,
          450.31478456495114,
          447.885270255887,
          441.56258733148536,
          441.62233022230487,
          444.02196444720255,
          437.5001433604238,
          434.7719159375801,
          435.9567852966836,
          435.7974702638393,
          433.73637750200163,
          435.79746464992195,
          441.5725510335844,
          435.2199798831134,
          423.6101246566543,
          417.0385097400411,
          414.28043298395477,
          413.22499149476755,
          415.803863015228,
          409.44132517295606,
          403.2779327322578,
          411.5820812138742,
          411.9305848462734,
          407.6789521205968,
          403.9849141785273,
          394.7945975143392,
          393.1218205258092,
          390.27411936743766,
          383.4934189340363,
          393.9084209989808,
          395.88989059345045,
          400.8484493952417,
          388.87016698925527,
          385.4449831206161,
          378.90326335199177,
          388.70092011540953,
          385.295615233017,
          390.20444775195887,
          396.73623168080803,
          405.9464267176564,
          408.26640999327043,
          405.17974538965115,
          405.2892679178831,
          407.74866231541205,
          408.7841725605971,
          405.85680649349797,
          408.61491053390824,
          399.7133483886719,
          388.0736402962319,
          371.6943846879204,
          368.9960412886886,
          370.5194656131574,
          362.5140445640615,
          362.1700134277344,
          371.80999755859375,
          370.17999267578125,
          372.8900146484375,
          381.3699951171875,
          387.44000244140625,
          380.5299987792969,
          378.4200134277344,
          372.55999755859375,
          373.79998779296875,
          372.8999938964844,
          379.6000061035156,
          383.2699890136719,
          385.6600036621094,
          383.5,
          378.989990234375,
          374.6600036621094,
          371.0400085449219,
          380.5400085449219,
          380.6600036621094,
          385.3900146484375,
          391.0299987792969,
          391.6300048828125,
          392.75,
          393.2099914550781,
          389.95001220703125,
          394.04998779296875,
          398.1499938964844,
          406.7699890136719,
          408.3999938964844,
          406.82000732421875,
          410
         ],
         "open": [
          443.0537923566418,
          446.19044585550614,
          443.4309923531832,
          451.85828881501146,
          448.0069333379729,
          446.0911934028426,
          436.6713015169943,
          440.4531404379815,
          440.6516450858694,
          439.94691073606924,
          434.1003983603832,
          428.7006102208994,
          429.46491568846346,
          407.9846952375226,
          426.4374012047311,
          428.8395426454739,
          431.82731790505625,
          429.1770252763646,
          437.2171979124756,
          428.56160392086997,
          428.363071784738,
          416.52119487933925,
          422.00043653265294,
          419.39975837537787,
          424.9584361566884,
          417.7818198372349,
          416.67006572423463,
          426.71534960452595,
          430.3880323771567,
          436.11611687494,
          442.42883451976616,
          443.9422822867515,
          444.98778306752536,
          444.02195052128224,
          449.21950187964325,
          450.1156195139314,
          458.0413708040677,
          458.3600116357162,
          455.92056661950977,
          451.3602611116737,
          451.1810377275332,
          453.26203804372756,
          444.96789090038953,
          443.67346751760005,
          446.0432319739418,
          442.19981288051156,
          441.17425253254356,
          436.145970511024,
          441.6422177170919,
          434.9312283207124,
          435.97668314990744,
          444.9977576178341,
          446.61077732737715,
          435.0307917754761,
          421.8477522832064,
          423.9984332185752,
          415.4453804939464,
          420.47369324555655,
          421.768082085963,
          410.2976277772496,
          413.225008701923,
          415.2860852891552,
          422.72394762165095,
          409.3318122580711,
          403.3576137772858,
          402.7502112242886,
          396.35785524516746,
          387.6952694382017,
          395.0036958488813,
          398.2596588484922,
          404.7814722008762,
          401.7644790283345,
          386.94849816969116,
          391.55858771044626,
          391.14036405476344,
          390.87153482317746,
          390.6226242642382,
          396.9552866502971,
          406.15551496459744,
          411.77125910700835,
          413.38432497428226,
          407.65903603980377,
          410.62621630767,
          412.99598986027354,
          406.3447196081183,
          412.14962939730566,
          407.57936321880766,
          393.1815804363486,
          378.2162306703627,
          375.2291259503643,
          375.73691806649134,
          368.91641162743963,
          365.510009765625,
          371.8900146484375,
          370.6199951171875,
          376.6400146484375,
          381.3999938964844,
          391.04998779296875,
          390.2300109863281,
          381.2300109863281,
          376.239990234375,
          376.55999755859375,
          375.8800048828125,
          382.1099853515625,
          385.1199951171875,
          387.2699890136719,
          385.8500061035156,
          383.6499938964844,
          375.1000061035156,
          373.6099853515625,
          382.54998779296875,
          388.3800048828125,
          386.0799865722656,
          392.4700012207031,
          394.1600036621094,
          398.9200134277344,
          395.75,
          393.8399963378906,
          394.3599853515625,
          401.8900146484375,
          407.5799865722656,
          409.1499938964844,
          409.1199951171875,
          410.29998779296875
         ],
         "type": "candlestick",
         "x": [
          "02-04-2022",
          "02-07-2022",
          "02-08-2022",
          "02-09-2022",
          "02-10-2022",
          "02-11-2022",
          "02-14-2022",
          "02-15-2022",
          "02-16-2022",
          "02-17-2022",
          "02-18-2022",
          "02-22-2022",
          "02-23-2022",
          "02-24-2022",
          "02-25-2022",
          "02-28-2022",
          "03-01-2022",
          "03-02-2022",
          "03-03-2022",
          "03-04-2022",
          "03-07-2022",
          "03-08-2022",
          "03-09-2022",
          "03-10-2022",
          "03-11-2022",
          "03-14-2022",
          "03-15-2022",
          "03-16-2022",
          "03-17-2022",
          "03-18-2022",
          "03-21-2022",
          "03-22-2022",
          "03-23-2022",
          "03-24-2022",
          "03-25-2022",
          "03-28-2022",
          "03-29-2022",
          "03-30-2022",
          "03-31-2022",
          "04-01-2022",
          "04-04-2022",
          "04-05-2022",
          "04-06-2022",
          "04-07-2022",
          "04-08-2022",
          "04-11-2022",
          "04-12-2022",
          "04-13-2022",
          "04-14-2022",
          "04-18-2022",
          "04-19-2022",
          "04-20-2022",
          "04-21-2022",
          "04-22-2022",
          "04-25-2022",
          "04-26-2022",
          "04-27-2022",
          "04-28-2022",
          "04-29-2022",
          "05-02-2022",
          "05-03-2022",
          "05-04-2022",
          "05-05-2022",
          "05-06-2022",
          "05-09-2022",
          "05-10-2022",
          "05-11-2022",
          "05-12-2022",
          "05-13-2022",
          "05-16-2022",
          "05-17-2022",
          "05-18-2022",
          "05-19-2022",
          "05-20-2022",
          "05-23-2022",
          "05-24-2022",
          "05-25-2022",
          "05-26-2022",
          "05-27-2022",
          "05-31-2022",
          "06-01-2022",
          "06-02-2022",
          "06-03-2022",
          "06-06-2022",
          "06-07-2022",
          "06-08-2022",
          "06-09-2022",
          "06-10-2022",
          "06-13-2022",
          "06-14-2022",
          "06-15-2022",
          "06-16-2022",
          "06-17-2022",
          "06-21-2022",
          "06-22-2022",
          "06-23-2022",
          "06-24-2022",
          "06-27-2022",
          "06-28-2022",
          "06-29-2022",
          "06-30-2022",
          "07-01-2022",
          "07-05-2022",
          "07-06-2022",
          "07-07-2022",
          "07-08-2022",
          "07-11-2022",
          "07-12-2022",
          "07-13-2022",
          "07-14-2022",
          "07-15-2022",
          "07-18-2022",
          "07-19-2022",
          "07-20-2022",
          "07-21-2022",
          "07-22-2022",
          "07-25-2022",
          "07-26-2022",
          "07-27-2022",
          "07-28-2022",
          "07-29-2022",
          "08-01-2022",
          "08-02-2022",
          "08-03-2022"
         ]
        }
       ],
       "layout": {
        "height": 350,
        "template": {
         "data": {
          "bar": [
           {
            "error_x": {
             "color": "#2a3f5f"
            },
            "error_y": {
             "color": "#2a3f5f"
            },
            "marker": {
             "line": {
              "color": "#E5ECF6",
              "width": 0.5
             },
             "pattern": {
              "fillmode": "overlay",
              "size": 10,
              "solidity": 0.2
             }
            },
            "type": "bar"
           }
          ],
          "barpolar": [
           {
            "marker": {
             "line": {
              "color": "#E5ECF6",
              "width": 0.5
             },
             "pattern": {
              "fillmode": "overlay",
              "size": 10,
              "solidity": 0.2
             }
            },
            "type": "barpolar"
           }
          ],
          "carpet": [
           {
            "aaxis": {
             "endlinecolor": "#2a3f5f",
             "gridcolor": "white",
             "linecolor": "white",
             "minorgridcolor": "white",
             "startlinecolor": "#2a3f5f"
            },
            "baxis": {
             "endlinecolor": "#2a3f5f",
             "gridcolor": "white",
             "linecolor": "white",
             "minorgridcolor": "white",
             "startlinecolor": "#2a3f5f"
            },
            "type": "carpet"
           }
          ],
          "choropleth": [
           {
            "colorbar": {
             "outlinewidth": 0,
             "ticks": ""
            },
            "type": "choropleth"
           }
          ],
          "contour": [
           {
            "colorbar": {
             "outlinewidth": 0,
             "ticks": ""
            },
            "colorscale": [
             [
              0,
              "#0d0887"
             ],
             [
              0.1111111111111111,
              "#46039f"
             ],
             [
              0.2222222222222222,
              "#7201a8"
             ],
             [
              0.3333333333333333,
              "#9c179e"
             ],
             [
              0.4444444444444444,
              "#bd3786"
             ],
             [
              0.5555555555555556,
              "#d8576b"
             ],
             [
              0.6666666666666666,
              "#ed7953"
             ],
             [
              0.7777777777777778,
              "#fb9f3a"
             ],
             [
              0.8888888888888888,
              "#fdca26"
             ],
             [
              1,
              "#f0f921"
             ]
            ],
            "type": "contour"
           }
          ],
          "contourcarpet": [
           {
            "colorbar": {
             "outlinewidth": 0,
             "ticks": ""
            },
            "type": "contourcarpet"
           }
          ],
          "heatmap": [
           {
            "colorbar": {
             "outlinewidth": 0,
             "ticks": ""
            },
            "colorscale": [
             [
              0,
              "#0d0887"
             ],
             [
              0.1111111111111111,
              "#46039f"
             ],
             [
              0.2222222222222222,
              "#7201a8"
             ],
             [
              0.3333333333333333,
              "#9c179e"
             ],
             [
              0.4444444444444444,
              "#bd3786"
             ],
             [
              0.5555555555555556,
              "#d8576b"
             ],
             [
              0.6666666666666666,
              "#ed7953"
             ],
             [
              0.7777777777777778,
              "#fb9f3a"
             ],
             [
              0.8888888888888888,
              "#fdca26"
             ],
             [
              1,
              "#f0f921"
             ]
            ],
            "type": "heatmap"
           }
          ],
          "heatmapgl": [
           {
            "colorbar": {
             "outlinewidth": 0,
             "ticks": ""
            },
            "colorscale": [
             [
              0,
              "#0d0887"
             ],
             [
              0.1111111111111111,
              "#46039f"
             ],
             [
              0.2222222222222222,
              "#7201a8"
             ],
             [
              0.3333333333333333,
              "#9c179e"
             ],
             [
              0.4444444444444444,
              "#bd3786"
             ],
             [
              0.5555555555555556,
              "#d8576b"
             ],
             [
              0.6666666666666666,
              "#ed7953"
             ],
             [
              0.7777777777777778,
              "#fb9f3a"
             ],
             [
              0.8888888888888888,
              "#fdca26"
             ],
             [
              1,
              "#f0f921"
             ]
            ],
            "type": "heatmapgl"
           }
          ],
          "histogram": [
           {
            "marker": {
             "pattern": {
              "fillmode": "overlay",
              "size": 10,
              "solidity": 0.2
             }
            },
            "type": "histogram"
           }
          ],
          "histogram2d": [
           {
            "colorbar": {
             "outlinewidth": 0,
             "ticks": ""
            },
            "colorscale": [
             [
              0,
              "#0d0887"
             ],
             [
              0.1111111111111111,
              "#46039f"
             ],
             [
              0.2222222222222222,
              "#7201a8"
             ],
             [
              0.3333333333333333,
              "#9c179e"
             ],
             [
              0.4444444444444444,
              "#bd3786"
             ],
             [
              0.5555555555555556,
              "#d8576b"
             ],
             [
              0.6666666666666666,
              "#ed7953"
             ],
             [
              0.7777777777777778,
              "#fb9f3a"
             ],
             [
              0.8888888888888888,
              "#fdca26"
             ],
             [
              1,
              "#f0f921"
             ]
            ],
            "type": "histogram2d"
           }
          ],
          "histogram2dcontour": [
           {
            "colorbar": {
             "outlinewidth": 0,
             "ticks": ""
            },
            "colorscale": [
             [
              0,
              "#0d0887"
             ],
             [
              0.1111111111111111,
              "#46039f"
             ],
             [
              0.2222222222222222,
              "#7201a8"
             ],
             [
              0.3333333333333333,
              "#9c179e"
             ],
             [
              0.4444444444444444,
              "#bd3786"
             ],
             [
              0.5555555555555556,
              "#d8576b"
             ],
             [
              0.6666666666666666,
              "#ed7953"
             ],
             [
              0.7777777777777778,
              "#fb9f3a"
             ],
             [
              0.8888888888888888,
              "#fdca26"
             ],
             [
              1,
              "#f0f921"
             ]
            ],
            "type": "histogram2dcontour"
           }
          ],
          "mesh3d": [
           {
            "colorbar": {
             "outlinewidth": 0,
             "ticks": ""
            },
            "type": "mesh3d"
           }
          ],
          "parcoords": [
           {
            "line": {
             "colorbar": {
              "outlinewidth": 0,
              "ticks": ""
             }
            },
            "type": "parcoords"
           }
          ],
          "pie": [
           {
            "automargin": true,
            "type": "pie"
           }
          ],
          "scatter": [
           {
            "marker": {
             "colorbar": {
              "outlinewidth": 0,
              "ticks": ""
             }
            },
            "type": "scatter"
           }
          ],
          "scatter3d": [
           {
            "line": {
             "colorbar": {
              "outlinewidth": 0,
              "ticks": ""
             }
            },
            "marker": {
             "colorbar": {
              "outlinewidth": 0,
              "ticks": ""
             }
            },
            "type": "scatter3d"
           }
          ],
          "scattercarpet": [
           {
            "marker": {
             "colorbar": {
              "outlinewidth": 0,
              "ticks": ""
             }
            },
            "type": "scattercarpet"
           }
          ],
          "scattergeo": [
           {
            "marker": {
             "colorbar": {
              "outlinewidth": 0,
              "ticks": ""
             }
            },
            "type": "scattergeo"
           }
          ],
          "scattergl": [
           {
            "marker": {
             "colorbar": {
              "outlinewidth": 0,
              "ticks": ""
             }
            },
            "type": "scattergl"
           }
          ],
          "scattermapbox": [
           {
            "marker": {
             "colorbar": {
              "outlinewidth": 0,
              "ticks": ""
             }
            },
            "type": "scattermapbox"
           }
          ],
          "scatterpolar": [
           {
            "marker": {
             "colorbar": {
              "outlinewidth": 0,
              "ticks": ""
             }
            },
            "type": "scatterpolar"
           }
          ],
          "scatterpolargl": [
           {
            "marker": {
             "colorbar": {
              "outlinewidth": 0,
              "ticks": ""
             }
            },
            "type": "scatterpolargl"
           }
          ],
          "scatterternary": [
           {
            "marker": {
             "colorbar": {
              "outlinewidth": 0,
              "ticks": ""
             }
            },
            "type": "scatterternary"
           }
          ],
          "surface": [
           {
            "colorbar": {
             "outlinewidth": 0,
             "ticks": ""
            },
            "colorscale": [
             [
              0,
              "#0d0887"
             ],
             [
              0.1111111111111111,
              "#46039f"
             ],
             [
              0.2222222222222222,
              "#7201a8"
             ],
             [
              0.3333333333333333,
              "#9c179e"
             ],
             [
              0.4444444444444444,
              "#bd3786"
             ],
             [
              0.5555555555555556,
              "#d8576b"
             ],
             [
              0.6666666666666666,
              "#ed7953"
             ],
             [
              0.7777777777777778,
              "#fb9f3a"
             ],
             [
              0.8888888888888888,
              "#fdca26"
             ],
             [
              1,
              "#f0f921"
             ]
            ],
            "type": "surface"
           }
          ],
          "table": [
           {
            "cells": {
             "fill": {
              "color": "#EBF0F8"
             },
             "line": {
              "color": "white"
             }
            },
            "header": {
             "fill": {
              "color": "#C8D4E3"
             },
             "line": {
              "color": "white"
             }
            },
            "type": "table"
           }
          ]
         },
         "layout": {
          "annotationdefaults": {
           "arrowcolor": "#2a3f5f",
           "arrowhead": 0,
           "arrowwidth": 1
          },
          "autotypenumbers": "strict",
          "coloraxis": {
           "colorbar": {
            "outlinewidth": 0,
            "ticks": ""
           }
          },
          "colorscale": {
           "diverging": [
            [
             0,
             "#8e0152"
            ],
            [
             0.1,
             "#c51b7d"
            ],
            [
             0.2,
             "#de77ae"
            ],
            [
             0.3,
             "#f1b6da"
            ],
            [
             0.4,
             "#fde0ef"
            ],
            [
             0.5,
             "#f7f7f7"
            ],
            [
             0.6,
             "#e6f5d0"
            ],
            [
             0.7,
             "#b8e186"
            ],
            [
             0.8,
             "#7fbc41"
            ],
            [
             0.9,
             "#4d9221"
            ],
            [
             1,
             "#276419"
            ]
           ],
           "sequential": [
            [
             0,
             "#0d0887"
            ],
            [
             0.1111111111111111,
             "#46039f"
            ],
            [
             0.2222222222222222,
             "#7201a8"
            ],
            [
             0.3333333333333333,
             "#9c179e"
            ],
            [
             0.4444444444444444,
             "#bd3786"
            ],
            [
             0.5555555555555556,
             "#d8576b"
            ],
            [
             0.6666666666666666,
             "#ed7953"
            ],
            [
             0.7777777777777778,
             "#fb9f3a"
            ],
            [
             0.8888888888888888,
             "#fdca26"
            ],
            [
             1,
             "#f0f921"
            ]
           ],
           "sequentialminus": [
            [
             0,
             "#0d0887"
            ],
            [
             0.1111111111111111,
             "#46039f"
            ],
            [
             0.2222222222222222,
             "#7201a8"
            ],
            [
             0.3333333333333333,
             "#9c179e"
            ],
            [
             0.4444444444444444,
             "#bd3786"
            ],
            [
             0.5555555555555556,
             "#d8576b"
            ],
            [
             0.6666666666666666,
             "#ed7953"
            ],
            [
             0.7777777777777778,
             "#fb9f3a"
            ],
            [
             0.8888888888888888,
             "#fdca26"
            ],
            [
             1,
             "#f0f921"
            ]
           ]
          },
          "colorway": [
           "#636efa",
           "#EF553B",
           "#00cc96",
           "#ab63fa",
           "#FFA15A",
           "#19d3f3",
           "#FF6692",
           "#B6E880",
           "#FF97FF",
           "#FECB52"
          ],
          "font": {
           "color": "#2a3f5f"
          },
          "geo": {
           "bgcolor": "white",
           "lakecolor": "white",
           "landcolor": "#E5ECF6",
           "showlakes": true,
           "showland": true,
           "subunitcolor": "white"
          },
          "hoverlabel": {
           "align": "left"
          },
          "hovermode": "closest",
          "mapbox": {
           "style": "light"
          },
          "paper_bgcolor": "white",
          "plot_bgcolor": "#E5ECF6",
          "polar": {
           "angularaxis": {
            "gridcolor": "white",
            "linecolor": "white",
            "ticks": ""
           },
           "bgcolor": "#E5ECF6",
           "radialaxis": {
            "gridcolor": "white",
            "linecolor": "white",
            "ticks": ""
           }
          },
          "scene": {
           "xaxis": {
            "backgroundcolor": "#E5ECF6",
            "gridcolor": "white",
            "gridwidth": 2,
            "linecolor": "white",
            "showbackground": true,
            "ticks": "",
            "zerolinecolor": "white"
           },
           "yaxis": {
            "backgroundcolor": "#E5ECF6",
            "gridcolor": "white",
            "gridwidth": 2,
            "linecolor": "white",
            "showbackground": true,
            "ticks": "",
            "zerolinecolor": "white"
           },
           "zaxis": {
            "backgroundcolor": "#E5ECF6",
            "gridcolor": "white",
            "gridwidth": 2,
            "linecolor": "white",
            "showbackground": true,
            "ticks": "",
            "zerolinecolor": "white"
           }
          },
          "shapedefaults": {
           "line": {
            "color": "#2a3f5f"
           }
          },
          "ternary": {
           "aaxis": {
            "gridcolor": "white",
            "linecolor": "white",
            "ticks": ""
           },
           "baxis": {
            "gridcolor": "white",
            "linecolor": "white",
            "ticks": ""
           },
           "bgcolor": "#E5ECF6",
           "caxis": {
            "gridcolor": "white",
            "linecolor": "white",
            "ticks": ""
           }
          },
          "title": {
           "x": 0.05
          },
          "xaxis": {
           "automargin": true,
           "gridcolor": "white",
           "linecolor": "white",
           "ticks": "",
           "title": {
            "standoff": 15
           },
           "zerolinecolor": "white",
           "zerolinewidth": 2
          },
          "yaxis": {
           "automargin": true,
           "gridcolor": "white",
           "linecolor": "white",
           "ticks": "",
           "title": {
            "standoff": 15
           },
           "zerolinecolor": "white",
           "zerolinewidth": 2
          }
         }
        },
        "title": {
         "text": "SPY",
         "x": 0.5,
         "xanchor": "center",
         "y": 0.9,
         "yanchor": "top"
        },
        "width": 700,
        "xaxis": {
         "rangeslider": {
          "visible": false
         }
        }
       }
      },
      "text/html": [
       "<div>                            <div id=\"98658d2d-e1fa-4809-9d29-52b377d7eb4f\" class=\"plotly-graph-div\" style=\"height:350px; width:700px;\"></div>            <script type=\"text/javascript\">                require([\"plotly\"], function(Plotly) {                    window.PLOTLYENV=window.PLOTLYENV || {};                                    if (document.getElementById(\"98658d2d-e1fa-4809-9d29-52b377d7eb4f\")) {                    Plotly.newPlot(                        \"98658d2d-e1fa-4809-9d29-52b377d7eb4f\",                        [{\"close\":[445.3864440917969,443.9570617675781,447.6098937988281,454.1611633300781,446.0018615722656,437.207275390625,435.7779235839844,442.8056335449219,443.30194091796875,433.8323974609375,431.0233154296875,426.3977355957031,418.8340148925781,425.1370849609375,434.5173034667969,433.40557861328125,426.8046875,434.6562805175781,432.4923400878906,428.978515625,416.33258056640625,413.17608642578125,424.253662109375,422.3379211425781,416.9678955078125,413.9205322265625,423.0228271484375,432.40301513671875,437.81280517578125,442.6080627441406,442.4786376953125,447.65625,441.8911437988281,448.5523681640625,450.742919921875,453.9490661621094,459.5647888183594,456.7270812988281,449.69744873046875,450.9719543457031,454.8352355957031,449.0900573730469,444.5994567871094,446.83978271484375,445.64495849609375,438.0278625488281,436.4048767089844,441.40325927734375,435.9070129394531,436.08624267578125,443.1258239746094,442.7972412109375,436.17584228515625,424.2075500488281,426.66693115234375,414.310302734375,415.4752502441406,425.9699401855469,410.2279357910156,412.697265625,414.589111328125,427.2145690917969,412.0301513671875,409.5707702636719,396.4574279785156,397.3734436035156,391.06072998046875,390.6524963378906,399.9921569824219,398.3691711425781,406.56378173828125,390.1745300292969,387.7848815917969,387.95416259765625,395.2127990722656,392.1958312988281,395.6608581542969,403.56671142578125,413.4739074707031,411.1539306640625,407.82830810546875,415.5947570800781,408.77423095703125,410.01885986328125,413.95184326171875,409.4512939453125,399.7133483886719,388.1234130859375,373.3870849609375,372.2619323730469,377.56903076171875,365.072998046875,365.8599853515625,375.07000732421875,374.3900146484375,378.05999755859375,390.0799865722656,388.5899963378906,380.6499938964844,380.3399963378906,377.25,381.239990234375,381.9599914550781,383.25,388.989990234375,388.6700134277344,384.2300109863281,380.8299865722656,378.8299865722656,377.9100036621094,385.1300048828125,381.95001220703125,392.2699890136719,394.7699890136719,398.7900085449219,395.0899963378906,395.57000732421875,390.8900146484375,401.0400085449219,406.07000732421875,411.989990234375,410.7699890136719,408.05999755859375,414.45001220703125],\"high\":[449.43630070407,447.65949689077297,448.58266758500156,454.49864886021885,454.32988721085,448.2749286319551,438.3388878187776,442.98429700545154,444.7511505841454,443.2721777188983,435.42059355909936,432.28393669433757,430.0604908941165,425.59370977076026,434.6066351996629,434.9639917437823,433.94159309263273,436.47275298849456,437.8524558588223,430.1696356655506,429.1075331749042,424.05514078414564,426.33816006738925,423.2808873959564,425.60363001100905,421.41476475790466,423.6878623594226,432.4625696234906,437.81280517578125,442.9465967227538,444.5397112731872,448.6419821547783,446.5609739030577,448.5623348762496,451.0316810998012,453.94906616210943,460.0825716639469,459.21632846006804,456.7868197678534,451.5096098678162,454.944778273236,455.8607974930953,446.99909475493166,448.7515379655548,448.6917946617929,443.0859994648741,443.83278194919654,442.199806210964,442.8171654668731,437.8585854788672,443.88253443665394,445.6449558137314,448.0744558740918,436.1957424232133,426.8461496556583,424.2075518578343,421.1009730833674,427.7920861726623,424.03827430158674,414.1310743837082,417.1281313593151,427.81199451114253,423.17202427246684,413.01587985179475,404.66197685140884,404.33336872235236,402.3021786960967,394.09760596691245,401.445868845207,402.232487754698,406.8127064630349,402.06317652364294,392.4447754954125,395.32232829167623,396.0193127061059,393.4503911765343,397.73192883616974,405.28928143068714,413.59338646895515,414.66874649020866,414.4496997018534,415.64452986799046,412.25917707329523,414.8181054831775,414.4297896639024,414.031514862704,409.9690343792351,394.0777033552789,380.1677919929226,376.3144340743701,382.24879730696813,369.34455486458364,369.3800048828125,376.5299987792969,378.7200012207031,378.8299865722656,390.0899963378906,391.3599853515625,393.1600036621094,382.2699890136719,380.6600036621094,381.70001220703125,381.9800109863281,385.8699951171875,389.8299865722656,390.6400146484375,386.8699951171875,386.1600036621094,381.9200134277344,379.04998779296875,385.25,389.0899963378906,392.8699951171875,396.260009765625,398.8399963378906,400.17999267578125,396.4700012207031,394.05999755859375,402.8800048828125,406.79998779296875,413.0299987792969,413.4100036621094,413.0,415.67999267578125],\"low\":[440.55238271204513,442.5574707707447,441.9321337308226,451.64984810655636,443.8975222297545,435.6985112163903,432.125106839446,439.9071839189706,438.6763505913553,433.19713948404967,428.63110912805354,422.715111247684,418.23843968692506,407.60752690084337,424.70032460606313,427.51937776112203,423.9558564779409,428.38294524046694,430.5964415094728,424.72018802141935,416.26309023319334,412.0544263774389,419.6975620210903,417.33513211268047,416.431874790774,412.71947633429505,415.33005945689666,421.66291173642605,429.99099234504166,435.3394729507525,438.78457299050746,443.9422822867515,441.80153454740395,442.84703316326824,446.5012330494063,448.124221814755,455.2135897363905,454.50666189192765,449.219502337516,447.2082137593184,450.31478456495114,447.885270255887,441.56258733148536,441.62233022230487,444.02196444720255,437.5001433604238,434.7719159375801,435.9567852966836,435.7974702638393,433.73637750200163,435.79746464992195,441.5725510335844,435.2199798831134,423.6101246566543,417.0385097400411,414.28043298395477,413.22499149476755,415.803863015228,409.44132517295606,403.2779327322578,411.5820812138742,411.9305848462734,407.6789521205968,403.9849141785273,394.7945975143392,393.1218205258092,390.27411936743766,383.4934189340363,393.9084209989808,395.88989059345045,400.8484493952417,388.87016698925527,385.4449831206161,378.90326335199177,388.70092011540953,385.295615233017,390.20444775195887,396.73623168080803,405.9464267176564,408.26640999327043,405.17974538965115,405.2892679178831,407.74866231541205,408.7841725605971,405.85680649349797,408.61491053390824,399.7133483886719,388.0736402962319,371.6943846879204,368.9960412886886,370.5194656131574,362.5140445640615,362.1700134277344,371.80999755859375,370.17999267578125,372.8900146484375,381.3699951171875,387.44000244140625,380.5299987792969,378.4200134277344,372.55999755859375,373.79998779296875,372.8999938964844,379.6000061035156,383.2699890136719,385.6600036621094,383.5,378.989990234375,374.6600036621094,371.0400085449219,380.5400085449219,380.6600036621094,385.3900146484375,391.0299987792969,391.6300048828125,392.75,393.2099914550781,389.95001220703125,394.04998779296875,398.1499938964844,406.7699890136719,408.3999938964844,406.82000732421875,410.0],\"open\":[443.0537923566418,446.19044585550614,443.4309923531832,451.85828881501146,448.0069333379729,446.0911934028426,436.6713015169943,440.4531404379815,440.6516450858694,439.94691073606924,434.1003983603832,428.7006102208994,429.46491568846346,407.9846952375226,426.4374012047311,428.8395426454739,431.82731790505625,429.1770252763646,437.2171979124756,428.56160392086997,428.363071784738,416.52119487933925,422.00043653265294,419.39975837537787,424.9584361566884,417.7818198372349,416.67006572423463,426.71534960452595,430.3880323771567,436.11611687494,442.42883451976616,443.9422822867515,444.98778306752536,444.02195052128224,449.21950187964325,450.1156195139314,458.0413708040677,458.3600116357162,455.92056661950977,451.3602611116737,451.1810377275332,453.26203804372756,444.96789090038953,443.67346751760005,446.0432319739418,442.19981288051156,441.17425253254356,436.145970511024,441.6422177170919,434.9312283207124,435.97668314990744,444.9977576178341,446.61077732737715,435.0307917754761,421.8477522832064,423.9984332185752,415.4453804939464,420.47369324555655,421.768082085963,410.2976277772496,413.225008701923,415.2860852891552,422.72394762165095,409.3318122580711,403.3576137772858,402.7502112242886,396.35785524516746,387.6952694382017,395.0036958488813,398.2596588484922,404.7814722008762,401.7644790283345,386.94849816969116,391.55858771044626,391.14036405476344,390.87153482317746,390.6226242642382,396.9552866502971,406.15551496459744,411.77125910700835,413.38432497428226,407.65903603980377,410.62621630767,412.99598986027354,406.3447196081183,412.14962939730566,407.57936321880766,393.1815804363486,378.2162306703627,375.2291259503643,375.73691806649134,368.91641162743963,365.510009765625,371.8900146484375,370.6199951171875,376.6400146484375,381.3999938964844,391.04998779296875,390.2300109863281,381.2300109863281,376.239990234375,376.55999755859375,375.8800048828125,382.1099853515625,385.1199951171875,387.2699890136719,385.8500061035156,383.6499938964844,375.1000061035156,373.6099853515625,382.54998779296875,388.3800048828125,386.0799865722656,392.4700012207031,394.1600036621094,398.9200134277344,395.75,393.8399963378906,394.3599853515625,401.8900146484375,407.5799865722656,409.1499938964844,409.1199951171875,410.29998779296875],\"x\":[\"02-04-2022\",\"02-07-2022\",\"02-08-2022\",\"02-09-2022\",\"02-10-2022\",\"02-11-2022\",\"02-14-2022\",\"02-15-2022\",\"02-16-2022\",\"02-17-2022\",\"02-18-2022\",\"02-22-2022\",\"02-23-2022\",\"02-24-2022\",\"02-25-2022\",\"02-28-2022\",\"03-01-2022\",\"03-02-2022\",\"03-03-2022\",\"03-04-2022\",\"03-07-2022\",\"03-08-2022\",\"03-09-2022\",\"03-10-2022\",\"03-11-2022\",\"03-14-2022\",\"03-15-2022\",\"03-16-2022\",\"03-17-2022\",\"03-18-2022\",\"03-21-2022\",\"03-22-2022\",\"03-23-2022\",\"03-24-2022\",\"03-25-2022\",\"03-28-2022\",\"03-29-2022\",\"03-30-2022\",\"03-31-2022\",\"04-01-2022\",\"04-04-2022\",\"04-05-2022\",\"04-06-2022\",\"04-07-2022\",\"04-08-2022\",\"04-11-2022\",\"04-12-2022\",\"04-13-2022\",\"04-14-2022\",\"04-18-2022\",\"04-19-2022\",\"04-20-2022\",\"04-21-2022\",\"04-22-2022\",\"04-25-2022\",\"04-26-2022\",\"04-27-2022\",\"04-28-2022\",\"04-29-2022\",\"05-02-2022\",\"05-03-2022\",\"05-04-2022\",\"05-05-2022\",\"05-06-2022\",\"05-09-2022\",\"05-10-2022\",\"05-11-2022\",\"05-12-2022\",\"05-13-2022\",\"05-16-2022\",\"05-17-2022\",\"05-18-2022\",\"05-19-2022\",\"05-20-2022\",\"05-23-2022\",\"05-24-2022\",\"05-25-2022\",\"05-26-2022\",\"05-27-2022\",\"05-31-2022\",\"06-01-2022\",\"06-02-2022\",\"06-03-2022\",\"06-06-2022\",\"06-07-2022\",\"06-08-2022\",\"06-09-2022\",\"06-10-2022\",\"06-13-2022\",\"06-14-2022\",\"06-15-2022\",\"06-16-2022\",\"06-17-2022\",\"06-21-2022\",\"06-22-2022\",\"06-23-2022\",\"06-24-2022\",\"06-27-2022\",\"06-28-2022\",\"06-29-2022\",\"06-30-2022\",\"07-01-2022\",\"07-05-2022\",\"07-06-2022\",\"07-07-2022\",\"07-08-2022\",\"07-11-2022\",\"07-12-2022\",\"07-13-2022\",\"07-14-2022\",\"07-15-2022\",\"07-18-2022\",\"07-19-2022\",\"07-20-2022\",\"07-21-2022\",\"07-22-2022\",\"07-25-2022\",\"07-26-2022\",\"07-27-2022\",\"07-28-2022\",\"07-29-2022\",\"08-01-2022\",\"08-02-2022\",\"08-03-2022\"],\"type\":\"candlestick\"}],                        {\"template\":{\"data\":{\"bar\":[{\"error_x\":{\"color\":\"#2a3f5f\"},\"error_y\":{\"color\":\"#2a3f5f\"},\"marker\":{\"line\":{\"color\":\"#E5ECF6\",\"width\":0.5},\"pattern\":{\"fillmode\":\"overlay\",\"size\":10,\"solidity\":0.2}},\"type\":\"bar\"}],\"barpolar\":[{\"marker\":{\"line\":{\"color\":\"#E5ECF6\",\"width\":0.5},\"pattern\":{\"fillmode\":\"overlay\",\"size\":10,\"solidity\":0.2}},\"type\":\"barpolar\"}],\"carpet\":[{\"aaxis\":{\"endlinecolor\":\"#2a3f5f\",\"gridcolor\":\"white\",\"linecolor\":\"white\",\"minorgridcolor\":\"white\",\"startlinecolor\":\"#2a3f5f\"},\"baxis\":{\"endlinecolor\":\"#2a3f5f\",\"gridcolor\":\"white\",\"linecolor\":\"white\",\"minorgridcolor\":\"white\",\"startlinecolor\":\"#2a3f5f\"},\"type\":\"carpet\"}],\"choropleth\":[{\"colorbar\":{\"outlinewidth\":0,\"ticks\":\"\"},\"type\":\"choropleth\"}],\"contour\":[{\"colorbar\":{\"outlinewidth\":0,\"ticks\":\"\"},\"colorscale\":[[0.0,\"#0d0887\"],[0.1111111111111111,\"#46039f\"],[0.2222222222222222,\"#7201a8\"],[0.3333333333333333,\"#9c179e\"],[0.4444444444444444,\"#bd3786\"],[0.5555555555555556,\"#d8576b\"],[0.6666666666666666,\"#ed7953\"],[0.7777777777777778,\"#fb9f3a\"],[0.8888888888888888,\"#fdca26\"],[1.0,\"#f0f921\"]],\"type\":\"contour\"}],\"contourcarpet\":[{\"colorbar\":{\"outlinewidth\":0,\"ticks\":\"\"},\"type\":\"contourcarpet\"}],\"heatmap\":[{\"colorbar\":{\"outlinewidth\":0,\"ticks\":\"\"},\"colorscale\":[[0.0,\"#0d0887\"],[0.1111111111111111,\"#46039f\"],[0.2222222222222222,\"#7201a8\"],[0.3333333333333333,\"#9c179e\"],[0.4444444444444444,\"#bd3786\"],[0.5555555555555556,\"#d8576b\"],[0.6666666666666666,\"#ed7953\"],[0.7777777777777778,\"#fb9f3a\"],[0.8888888888888888,\"#fdca26\"],[1.0,\"#f0f921\"]],\"type\":\"heatmap\"}],\"heatmapgl\":[{\"colorbar\":{\"outlinewidth\":0,\"ticks\":\"\"},\"colorscale\":[[0.0,\"#0d0887\"],[0.1111111111111111,\"#46039f\"],[0.2222222222222222,\"#7201a8\"],[0.3333333333333333,\"#9c179e\"],[0.4444444444444444,\"#bd3786\"],[0.5555555555555556,\"#d8576b\"],[0.6666666666666666,\"#ed7953\"],[0.7777777777777778,\"#fb9f3a\"],[0.8888888888888888,\"#fdca26\"],[1.0,\"#f0f921\"]],\"type\":\"heatmapgl\"}],\"histogram\":[{\"marker\":{\"pattern\":{\"fillmode\":\"overlay\",\"size\":10,\"solidity\":0.2}},\"type\":\"histogram\"}],\"histogram2d\":[{\"colorbar\":{\"outlinewidth\":0,\"ticks\":\"\"},\"colorscale\":[[0.0,\"#0d0887\"],[0.1111111111111111,\"#46039f\"],[0.2222222222222222,\"#7201a8\"],[0.3333333333333333,\"#9c179e\"],[0.4444444444444444,\"#bd3786\"],[0.5555555555555556,\"#d8576b\"],[0.6666666666666666,\"#ed7953\"],[0.7777777777777778,\"#fb9f3a\"],[0.8888888888888888,\"#fdca26\"],[1.0,\"#f0f921\"]],\"type\":\"histogram2d\"}],\"histogram2dcontour\":[{\"colorbar\":{\"outlinewidth\":0,\"ticks\":\"\"},\"colorscale\":[[0.0,\"#0d0887\"],[0.1111111111111111,\"#46039f\"],[0.2222222222222222,\"#7201a8\"],[0.3333333333333333,\"#9c179e\"],[0.4444444444444444,\"#bd3786\"],[0.5555555555555556,\"#d8576b\"],[0.6666666666666666,\"#ed7953\"],[0.7777777777777778,\"#fb9f3a\"],[0.8888888888888888,\"#fdca26\"],[1.0,\"#f0f921\"]],\"type\":\"histogram2dcontour\"}],\"mesh3d\":[{\"colorbar\":{\"outlinewidth\":0,\"ticks\":\"\"},\"type\":\"mesh3d\"}],\"parcoords\":[{\"line\":{\"colorbar\":{\"outlinewidth\":0,\"ticks\":\"\"}},\"type\":\"parcoords\"}],\"pie\":[{\"automargin\":true,\"type\":\"pie\"}],\"scatter\":[{\"marker\":{\"colorbar\":{\"outlinewidth\":0,\"ticks\":\"\"}},\"type\":\"scatter\"}],\"scatter3d\":[{\"line\":{\"colorbar\":{\"outlinewidth\":0,\"ticks\":\"\"}},\"marker\":{\"colorbar\":{\"outlinewidth\":0,\"ticks\":\"\"}},\"type\":\"scatter3d\"}],\"scattercarpet\":[{\"marker\":{\"colorbar\":{\"outlinewidth\":0,\"ticks\":\"\"}},\"type\":\"scattercarpet\"}],\"scattergeo\":[{\"marker\":{\"colorbar\":{\"outlinewidth\":0,\"ticks\":\"\"}},\"type\":\"scattergeo\"}],\"scattergl\":[{\"marker\":{\"colorbar\":{\"outlinewidth\":0,\"ticks\":\"\"}},\"type\":\"scattergl\"}],\"scattermapbox\":[{\"marker\":{\"colorbar\":{\"outlinewidth\":0,\"ticks\":\"\"}},\"type\":\"scattermapbox\"}],\"scatterpolar\":[{\"marker\":{\"colorbar\":{\"outlinewidth\":0,\"ticks\":\"\"}},\"type\":\"scatterpolar\"}],\"scatterpolargl\":[{\"marker\":{\"colorbar\":{\"outlinewidth\":0,\"ticks\":\"\"}},\"type\":\"scatterpolargl\"}],\"scatterternary\":[{\"marker\":{\"colorbar\":{\"outlinewidth\":0,\"ticks\":\"\"}},\"type\":\"scatterternary\"}],\"surface\":[{\"colorbar\":{\"outlinewidth\":0,\"ticks\":\"\"},\"colorscale\":[[0.0,\"#0d0887\"],[0.1111111111111111,\"#46039f\"],[0.2222222222222222,\"#7201a8\"],[0.3333333333333333,\"#9c179e\"],[0.4444444444444444,\"#bd3786\"],[0.5555555555555556,\"#d8576b\"],[0.6666666666666666,\"#ed7953\"],[0.7777777777777778,\"#fb9f3a\"],[0.8888888888888888,\"#fdca26\"],[1.0,\"#f0f921\"]],\"type\":\"surface\"}],\"table\":[{\"cells\":{\"fill\":{\"color\":\"#EBF0F8\"},\"line\":{\"color\":\"white\"}},\"header\":{\"fill\":{\"color\":\"#C8D4E3\"},\"line\":{\"color\":\"white\"}},\"type\":\"table\"}]},\"layout\":{\"annotationdefaults\":{\"arrowcolor\":\"#2a3f5f\",\"arrowhead\":0,\"arrowwidth\":1},\"autotypenumbers\":\"strict\",\"coloraxis\":{\"colorbar\":{\"outlinewidth\":0,\"ticks\":\"\"}},\"colorscale\":{\"diverging\":[[0,\"#8e0152\"],[0.1,\"#c51b7d\"],[0.2,\"#de77ae\"],[0.3,\"#f1b6da\"],[0.4,\"#fde0ef\"],[0.5,\"#f7f7f7\"],[0.6,\"#e6f5d0\"],[0.7,\"#b8e186\"],[0.8,\"#7fbc41\"],[0.9,\"#4d9221\"],[1,\"#276419\"]],\"sequential\":[[0.0,\"#0d0887\"],[0.1111111111111111,\"#46039f\"],[0.2222222222222222,\"#7201a8\"],[0.3333333333333333,\"#9c179e\"],[0.4444444444444444,\"#bd3786\"],[0.5555555555555556,\"#d8576b\"],[0.6666666666666666,\"#ed7953\"],[0.7777777777777778,\"#fb9f3a\"],[0.8888888888888888,\"#fdca26\"],[1.0,\"#f0f921\"]],\"sequentialminus\":[[0.0,\"#0d0887\"],[0.1111111111111111,\"#46039f\"],[0.2222222222222222,\"#7201a8\"],[0.3333333333333333,\"#9c179e\"],[0.4444444444444444,\"#bd3786\"],[0.5555555555555556,\"#d8576b\"],[0.6666666666666666,\"#ed7953\"],[0.7777777777777778,\"#fb9f3a\"],[0.8888888888888888,\"#fdca26\"],[1.0,\"#f0f921\"]]},\"colorway\":[\"#636efa\",\"#EF553B\",\"#00cc96\",\"#ab63fa\",\"#FFA15A\",\"#19d3f3\",\"#FF6692\",\"#B6E880\",\"#FF97FF\",\"#FECB52\"],\"font\":{\"color\":\"#2a3f5f\"},\"geo\":{\"bgcolor\":\"white\",\"lakecolor\":\"white\",\"landcolor\":\"#E5ECF6\",\"showlakes\":true,\"showland\":true,\"subunitcolor\":\"white\"},\"hoverlabel\":{\"align\":\"left\"},\"hovermode\":\"closest\",\"mapbox\":{\"style\":\"light\"},\"paper_bgcolor\":\"white\",\"plot_bgcolor\":\"#E5ECF6\",\"polar\":{\"angularaxis\":{\"gridcolor\":\"white\",\"linecolor\":\"white\",\"ticks\":\"\"},\"bgcolor\":\"#E5ECF6\",\"radialaxis\":{\"gridcolor\":\"white\",\"linecolor\":\"white\",\"ticks\":\"\"}},\"scene\":{\"xaxis\":{\"backgroundcolor\":\"#E5ECF6\",\"gridcolor\":\"white\",\"gridwidth\":2,\"linecolor\":\"white\",\"showbackground\":true,\"ticks\":\"\",\"zerolinecolor\":\"white\"},\"yaxis\":{\"backgroundcolor\":\"#E5ECF6\",\"gridcolor\":\"white\",\"gridwidth\":2,\"linecolor\":\"white\",\"showbackground\":true,\"ticks\":\"\",\"zerolinecolor\":\"white\"},\"zaxis\":{\"backgroundcolor\":\"#E5ECF6\",\"gridcolor\":\"white\",\"gridwidth\":2,\"linecolor\":\"white\",\"showbackground\":true,\"ticks\":\"\",\"zerolinecolor\":\"white\"}},\"shapedefaults\":{\"line\":{\"color\":\"#2a3f5f\"}},\"ternary\":{\"aaxis\":{\"gridcolor\":\"white\",\"linecolor\":\"white\",\"ticks\":\"\"},\"baxis\":{\"gridcolor\":\"white\",\"linecolor\":\"white\",\"ticks\":\"\"},\"bgcolor\":\"#E5ECF6\",\"caxis\":{\"gridcolor\":\"white\",\"linecolor\":\"white\",\"ticks\":\"\"}},\"title\":{\"x\":0.05},\"xaxis\":{\"automargin\":true,\"gridcolor\":\"white\",\"linecolor\":\"white\",\"ticks\":\"\",\"title\":{\"standoff\":15},\"zerolinecolor\":\"white\",\"zerolinewidth\":2},\"yaxis\":{\"automargin\":true,\"gridcolor\":\"white\",\"linecolor\":\"white\",\"ticks\":\"\",\"title\":{\"standoff\":15},\"zerolinecolor\":\"white\",\"zerolinewidth\":2}}},\"title\":{\"text\":\"SPY\",\"y\":0.9,\"x\":0.5,\"xanchor\":\"center\",\"yanchor\":\"top\"},\"width\":700,\"height\":350,\"xaxis\":{\"rangeslider\":{\"visible\":false}}},                        {\"responsive\": true}                    ).then(function(){\n",
       "                            \n",
       "var gd = document.getElementById('98658d2d-e1fa-4809-9d29-52b377d7eb4f');\n",
       "var x = new MutationObserver(function (mutations, observer) {{\n",
       "        var display = window.getComputedStyle(gd).display;\n",
       "        if (!display || display === 'none') {{\n",
       "            console.log([gd, 'removed!']);\n",
       "            Plotly.purge(gd);\n",
       "            observer.disconnect();\n",
       "        }}\n",
       "}});\n",
       "\n",
       "// Listen for the removal of the full notebook cells\n",
       "var notebookContainer = gd.closest('#notebook-container');\n",
       "if (notebookContainer) {{\n",
       "    x.observe(notebookContainer, {childList: true});\n",
       "}}\n",
       "\n",
       "// Listen for the clearing of the current output cell\n",
       "var outputEl = gd.closest('.output');\n",
       "if (outputEl) {{\n",
       "    x.observe(outputEl, {childList: true});\n",
       "}}\n",
       "\n",
       "                        })                };                });            </script>        </div>"
      ]
     },
     "metadata": {},
     "output_type": "display_data"
    }
   ],
   "source": [
    "dateStr = spy.index.strftime(\"%m-%d-%Y\")\n",
    "\n",
    "fig = go.Figure(data=[go.Candlestick(x=dateStr,\n",
    "                   open=spy['Open'],\n",
    "                   high=spy['High'],\n",
    "                   low=spy['Low'],\n",
    "                   close=spy['Close'])])\n",
    "\n",
    "fig.update_layout(\n",
    "    title={\n",
    "        'text': \"SPY\",\n",
    "        'y':.9,\n",
    "        'x':0.5,\n",
    "        'xanchor': 'center',\n",
    "        'yanchor': 'top'},\n",
    "    width=700, height=350)\n",
    "fig.update_layout(xaxis_rangeslider_visible=False)\n",
    "\n",
    "fig.show()"
   ]
  },
  {
   "cell_type": "markdown",
   "id": "0f7d83e5",
   "metadata": {},
   "source": [
    "# Let's create a simple df comparing returns for all accounts vs. reference indices that we will post in Streamlit"
   ]
  },
  {
   "cell_type": "code",
   "execution_count": 183,
   "id": "3318e7fc",
   "metadata": {},
   "outputs": [
    {
     "data": {
      "text/plain": [
       "[-6.9, -2.4]"
      ]
     },
     "execution_count": 183,
     "metadata": {},
     "output_type": "execute_result"
    }
   ],
   "source": [
    "reference_stocks = [spy, ibb]\n",
    "reference_stock_names = ['SPY', 'IBB']\n",
    "\n",
    "references_returns = [round(((stock['Close'][-1] - stock['Close'][0]) / stock['Close'][0]) * 100, 1) for stock in reference_stocks]\n",
    "\n",
    "references_returns"
   ]
  },
  {
   "cell_type": "code",
   "execution_count": 184,
   "id": "edb1f4e2",
   "metadata": {},
   "outputs": [
    {
     "data": {
      "text/html": [
       "<div>\n",
       "<style scoped>\n",
       "    .dataframe tbody tr th:only-of-type {\n",
       "        vertical-align: middle;\n",
       "    }\n",
       "\n",
       "    .dataframe tbody tr th {\n",
       "        vertical-align: top;\n",
       "    }\n",
       "\n",
       "    .dataframe thead th {\n",
       "        text-align: right;\n",
       "    }\n",
       "</style>\n",
       "<table border=\"1\" class=\"dataframe\">\n",
       "  <thead>\n",
       "    <tr style=\"text-align: right;\">\n",
       "      <th></th>\n",
       "      <th>% Return</th>\n",
       "    </tr>\n",
       "  </thead>\n",
       "  <tbody>\n",
       "    <tr>\n",
       "      <th>SPY</th>\n",
       "      <td>-6.9</td>\n",
       "    </tr>\n",
       "    <tr>\n",
       "      <th>IBB</th>\n",
       "      <td>-2.4</td>\n",
       "    </tr>\n",
       "  </tbody>\n",
       "</table>\n",
       "</div>"
      ],
      "text/plain": [
       "     % Return\n",
       "SPY      -6.9\n",
       "IBB      -2.4"
      ]
     },
     "execution_count": 184,
     "metadata": {},
     "output_type": "execute_result"
    }
   ],
   "source": [
    "references_returns_df = pd.DataFrame(references_returns, index=reference_stock_names,\n",
    "                                    columns=['% Return'])\n",
    "references_returns_df"
   ]
  },
  {
   "cell_type": "code",
   "execution_count": 180,
   "id": "81213a8a",
   "metadata": {},
   "outputs": [
    {
     "name": "stdout",
     "output_type": "stream",
     "text": [
      "['All Accounts', 'TXG', 'ALLO', 'GBIO', 'IBB', 'NKTR', 'XBI', 'SPY']\n"
     ]
    },
    {
     "data": {
      "text/plain": [
       "[-14.6, -53.0, 23.6, 28.9, -2.4, -57.3, -7.4, -7.0]"
      ]
     },
     "execution_count": 180,
     "metadata": {},
     "output_type": "execute_result"
    }
   ],
   "source": [
    "portfolio_stocks = [all_accounts_df] + portfolio_dfs.copy()\n",
    "# portfolio_stocks.append(portfolio_dfs.copy())\n",
    "portfolio_stock_names = ['All Accounts', 'TXG', 'ALLO', 'GBIO', 'IBB', 'NKTR', 'XBI', 'SPY']\n",
    "\n",
    "portfolio_returns = [round(((stock['Close'][-1] - stock['Close'][0]) / stock['Close'][0]) * 100, 1) for stock in portfolio_stocks]\n",
    "\n",
    "print(portfolio_stock_names)\n",
    "portfolio_returns"
   ]
  },
  {
   "cell_type": "code",
   "execution_count": 186,
   "id": "2f81bb64",
   "metadata": {},
   "outputs": [
    {
     "data": {
      "text/html": [
       "<div>\n",
       "<style scoped>\n",
       "    .dataframe tbody tr th:only-of-type {\n",
       "        vertical-align: middle;\n",
       "    }\n",
       "\n",
       "    .dataframe tbody tr th {\n",
       "        vertical-align: top;\n",
       "    }\n",
       "\n",
       "    .dataframe thead th {\n",
       "        text-align: right;\n",
       "    }\n",
       "</style>\n",
       "<table border=\"1\" class=\"dataframe\">\n",
       "  <thead>\n",
       "    <tr style=\"text-align: right;\">\n",
       "      <th></th>\n",
       "      <th>% Return</th>\n",
       "    </tr>\n",
       "  </thead>\n",
       "  <tbody>\n",
       "    <tr>\n",
       "      <th>All Accounts</th>\n",
       "      <td>-14.6</td>\n",
       "    </tr>\n",
       "    <tr>\n",
       "      <th>TXG</th>\n",
       "      <td>-53.0</td>\n",
       "    </tr>\n",
       "    <tr>\n",
       "      <th>ALLO</th>\n",
       "      <td>23.6</td>\n",
       "    </tr>\n",
       "    <tr>\n",
       "      <th>GBIO</th>\n",
       "      <td>28.9</td>\n",
       "    </tr>\n",
       "    <tr>\n",
       "      <th>IBB</th>\n",
       "      <td>-2.4</td>\n",
       "    </tr>\n",
       "    <tr>\n",
       "      <th>NKTR</th>\n",
       "      <td>-57.3</td>\n",
       "    </tr>\n",
       "    <tr>\n",
       "      <th>XBI</th>\n",
       "      <td>-7.4</td>\n",
       "    </tr>\n",
       "    <tr>\n",
       "      <th>SPY</th>\n",
       "      <td>-7.0</td>\n",
       "    </tr>\n",
       "  </tbody>\n",
       "</table>\n",
       "</div>"
      ],
      "text/plain": [
       "              % Return\n",
       "All Accounts     -14.6\n",
       "TXG              -53.0\n",
       "ALLO              23.6\n",
       "GBIO              28.9\n",
       "IBB               -2.4\n",
       "NKTR             -57.3\n",
       "XBI               -7.4\n",
       "SPY               -7.0"
      ]
     },
     "execution_count": 186,
     "metadata": {},
     "output_type": "execute_result"
    }
   ],
   "source": [
    "portfolio_returns_df = pd.DataFrame(portfolio_returns, index=portfolio_stock_names,\n",
    "                                    columns=['% Return'])\n",
    "portfolio_returns_df"
   ]
  }
 ],
 "metadata": {
  "kernelspec": {
   "display_name": "Python 3 (ipykernel)",
   "language": "python",
   "name": "python3"
  },
  "language_info": {
   "codemirror_mode": {
    "name": "ipython",
    "version": 3
   },
   "file_extension": ".py",
   "mimetype": "text/x-python",
   "name": "python",
   "nbconvert_exporter": "python",
   "pygments_lexer": "ipython3",
   "version": "3.8.8"
  }
 },
 "nbformat": 4,
 "nbformat_minor": 5
}
